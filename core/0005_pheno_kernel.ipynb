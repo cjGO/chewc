{
 "cells": [
  {
   "cell_type": "code",
   "execution_count": 2,
   "id": "3cac6389",
   "metadata": {},
   "outputs": [],
   "source": [
    "#| default_exp k_pheno"
   ]
  },
  {
   "cell_type": "markdown",
   "id": "320c9b42",
   "metadata": {},
   "source": []
  },
  {
   "cell_type": "code",
   "execution_count": 3,
   "id": "599d71c8",
   "metadata": {},
   "outputs": [],
   "source": [
    "#| export\n",
    "from __future__ import annotations\n",
    "import jax, jax.numpy as jnp\n",
    "from jax import random\n"
   ]
  },
  {
   "cell_type": "code",
   "execution_count": 4,
   "id": "b35a5a82",
   "metadata": {},
   "outputs": [],
   "source": [
    "#| export\n",
    "#chewc/k_select.py\n",
    "\n",
    "def compute_bv_additive(\n",
    "    geno: jnp.ndarray,        # (N, n_chr, ploidy, n_loci)\n",
    "    is_active: jnp.ndarray,   # (N,)\n",
    "    trait_effects: jnp.ndarray,  # (n_chr, n_loci, T)\n",
    "    ploidy: int,\n",
    ") -> jnp.ndarray:\n",
    "    \"\"\"\n",
    "    Sum allele effects per locus and chr; return (N, T) BV.\n",
    "    Assumes trait_effects aligns with loci per chr (no ragged).\n",
    "    \"\"\"\n",
    "    # dosage across ploidy: (N, n_chr, n_loci)\n",
    "    dosage = jnp.sum(geno, axis=2)\n",
    "    # per-trait sum: (N, n_chr, T)\n",
    "    per_chr = jnp.einsum(\"ncl,clt->nct\", dosage, trait_effects)\n",
    "    bv = jnp.sum(per_chr, axis=1)  # (N, T)\n",
    "    # keep inactive rows (not strictly needed, but harmless)\n",
    "    return bv\n",
    "\n",
    "def add_env_noise(\n",
    "    key: jax.Array,\n",
    "    bv: jnp.ndarray,          # (N, T)\n",
    "    is_active: jnp.ndarray,   # (N,)\n",
    "    h2: jnp.ndarray,          # (T,)\n",
    ") -> jnp.ndarray:\n",
    "    \"\"\"\n",
    "    Phenotype = BV + e, with Var(e) = Var(BV)*(1-h2)/h2 per trait.\n",
    "    Uses per-trait empirical var(BV_active) to scale noise.\n",
    "    \"\"\"\n",
    "    N, T = bv.shape\n",
    "    # compute var on active only\n",
    "    active = is_active\n",
    "    bv_act = jnp.where(active[:, None], bv, jnp.nan)\n",
    "    mean_bv = jnp.nanmean(bv_act, axis=0)\n",
    "    var_bv  = jnp.nanvar(bv_act, axis=0) + 1e-8\n",
    "    var_e   = var_bv * (1.0 - h2) / jnp.clip(h2, 1e-8, 1.0 - 1e-8)\n",
    "\n",
    "    key_noise = key\n",
    "    noise = random.normal(key_noise, shape=(N, T)) * jnp.sqrt(var_e)[None, :]\n",
    "    pheno = bv + jnp.where(active[:, None], noise, 0.0)\n",
    "    return pheno\n",
    "\n",
    "def set_pheno_kernel(\n",
    "    key: jax.Array,\n",
    "    geno: jnp.ndarray,\n",
    "    is_active: jnp.ndarray,\n",
    "    trait_effects: jnp.ndarray,  # (n_chr, n_loci, T)\n",
    "    ploidy: int,\n",
    "    h2: jnp.ndarray,             # (T,)\n",
    "):\n",
    "    \"\"\"\n",
    "    Returns (bv, pheno), both (N, T). Only active rows get fresh noise.\n",
    "    \"\"\"\n",
    "    bv = compute_bv_additive(geno, is_active, trait_effects, ploidy)\n",
    "    pheno = add_env_noise(key, bv, is_active, h2)\n",
    "    return bv, pheno\n"
   ]
  },
  {
   "cell_type": "code",
   "execution_count": 5,
   "id": "af484363",
   "metadata": {},
   "outputs": [],
   "source": [
    "#| hide\n",
    "import nbdev; nbdev.nbdev_export()"
   ]
  }
 ],
 "metadata": {
  "kernelspec": {
   "display_name": "Python 3",
   "language": "python",
   "name": "python3"
  },
  "language_info": {
   "codemirror_mode": {
    "name": "ipython",
    "version": 3
   },
   "file_extension": ".py",
   "mimetype": "text/x-python",
   "name": "python",
   "nbconvert_exporter": "python",
   "pygments_lexer": "ipython3",
   "version": "3.10.12"
  }
 },
 "nbformat": 4,
 "nbformat_minor": 5
}
