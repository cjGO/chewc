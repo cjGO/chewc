{
 "cells": [
  {
   "cell_type": "markdown",
   "metadata": {},
   "source": [
    "# core\n",
    "\n",
    "> Fill in a module description here"
   ]
  },
  {
   "cell_type": "code",
   "execution_count": null,
   "metadata": {},
   "outputs": [],
   "source": [
    "#| default_exp phenotype"
   ]
  },
  {
   "cell_type": "code",
   "execution_count": null,
   "metadata": {},
   "outputs": [],
   "source": [
    "#| hide\n",
    "from nbdev.showdoc import *"
   ]
  },
  {
   "cell_type": "code",
   "execution_count": null,
   "metadata": {},
   "outputs": [],
   "source": [
    "#| export\n",
    "# chewc/pheno.py\n",
    "\n",
    "from typing import Optional\n",
    "from functools import partial\n",
    "\n",
    "import jax\n",
    "import jax.numpy as jnp\n",
    "from jaxtyping import Array, Float\n",
    "\n",
    "from chewc.population import Population\n",
    "from chewc.trait import TraitCollection, _calculate_gvs_vectorized_alternative # IMPORT FIXED\n",
    "\n",
    "\n",
    "@partial(jax.jit, static_argnames=(\"ploidy\",))\n",
    "def _set_pheno_internal(\n",
    "    key: jax.random.PRNGKey,\n",
    "    pop: Population,\n",
    "    traits: TraitCollection,\n",
    "    ploidy: int,\n",
    "    h2: Float[Array, \"nTraits\"],\n",
    "    cor_e: Optional[Float[Array, \"nTraits nTraits\"]] = None,\n",
    ") -> Population:\n",
    "    \"\"\"Internal, JITted function to set phenotypes.\"\"\"\n",
    "    n_traits = traits.n_traits\n",
    "    if cor_e is None:\n",
    "        cor_e = jnp.identity(n_traits)\n",
    "\n",
    "    # 1. Calculate genetic values (now uses the imported function)\n",
    "    gvs = _calculate_gvs_vectorized_alternative(pop, traits, ploidy)\n",
    "\n",
    "    # 2. Calculate environmental noise\n",
    "    var_g = jnp.var(gvs, axis=0)\n",
    "    var_e = (var_g / h2) - var_g\n",
    "    cov_e = jnp.diag(jnp.sqrt(jnp.maximum(var_e, 0))) @ cor_e @ jnp.diag(jnp.sqrt(jnp.maximum(var_e, 0)))\n",
    "    \n",
    "    environmental_noise = jax.random.multivariate_normal(\n",
    "        key, jnp.zeros(n_traits), cov_e, (pop.nInd,)\n",
    "    )\n",
    "\n",
    "    pheno = gvs + environmental_noise\n",
    "\n",
    "    # 3. Update population object with all new values\n",
    "    return pop.replace(\n",
    "        pheno=pheno,\n",
    "        bv=gvs - traits.intercept # Assuming additive model for now\n",
    "    )\n",
    "\n",
    "def set_pheno(\n",
    "    key: jax.random.PRNGKey,\n",
    "    pop: Population,\n",
    "    traits: TraitCollection,\n",
    "    ploidy: int,\n",
    "    h2: Float[Array, \"nTraits\"],\n",
    "    cor_e: Optional[Float[Array, \"nTraits nTraits\"]] = None,\n",
    ") -> Population:\n",
    "    \"\"\"JIT-compatible wrapper to set phenotypes.\"\"\"\n",
    "    return _set_pheno_internal(key, pop, traits, ploidy, h2, cor_e)"
   ]
  },
  {
   "cell_type": "code",
   "execution_count": null,
   "metadata": {},
   "outputs": [],
   "source": [
    "#| hide\n",
    "import nbdev; nbdev.nbdev_export()"
   ]
  },
  {
   "cell_type": "code",
   "execution_count": null,
   "metadata": {},
   "outputs": [],
   "source": []
  }
 ],
 "metadata": {
  "kernelspec": {
   "display_name": "python3",
   "language": "python",
   "name": "python3"
  }
 },
 "nbformat": 4,
 "nbformat_minor": 4
}
