{
 "cells": [
  {
   "cell_type": "markdown",
   "metadata": {},
   "source": [
    "# core\n",
    "\n",
    "> Fill in a module description here"
   ]
  },
  {
   "cell_type": "code",
   "execution_count": 1,
   "metadata": {},
   "outputs": [],
   "source": [
    "#| default_exp phenotype"
   ]
  },
  {
   "cell_type": "code",
   "execution_count": 2,
   "metadata": {},
   "outputs": [],
   "source": [
    "#| hide\n",
    "from nbdev.showdoc import *"
   ]
  },
  {
   "cell_type": "code",
   "execution_count": 3,
   "metadata": {},
   "outputs": [],
   "source": [
    "#| export\n",
    "# chewc/phenotype.py\n",
    "\n",
    "from typing import Optional\n",
    "from functools import partial\n",
    "\n",
    "import jax\n",
    "import jax.numpy as jnp\n",
    "from jaxtyping import Array, Float\n",
    "\n",
    "from chewc.population import Population\n",
    "from chewc.trait import TraitCollection, _calculate_gvs_vectorized_alternative # IMPORT FIXED\n",
    "from jaxtyping import Array, Float, Int\n",
    "\n",
    "\n",
    "# This function remains a core, JIT-able utility\n",
    "def _calculate_gvs_vectorized_alternative(\n",
    "    pop: Population,\n",
    "    traits: TraitCollection,\n",
    "    ploidy: int\n",
    ") -> tuple[Float[Array, \"nInd nTraits\"], Float[Array, \"nInd nTraits\"]]:\n",
    "    \"\"\"\n",
    "    Calculates all genetic values using a single, highly-optimized matrix\n",
    "    multiplication.\n",
    "    \"\"\"\n",
    "    flat_geno_alleles = pop.geno.transpose((0, 1, 3, 2)).reshape(pop.nInd, -1, ploidy)\n",
    "    qtl_alleles = flat_geno_alleles[:, traits.loci_loc, :]\n",
    "    qtl_geno = jnp.sum(qtl_alleles, axis=2)\n",
    "    all_bv = jnp.dot(qtl_geno, traits.add_eff.T)\n",
    "    all_gvs = all_bv + traits.intercept\n",
    "    return all_bv, all_gvs\n",
    "\n",
    "# NEW: A simplified internal function for just the noise calculation\n",
    "def _add_environmental_noise(\n",
    "    key: jax.random.PRNGKey,\n",
    "    gvs: Float[Array, \"nInd nTraits\"],\n",
    "    var_e: Float[Array, \"nTraits\"],\n",
    "    cor_e: Float[Array, \"nTraits nTraits\"],\n",
    ") -> Float[Array, \"nInd nTraits\"]:\n",
    "    \"\"\"\n",
    "    Internal JIT-able function to generate and add environmental noise.\n",
    "    \"\"\"\n",
    "    n_ind, n_traits = gvs.shape\n",
    "    cov_e = jnp.diag(jnp.sqrt(var_e)) @ cor_e @ jnp.diag(jnp.sqrt(var_e))\n",
    "    environmental_noise = jax.random.multivariate_normal(\n",
    "        key, jnp.zeros(n_traits), cov_e, (n_ind,)\n",
    "    )\n",
    "    return gvs + environmental_noise\n",
    "\n",
    "\n",
    "# REFACTORED: The public-facing function now orchestrates the steps\n",
    "def set_pheno(\n",
    "    key: jax.random.PRNGKey,\n",
    "    pop: Population,\n",
    "    traits: TraitCollection,\n",
    "    ploidy: int,\n",
    "    h2: Optional[Float[Array, \"nTraits\"]] = None,\n",
    "    varE: Optional[Float[Array, \"nTraits\"]] = None,\n",
    "    cor_e: Optional[Float[Array, \"nTraits nTraits\"]] = None,\n",
    ") -> Population:\n",
    "    \"\"\"\n",
    "    Sets phenotypes for a population based on its genetic values and\n",
    "    either a specified heritability (h2) or environmental variance (varE).\n",
    "\n",
    "    Exactly one of `h2` or `varE` must be provided.\n",
    "    \"\"\"\n",
    "    # 1. --- Input Validation (Python Land) ---\n",
    "    if (h2 is None and varE is None) or (h2 is not None and varE is not None):\n",
    "        raise ValueError(\"Exactly one of 'h2' or 'varE' must be provided.\")\n",
    "\n",
    "    if cor_e is None:\n",
    "        cor_e = jnp.identity(traits.n_traits)\n",
    "\n",
    "    # 2. --- Core Genetic Calculation (JIT-able) ---\n",
    "    # We bake `ploidy` into a partial function and JIT it\n",
    "    gvs_calculator = jax.jit(\n",
    "        partial(_calculate_gvs_vectorized_alternative, ploidy=ploidy)\n",
    "    )\n",
    "    bvs, gvs = gvs_calculator(pop=pop, traits=traits)\n",
    "\n",
    "    # 3. --- Determine Environmental Variance (Python Land) ---\n",
    "    # This logic now lives outside any JIT compilation path\n",
    "    if h2 is not None:\n",
    "        var_g = jnp.var(gvs, axis=0)\n",
    "        # Add a small epsilon to prevent division by zero for traits with no variance\n",
    "        var_e = (var_g / (h2 + 1e-8)) - var_g\n",
    "        var_e = jnp.maximum(0, var_e) # Ensure variance is not negative\n",
    "    else: # varE is not None\n",
    "        var_e = varE\n",
    "\n",
    "    # 4. --- Add Environmental Noise (JIT-able) ---\n",
    "    # The noise calculator is a pure function, so we can JIT it directly\n",
    "    noise_adder = jax.jit(_add_environmental_noise)\n",
    "    pheno = noise_adder(key=key, gvs=gvs, var_e=var_e, cor_e=cor_e)\n",
    "\n",
    "    # 5. --- Update Population ---\n",
    "    return pop.replace(bv=bvs, pheno=pheno)"
   ]
  },
  {
   "cell_type": "code",
   "execution_count": 4,
   "metadata": {},
   "outputs": [
    {
     "name": "stderr",
     "output_type": "stream",
     "text": [
      "/home/glect/.local/lib/python3.10/site-packages/nbdev/export.py:88: UserWarning: Notebook '/mnt/c/Users/cltng/gdrive/chewc/nbs/tutorials/002_simulatingAtrait.ipynb' uses `#|export` without `#|default_exp` cell.\n",
      "Note nbdev2 no longer supports nbdev1 syntax. Run `nbdev_migrate` to upgrade.\n",
      "See https://nbdev.fast.ai/getting_started.html for more information.\n",
      "  warn(f\"Notebook '{nbname}' uses `#|export` without `#|default_exp` cell.\\n\"\n"
     ]
    }
   ],
   "source": [
    "#| hide\n",
    "import nbdev; nbdev.nbdev_export()"
   ]
  }
 ],
 "metadata": {
  "kernelspec": {
   "display_name": "Python 3",
   "language": "python",
   "name": "python3"
  },
  "language_info": {
   "codemirror_mode": {
    "name": "ipython",
    "version": 3
   },
   "file_extension": ".py",
   "mimetype": "text/x-python",
   "name": "python",
   "nbconvert_exporter": "python",
   "pygments_lexer": "ipython3",
   "version": "3.10.12"
  }
 },
 "nbformat": 4,
 "nbformat_minor": 4
}
