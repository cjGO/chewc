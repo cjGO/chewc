{
 "cells": [
  {
   "cell_type": "markdown",
   "metadata": {},
   "source": [
    "# cross\n",
    "\n",
    "> Fill in a module description here"
   ]
  },
  {
   "cell_type": "code",
   "execution_count": null,
   "metadata": {},
   "outputs": [],
   "source": [
    "#| default_exp cross"
   ]
  },
  {
   "cell_type": "code",
   "execution_count": null,
   "metadata": {},
   "outputs": [],
   "source": [
    "#| hide\n",
    "from nbdev.showdoc import *"
   ]
  },
  {
   "cell_type": "code",
   "execution_count": null,
   "metadata": {},
   "outputs": [
    {
     "name": "stderr",
     "output_type": "stream",
     "text": [
      "WARNING:2025-07-16 15:40:23,951:jax._src.xla_bridge:794: An NVIDIA GPU may be present on this machine, but a CUDA-enabled jaxlib is not installed. Falling back to cpu.\n"
     ]
    },
    {
     "data": {
      "text/plain": [
       "(50, 3, 2, 100)"
      ]
     },
     "execution_count": null,
     "metadata": {},
     "output_type": "execute_result"
    }
   ],
   "source": [
    "#| hide\n",
    "import jax\n",
    "from jax import vmap\n",
    "import jax.numpy as jnp\n",
    "from chewc.sp import SimParam\n",
    "from chewc.population import quick_haplo, Population\n",
    "from chewc.trait import add_trait_a, TraitCollection\n",
    "from chewc.pheno import set_pheno\n",
    "from chewc.meiosis import *\n",
    "\n",
    "# --- 1. JAX Setup ---\n",
    "key = jax.random.PRNGKey(42)\n",
    "\n",
    "# --- 2. Define the Genome's \"Blueprint\" ---\n",
    "n_chr = 3\n",
    "n_loci_per_chr = 100\n",
    "ploidy = 2\n",
    "gen_map = jnp.array([jnp.linspace(0, 1, n_loci_per_chr) for _ in range(n_chr)])\n",
    "centromeres = jnp.full(n_chr, 0.5)\n",
    "\n",
    "# --- 3. Instantiate Initial Simulation Parameters ---\n",
    "SP = SimParam(\n",
    "    gen_map=gen_map,\n",
    "    centromere=centromeres,\n",
    "    ploidy=ploidy\n",
    ")\n",
    "\n",
    "key, pop_key = jax.random.split(key)\n",
    "n_founders = 50\n",
    "\n",
    "founder_pop = quick_haplo(\n",
    "    key=pop_key,\n",
    "    sim_param=SP,\n",
    "    n_ind=n_founders,\n",
    "    inbred=False\n",
    ")\n",
    "\n",
    "SP = SP.replace(founderPop=founder_pop)\n",
    "SP.founderPop.geno.shape # (50, 3, 2, 100) individuals,chromosomes, ploidy, markers\n"
   ]
  },
  {
   "cell_type": "code",
   "execution_count": null,
   "metadata": {},
   "outputs": [],
   "source": [
    "#| export\n",
    "\n",
    "import jax\n",
    "from jax import vmap\n",
    "import jax.numpy as jnp\n",
    "from chewc.sp import SimParam\n",
    "from chewc.population import quick_haplo, Population\n",
    "from chewc.trait import add_trait_a, TraitCollection\n",
    "from chewc.pheno import set_pheno\n",
    "from chewc.meiosis import *\n",
    "\n",
    "\n",
    "def make_cross(key: jax.random.PRNGKey, \n",
    "               pop: Population, \n",
    "               cross_plan: jnp.ndarray, \n",
    "               sim_param: SimParam) -> Population:\n",
    "    \"\"\"\n",
    "    Creates progeny from a series of planned crosses in a vectorized manner.\n",
    "\n",
    "    Args:\n",
    "        key: A single JAX random key for the entire operation.\n",
    "        pop: The parent population.\n",
    "        cross_plan: A 2D array of shape (nCrosses, 2) where each row\n",
    "                    contains the mother and father iid, respectively.\n",
    "        sim_param: The simulation parameters object.\n",
    "\n",
    "    Returns:\n",
    "        A new Population object containing all the generated progeny.\n",
    "    \"\"\"\n",
    "    n_crosses = cross_plan.shape[0]\n",
    "\n",
    "    # 1. Gather the genotypes of all parents in the plan.\n",
    "    # The `cross_plan` contains internal IDs (iids), which are perfect for direct indexing.\n",
    "    mother_iids = cross_plan[:, 0]\n",
    "    father_iids = cross_plan[:, 1]\n",
    "    \n",
    "    mothers_geno = pop.geno[mother_iids] # Shape: (nCrosses, nChr, ploidy, nLoci)\n",
    "    fathers_geno = pop.geno[father_iids] # Shape: (nCrosses, nChr, ploidy, nLoci)\n",
    "\n",
    "    # 2. Create a vectorized version of our single-cross function.\n",
    "    # `in_axes` tells vmap to map over the first axis of the first three arguments\n",
    "    # (keys, mothers, fathers) and to treat the subsequent arguments as constant.\n",
    "    vmapped_cross_creator = vmap(\n",
    "        meiosis_for_one_cross, \n",
    "        in_axes=(0, 0, 0, None, None, None)\n",
    "    )\n",
    "\n",
    "    # 3. Generate a unique key for each cross.\n",
    "    cross_keys = jax.random.split(key, n_crosses)\n",
    "    \n",
    "    # 4. Execute all crosses in one parallel operation.\n",
    "    progeny_geno = vmapped_cross_creator(\n",
    "        cross_keys,\n",
    "        mothers_geno,\n",
    "        fathers_geno,\n",
    "        sim_param.n_chr,\n",
    "        sim_param.gen_map,\n",
    "        sim_param.recomb_params[0]\n",
    "    )\n",
    "    # The resulting shape is (nCrosses, nChr, ploidy, nLoci), which matches\n",
    "    # the shape of our population's `geno` attribute.\n",
    "\n",
    "    # 5. Create the new Population object for the progeny.\n",
    "    # Note: This part runs on the CPU after the main JAX computation is done.\n",
    "    # In a real simulation, you would increment last_id from SimParam.\n",
    "    new_iids = jnp.arange(n_crosses) \n",
    "    \n",
    "    # Get the public-facing IDs from the parent population\n",
    "    mother_ids = pop.id[mother_iids]\n",
    "    father_ids = pop.id[father_iids]\n",
    "    \n",
    "    # For simplicity, we create new IDs; in the full library, you'd\n",
    "    # manage this globally from SimParam.\n",
    "    new_public_ids = jnp.arange(pop.nInd, pop.nInd + n_crosses) \n",
    "\n",
    "    progeny_pop = Population(\n",
    "        geno=progeny_geno,\n",
    "        id=new_public_ids,\n",
    "        iid=new_iids, \n",
    "        mother=mother_ids,\n",
    "        father=father_ids,\n",
    "        sex=jax.random.choice(key, jnp.array([0, 1], dtype=jnp.int8), (n_crosses,)), # Placeholder\n",
    "        pheno=jnp.zeros((n_crosses, 0)),\n",
    "        fixEff=jnp.ones(n_crosses),\n",
    "    )\n",
    "    \n",
    "    return progeny_pop"
   ]
  },
  {
   "cell_type": "code",
   "execution_count": null,
   "metadata": {},
   "outputs": [
    {
     "name": "stdout",
     "output_type": "stream",
     "text": [
      "Validating `make_cross` function:\n",
      "Number of crosses made: 5\n",
      "Number of progeny produced: 5\n",
      "Shape of progeny genotype array: (5, 3, 2, 100)\n",
      "Progeny pedigree:\n",
      "progeny_population.mother=Array([0, 2, 0, 0, 3], dtype=int32)\n",
      "progeny_population.father=Array([1, 3, 3, 3, 3], dtype=int32)\n",
      "\n",
      "✅ Validation successful: Population-scale crossing works correctly.\n"
     ]
    }
   ],
   "source": [
    "#| hide\n",
    "# --- Setup ---\n",
    "# Create a crossing plan: cross individuals (0, 1), (2, 3), and (0, 3)\n",
    "cross_plan = jnp.array([\n",
    "    [0, 1],\n",
    "    [2, 3],\n",
    "    [0, 3],\n",
    "    [0, 3],\n",
    "    [3, 3],\n",
    "], dtype=jnp.int32)\n",
    "n_crosses = cross_plan.shape[0]\n",
    "\n",
    "# --- Run Validation ---\n",
    "key, progeny_key = jax.random.split(key)\n",
    "progeny_population = make_cross(progeny_key, founder_pop, cross_plan, SP)\n",
    "\n",
    "# --- Analyze and Report ---\n",
    "print(\"Validating `make_cross` function:\")\n",
    "print(f\"Number of crosses made: {n_crosses}\")\n",
    "print(f\"Number of progeny produced: {progeny_population.nInd}\")\n",
    "print(f\"Shape of progeny genotype array: {progeny_population.geno.shape}\")\n",
    "print(f\"Progeny pedigree:\\n{progeny_population.mother=}\\n{progeny_population.father=}\")\n",
    "\n",
    "# 1. Check that the number of individuals matches the number of crosses\n",
    "assert progeny_population.nInd == n_crosses\n",
    "# 2. Check that the shape of the genotype array is correct\n",
    "assert progeny_population.geno.shape == (n_crosses, SP.n_chr, SP.ploidy, SP.gen_map.shape[1])\n",
    "# 3. Check pedigree tracking\n",
    "assert jnp.all(progeny_population.mother == founder_pop.id[cross_plan[:, 0]])\n",
    "assert jnp.all(progeny_population.father == founder_pop.id[cross_plan[:, 1]])\n",
    "\n",
    "print(\"\\n✅ Validation successful: Population-scale crossing works correctly.\")"
   ]
  },
  {
   "cell_type": "code",
   "execution_count": null,
   "metadata": {},
   "outputs": [],
   "source": [
    "#| hide\n",
    "import nbdev; nbdev.nbdev_export()"
   ]
  }
 ],
 "metadata": {
  "kernelspec": {
   "display_name": "python3",
   "language": "python",
   "name": "python3"
  }
 },
 "nbformat": 4,
 "nbformat_minor": 4
}
