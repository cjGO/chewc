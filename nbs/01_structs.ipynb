{
 "cells": [
  {
   "cell_type": "code",
   "execution_count": 1,
   "id": "3cac6389",
   "metadata": {},
   "outputs": [],
   "source": [
    "#| default_exp structs"
   ]
  },
  {
   "cell_type": "markdown",
   "id": "320c9b42",
   "metadata": {},
   "source": []
  },
  {
   "cell_type": "code",
   "execution_count": 2,
   "id": "599d71c8",
   "metadata": {},
   "outputs": [],
   "source": [
    "#| export\n",
    "from typing import List, Optional, Dict, Callable, Any\n",
    "\n",
    "import jax\n",
    "import jax.numpy as jnp\n",
    "\n",
    "from typing import Tuple\n",
    "from numpy.random import default_rng\n",
    "import msprime\n",
    "import tskit\n",
    "import numpy as np\n",
    "import random\n",
    "from collections import defaultdict\n",
    "from flax.struct import dataclass as flax_dataclass, field\n",
    "\n",
    "#testing\n",
    "import jax\n",
    "import jax.numpy as jnp\n",
    "from fastcore.test import test_eq, test_ne\n",
    "\n",
    "\n",
    "import jax.numpy as jnp\n",
    "from flax.struct import dataclass as flax_dataclass, field\n",
    "from typing import List, Optional, TYPE_CHECKING\n",
    "from typing import Optional, TYPE_CHECKING\n",
    "\n",
    "# No need for cached_property anymore for these core attributes\n",
    "# from functools import cached_property\n",
    "\n",
    "import jax.numpy as jnp\n",
    "from flax.struct import dataclass as flax_dataclass, field\n",
    "from typing import List, Optional, TYPE_CHECKING"
   ]
  },
  {
   "cell_type": "code",
   "execution_count": null,
   "id": "b35a5a82",
   "metadata": {},
   "outputs": [],
   "source": [
    "#| export\n",
    "# chewc/structs.py\n",
    "\n",
    "\n",
    "@flax_dataclass(frozen=True)\n",
    "class SimParam:\n",
    "    \"\"\"\n",
    "    Global, run-constant parameters & metadata.\n",
    "    Keep only JAX-compatible fields (arrays, tuples, scalars).\n",
    "    \"\"\"\n",
    "    gen_map: jnp.ndarray           # (n_chr, loci_per_chr or ragged handled upstream)\n",
    "    ploidy: int\n",
    "    traits: Optional[Any] = None   # e.g., TraitCollection\n",
    "    recomb_params: tuple = (2.6, 0.0, 0.0)\n",
    "    var_e: Optional[jnp.ndarray] = None\n",
    "\n",
    "\n",
    "#| export\n",
    "\n",
    "\n",
    "# chewc/config.py\n",
    "from flax.struct import dataclass as flax_dataclass\n",
    "\n",
    "@flax_dataclass(frozen=True)\n",
    "class SimConfig:\n",
    "    \"\"\"\n",
    "    Static configuration for the simulation.\n",
    "\n",
    "    These values are known at compile time and are used to define the shapes\n",
    "    of the JAX arrays. Pass this as a static arg to JIT'd functions.\n",
    "    \"\"\"\n",
    "    n_chr: int\n",
    "    ploidy: int\n",
    "    max_pop_size: int\n",
    "    n_loci_per_chr: int     # optional but helpful for kernels that need per-chr sizes\n",
    "    n_generations: int\n",
    "    n_select: int\n",
    "    population_size: int    # <-- unified name (was n_offspring)\n",
    "    retention_generations: int = 1\n",
    "\n",
    "\n",
    "# In a new or refactored chewc/structs.py\n",
    "from flax.struct import dataclass\n",
    "import jax.numpy as jnp\n",
    "\n",
    "@dataclass(frozen=True)\n",
    "class Population:\n",
    "  \"\"\"A container for the minimal, essential state of all *living* individuals.\n",
    "\n",
    "  This PyTree represents the fundamental state passed between generations.\n",
    "  It contains NO derived values (phenotypes, BVs) and NO padding.\n",
    "  The first dimension of each array (`n_ind`) can change from one\n",
    "  generation to the next.\n",
    "  \"\"\"\n",
    "  geno: jnp.ndarray   # Shape: (n_ind, n_chr, ploidy, n_loci)\n",
    "  ibd: jnp.ndarray    # Shape: (n_ind, n_chr, ploidy, n_loci)\n",
    "  meta: jnp.ndarray   # Shape: (n_ind, 4) -> [id, mother_id, father_id, birth_gen]\n"
   ]
  },
  {
   "cell_type": "code",
   "execution_count": 4,
   "id": "af484363",
   "metadata": {},
   "outputs": [],
   "source": [
    "#| hide\n",
    "import nbdev; nbdev.nbdev_export()"
   ]
  },
  {
   "cell_type": "code",
   "execution_count": null,
   "id": "4f6c2bd2",
   "metadata": {},
   "outputs": [],
   "source": []
  }
 ],
 "metadata": {
  "kernelspec": {
   "display_name": "Python 3",
   "language": "python",
   "name": "python3"
  },
  "language_info": {
   "codemirror_mode": {
    "name": "ipython",
    "version": 3
   },
   "file_extension": ".py",
   "mimetype": "text/x-python",
   "name": "python",
   "nbconvert_exporter": "python",
   "pygments_lexer": "ipython3",
   "version": "3.10.12"
  }
 },
 "nbformat": 4,
 "nbformat_minor": 5
}
