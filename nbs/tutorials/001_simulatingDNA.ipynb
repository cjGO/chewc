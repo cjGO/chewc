{
 "cells": [
  {
   "cell_type": "code",
   "execution_count": 1,
   "id": "c9f17104",
   "metadata": {},
   "outputs": [
    {
     "name": "stderr",
     "output_type": "stream",
     "text": [
      "WARNING:2025-08-20 14:45:31,879:jax._src.xla_bridge:794: An NVIDIA GPU may be present on this machine, but a CUDA-enabled jaxlib is not installed. Falling back to cpu.\n"
     ]
    }
   ],
   "source": [
    "import jax\n",
    "import jax.numpy as jnp\n",
    "import time\n",
    "\n",
    "# --- 1. JAX Setup ---\n",
    "key = jax.random.PRNGKey(42)\n",
    "\n",
    "# --- 2. Imports from the 'chewc' library ---\n",
    "from chewc.sp import SimParam\n",
    "from chewc.population import Population, msprime_pop # Use msprime_pop\n",
    "from chewc.trait import add_trait_a\n",
    "from chewc.burnin import run_burnin\n",
    "# Import the generation runner\n",
    "from chewc.pipe import run_generation\n"
   ]
  },
  {
   "cell_type": "markdown",
   "id": "ad4ce21f",
   "metadata": {},
   "source": [
    "There are two functions to simulate founder genomes\n",
    "\n",
    "1) quickHaplo\n",
    "\n",
    "    this simulate a randomized population where each haplotype generated is 1/0. This creates founders with high amounts of genetic diversity and no population structure.\n",
    "\n",
    "2) msprime_pop\n",
    "\n",
    "    this function uses the msprime python library to create populations with population structures generated through a separate coalescent simulation"
   ]
  },
  {
   "cell_type": "code",
   "execution_count": 2,
   "id": "8bf8e9fb",
   "metadata": {},
   "outputs": [
    {
     "data": {
      "text/plain": [
       "Population(nInd=5, nTraits=0, has_ebv=No)"
      ]
     },
     "execution_count": 2,
     "metadata": {},
     "output_type": "execute_result"
    }
   ],
   "source": [
    "from dataclasses import field\n",
    "from typing import List, Optional, Dict, Callable\n",
    "\n",
    "from flax.struct import dataclass as flax_dataclass # Using flax's dataclass for JAX-friendliness\n",
    "import jax\n",
    "import jax.numpy as jnp\n",
    "\n",
    "# from chewc.sp import SimParam\n",
    "\n",
    "import msprime\n",
    "import tskit\n",
    "import numpy as np\n",
    "import random\n",
    "from collections import defaultdict\n",
    "\n",
    "key, pop_key = jax.random.split(key)\n",
    "nInd = 5\n",
    "nChr = 2\n",
    "segSites = 100\n",
    "\n",
    "founder_genomes = msprime_pop(pop_key, nInd, segSites, nChr)\n",
    "founder_genomes"
   ]
  },
  {
   "cell_type": "code",
   "execution_count": 3,
   "id": "54a707bb",
   "metadata": {},
   "outputs": [],
   "source": [
    "# The founder_genomes object already contains the genetic map and genotype info\n",
    "SP = SimParam(founderPop=founder_genomes)"
   ]
  },
  {
   "cell_type": "code",
   "execution_count": 4,
   "id": "874e3baf",
   "metadata": {},
   "outputs": [
    {
     "data": {
      "text/plain": [
       "SimParam(nChr=2, nTraits=0, ploidy=2, sexes='no')"
      ]
     },
     "execution_count": 4,
     "metadata": {},
     "output_type": "execute_result"
    }
   ],
   "source": [
    "SP"
   ]
  },
  {
   "cell_type": "code",
   "execution_count": 5,
   "id": "f433adbe",
   "metadata": {},
   "outputs": [
    {
     "data": {
      "text/plain": [
       "Population(nInd=5, nTraits=0, has_ebv=No)"
      ]
     },
     "execution_count": 5,
     "metadata": {},
     "output_type": "execute_result"
    }
   ],
   "source": [
    "# Access the founder pop in the Sim Params\n",
    "SP.founderPop"
   ]
  },
  {
   "cell_type": "code",
   "execution_count": 6,
   "id": "2ea88df0",
   "metadata": {},
   "outputs": [
    {
     "data": {
      "text/plain": [
       "5"
      ]
     },
     "execution_count": 6,
     "metadata": {},
     "output_type": "execute_result"
    }
   ],
   "source": [
    "# Get the number of individuals in the founder pop\n",
    "SP.founderPop.nInd"
   ]
  },
  {
   "cell_type": "code",
   "execution_count": 7,
   "id": "5359acfa",
   "metadata": {},
   "outputs": [
    {
     "data": {
      "text/plain": [
       "Array([0, 1, 2, 3, 4], dtype=int32)"
      ]
     },
     "execution_count": 7,
     "metadata": {},
     "output_type": "execute_result"
    }
   ],
   "source": [
    "# Get the individual ID's \n",
    "SP.founderPop.id"
   ]
  },
  {
   "cell_type": "code",
   "execution_count": 8,
   "id": "5f986887",
   "metadata": {},
   "outputs": [
    {
     "data": {
      "text/plain": [
       "2"
      ]
     },
     "execution_count": 8,
     "metadata": {},
     "output_type": "execute_result"
    }
   ],
   "source": [
    "SP.founderPop.nChr"
   ]
  },
  {
   "cell_type": "code",
   "execution_count": 9,
   "id": "b31767fc",
   "metadata": {},
   "outputs": [
    {
     "data": {
      "text/plain": [
       "(5, 2, 2, 100)"
      ]
     },
     "execution_count": 9,
     "metadata": {},
     "output_type": "execute_result"
    }
   ],
   "source": [
    "SP.founderPop.geno.shape"
   ]
  },
  {
   "cell_type": "code",
   "execution_count": 10,
   "id": "6dfdd1f3",
   "metadata": {},
   "outputs": [
    {
     "data": {
      "text/plain": [
       "Array([[[[0, 0, 1, ..., 0, 1, 1],\n",
       "         [0, 0, 0, ..., 1, 0, 0]],\n",
       "\n",
       "        [[0, 0, 0, ..., 0, 1, 0],\n",
       "         [1, 1, 0, ..., 0, 1, 0]]],\n",
       "\n",
       "\n",
       "       [[[0, 0, 0, ..., 0, 0, 0],\n",
       "         [0, 0, 1, ..., 0, 0, 0]],\n",
       "\n",
       "        [[0, 0, 0, ..., 0, 1, 0],\n",
       "         [0, 0, 0, ..., 0, 1, 0]]],\n",
       "\n",
       "\n",
       "       [[[1, 1, 1, ..., 0, 0, 0],\n",
       "         [0, 0, 0, ..., 0, 1, 0]],\n",
       "\n",
       "        [[1, 1, 0, ..., 0, 1, 0],\n",
       "         [0, 0, 0, ..., 0, 1, 0]]],\n",
       "\n",
       "\n",
       "       [[[0, 0, 0, ..., 0, 1, 1],\n",
       "         [0, 0, 1, ..., 0, 0, 0]],\n",
       "\n",
       "        [[0, 0, 0, ..., 0, 1, 0],\n",
       "         [0, 0, 0, ..., 0, 1, 0]]],\n",
       "\n",
       "\n",
       "       [[[1, 1, 1, ..., 0, 1, 0],\n",
       "         [0, 0, 0, ..., 0, 0, 0]],\n",
       "\n",
       "        [[0, 0, 0, ..., 0, 1, 0],\n",
       "         [0, 1, 1, ..., 0, 1, 0]]]], dtype=uint8)"
      ]
     },
     "execution_count": 10,
     "metadata": {},
     "output_type": "execute_result"
    }
   ],
   "source": [
    "SP.founderPop.geno"
   ]
  },
  {
   "cell_type": "code",
   "execution_count": 11,
   "id": "0df78b90",
   "metadata": {},
   "outputs": [
    {
     "data": {
      "text/plain": [
       "Array([[0, 0, 1, ..., 0, 1, 0],\n",
       "       [0, 0, 0, ..., 0, 1, 0],\n",
       "       [0, 0, 0, ..., 0, 1, 0],\n",
       "       ...,\n",
       "       [0, 0, 1, ..., 0, 1, 0],\n",
       "       [1, 1, 1, ..., 0, 1, 0],\n",
       "       [0, 0, 0, ..., 0, 1, 0]], dtype=uint8)"
      ]
     },
     "execution_count": 11,
     "metadata": {},
     "output_type": "execute_result"
    }
   ],
   "source": [
    "SP.founderPop.haplo_matrix"
   ]
  },
  {
   "cell_type": "code",
   "execution_count": 12,
   "id": "2f2854d9",
   "metadata": {},
   "outputs": [],
   "source": [
    "flattened_array = SP.founderPop.geno.transpose(0, 2, 1, 3).reshape(SP.founderPop.geno.shape[0] * SP.founderPop.geno.shape[2], -1)"
   ]
  },
  {
   "cell_type": "code",
   "execution_count": 13,
   "id": "f5f2cfa3",
   "metadata": {},
   "outputs": [
    {
     "data": {
      "text/plain": [
       "(10, 200)"
      ]
     },
     "execution_count": 13,
     "metadata": {},
     "output_type": "execute_result"
    }
   ],
   "source": [
    "flattened_array.shape"
   ]
  },
  {
   "cell_type": "code",
   "execution_count": 14,
   "id": "39be7595",
   "metadata": {},
   "outputs": [
    {
     "name": "stdout",
     "output_type": "stream",
     "text": [
      "Transposed shape: (200, 10)\n",
      "Shape of correlation matrix: (200, 200)\n",
      "\n",
      "Correlation matrix (top 5x5 corner):\n",
      "[[ 1.          1.          0.5         0.25       -0.61237244]\n",
      " [ 1.          1.          0.5         0.25       -0.61237244]\n",
      " [ 0.5         0.5         1.          0.         -0.40824829]\n",
      " [ 0.25        0.25        0.          1.          0.61237244]\n",
      " [-0.61237244 -0.61237244 -0.40824829  0.61237244  1.        ]]\n"
     ]
    },
    {
     "name": "stderr",
     "output_type": "stream",
     "text": [
      "/home/glect/.local/lib/python3.10/site-packages/numpy/lib/_function_base_impl.py:3045: RuntimeWarning: invalid value encountered in divide\n",
      "  c /= stddev[:, None]\n",
      "/home/glect/.local/lib/python3.10/site-packages/numpy/lib/_function_base_impl.py:3046: RuntimeWarning: invalid value encountered in divide\n",
      "  c /= stddev[None, :]\n"
     ]
    }
   ],
   "source": [
    "# Transpose the array so that loci are in rows\n",
    "transposed_array = flattened_array.T\n",
    "print(f\"Transposed shape: {transposed_array.shape}\")     # (loci, samples)\n",
    "\n",
    "# Calculate the correlation matrix\n",
    "locus_correlations = np.corrcoef(transposed_array)\n",
    "\n",
    "print(f\"Shape of correlation matrix: {locus_correlations.shape}\") # (loci, loci)\n",
    "print(\"\\nCorrelation matrix (top 5x5 corner):\")\n",
    "print(locus_correlations[:5, :5])\n"
   ]
  },
  {
   "cell_type": "code",
   "execution_count": 15,
   "id": "600b59df",
   "metadata": {},
   "outputs": [
    {
     "ename": "NameError",
     "evalue": "name 'plt' is not defined",
     "output_type": "error",
     "traceback": [
      "\u001b[0;31m---------------------------------------------------------------------------\u001b[0m",
      "\u001b[0;31mNameError\u001b[0m                                 Traceback (most recent call last)",
      "Cell \u001b[0;32mIn[15], line 1\u001b[0m\n\u001b[0;32m----> 1\u001b[0m \u001b[43mplt\u001b[49m\u001b[38;5;241m.\u001b[39mhist(locus_correlations\u001b[38;5;241m.\u001b[39mflatten())\n",
      "\u001b[0;31mNameError\u001b[0m: name 'plt' is not defined"
     ]
    }
   ],
   "source": [
    "plt.hist(locus_correlations.flatten())"
   ]
  },
  {
   "cell_type": "code",
   "execution_count": null,
   "id": "36a116f8",
   "metadata": {},
   "outputs": [
    {
     "data": {
      "text/plain": [
       "(5, 200)"
      ]
     },
     "execution_count": 49,
     "metadata": {},
     "output_type": "execute_result"
    }
   ],
   "source": [
    "SP.founderPop.dosage.shape"
   ]
  },
  {
   "cell_type": "code",
   "execution_count": null,
   "id": "e0a3c7c4",
   "metadata": {},
   "outputs": [
    {
     "name": "stdout",
     "output_type": "stream",
     "text": [
      "Column Means:\n",
      "[0.1        0.6        0.1        0.2        0.2        0.4\n",
      " 0.5        0.3        0.1        0.2        0.7        0.7\n",
      " 0.         0.7        0.         0.3        0.6        0.1\n",
      " 0.3        0.2        0.3        0.7        0.1        0.4\n",
      " 0.2        0.2        0.1        0.1        0.4        0.3\n",
      " 0.4        0.1        0.7        0.7        0.1        0.6\n",
      " 0.1        0.6        0.2        0.2        0.2        0.5\n",
      " 0.8        1.         0.2        0.5        0.         0.6\n",
      " 0.4        0.6        0.3        0.7        0.5        0.90000004\n",
      " 0.2        0.6        0.1        0.2        0.8        0.4\n",
      " 0.2        0.2        0.1        0.2        0.1        0.6\n",
      " 0.         0.6        0.         0.         0.         0.2\n",
      " 1.         0.3        0.2        0.2        0.3        0.2\n",
      " 0.1        0.         0.         0.1        0.4        0.4\n",
      " 0.1        0.1        0.1        0.3        0.90000004 1.\n",
      " 0.8        0.         0.4        0.1        0.2        0.7\n",
      " 0.3        0.1        0.90000004 0.1        0.1        0.8\n",
      " 0.5        0.2        0.2        0.1        0.         0.8\n",
      " 0.1        0.6        0.6        0.3        0.4        0.\n",
      " 0.4        0.4        0.6        0.2        0.8        0.\n",
      " 0.         0.2        0.8        1.         0.5        0.5\n",
      " 0.2        0.8        0.6        0.3        0.1        0.3\n",
      " 0.         0.8        0.4        0.         0.8        0.5\n",
      " 0.4        0.8        0.3        0.4        0.         0.3\n",
      " 0.6        0.1        0.1        0.90000004 0.2        0.5\n",
      " 0.4        0.2        0.7        0.2        0.2        0.2\n",
      " 0.3        0.5        0.4        0.4        0.1        0.3\n",
      " 0.3        0.7        0.5        0.5        0.6        0.3\n",
      " 0.1        0.3        0.5        0.4        0.4        0.90000004\n",
      " 0.90000004 0.3        0.2        0.1        0.4        0.90000004\n",
      " 0.4        0.7        0.1        0.5        0.2        0.4\n",
      " 0.3        0.2        0.5        0.2        0.2        0.3\n",
      " 0.6        0.3        0.4        0.4        0.7        0.8\n",
      " 0.1        1.        ]\n"
     ]
    },
    {
     "data": {
      "image/png": "[encoded data removed]",
      "text/plain": [
       "<Figure size 640x480 with 1 Axes>"
      ]
     },
     "metadata": {},
     "output_type": "display_data"
    }
   ],
   "source": [
    "import matplotlib.pyplot as plt\n",
    "# Calculate the column means\n",
    "column_means = np.mean(SP.founderPop.dosage, axis=0)\n",
    "column_means = column_means * .5\n",
    "print(\"Column Means:\")\n",
    "print(column_means)\n",
    "\n",
    "# Create a histogram of the column means\n",
    "plt.hist(column_means, bins=5)\n",
    "plt.xlabel('Mean Value')\n",
    "plt.ylabel('Frequency')\n",
    "plt.title('Histogram of Column Means')\n",
    "plt.grid(True)"
   ]
  },
  {
   "cell_type": "code",
   "execution_count": null,
   "id": "ecd64e02",
   "metadata": {},
   "outputs": [],
   "source": []
  }
 ],
 "metadata": {
  "kernelspec": {
   "display_name": "Python 3",
   "language": "python",
   "name": "python3"
  },
  "language_info": {
   "codemirror_mode": {
    "name": "ipython",
    "version": 3
   },
   "file_extension": ".py",
   "mimetype": "text/x-python",
   "name": "python",
   "nbconvert_exporter": "python",
   "pygments_lexer": "ipython3",
   "version": "3.10.12"
  }
 },
 "nbformat": 4,
 "nbformat_minor": 5
}
