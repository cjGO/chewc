{
 "cells": [
  {
   "cell_type": "markdown",
   "metadata": {},
   "source": [
    "# SimParam\n",
    "\n",
    "> The SimParam class is the cornerstone of a simulation, acting as a global container for parameters that are not specific to any single Population but govern the rules of the entire simulation. Just as the Population class holds the state of individuals, SimParam holds the \"genetic laws\" of the simulated world, such as trait architecture, genetic maps, and SNP chip definitions.\n",
    "\n"
   ]
  },
  {
   "cell_type": "code",
   "execution_count": null,
   "metadata": {},
   "outputs": [],
   "source": [
    "#| default_exp sp"
   ]
  },
  {
   "cell_type": "code",
   "execution_count": null,
   "metadata": {},
   "outputs": [],
   "source": [
    "#| hide\n",
    "from nbdev.showdoc import *"
   ]
  },
  {
   "cell_type": "code",
   "execution_count": null,
   "metadata": {},
   "outputs": [],
   "source": [
    "#| export\n",
    "import jax.numpy as jnp\n",
    "from flax.struct import dataclass as flax_dataclass\n",
    "from dataclasses import field\n",
    "from typing import List, Optional, Dict, Callable\n",
    "\n",
    "# NOTE: The following classes would typically be in their own files\n",
    "# (e.g., `loci.py`, `traits.py`) but are included here for clarity.\n",
    "\n",
    "@flax_dataclass(frozen=True)\n",
    "class LociMap:\n",
    "    \"\"\"\n",
    "    Defines a set of loci on the genome.\n",
    "    \n",
    "    Serves as a base class for SNP chips and Traits.\n",
    "    \"\"\"\n",
    "    loci_per_chr: jnp.ndarray  # Shape: (nChr,)\n",
    "    loci_loc: jnp.ndarray      # Shape: (total_loci_in_map,)\n",
    "    name: str\n",
    "\n",
    "    @property\n",
    "    def n_loci(self) -> int:\n",
    "        return self.loci_loc.shape[0]\n",
    "\n",
    "@flax_dataclass(frozen=True)\n",
    "class TraitA(LociMap):\n",
    "    \"\"\"\n",
    "    Defines an additive trait.\n",
    "    \"\"\"\n",
    "    add_eff: jnp.ndarray       # Shape: (n_loci,)\n",
    "    intercept: float = 0.0\n",
    "\n",
    "@flax_dataclass(frozen=True)\n",
    "class SimParam:\n",
    "    \"\"\"\n",
    "    A container for all global simulation parameters.\n",
    "    ...\n",
    "    \"\"\"\n",
    "    # --- Core Genome Structure ---\n",
    "    gen_map: jnp.ndarray\n",
    "    centromere: jnp.ndarray\n",
    "    ploidy: int\n",
    "\n",
    "    # --- Genetic Architecture ---\n",
    "    traits: List[TraitA] = field(default_factory=list)\n",
    "    snp_chips: List[LociMap] = field(default_factory=list)\n",
    "    \n",
    "    # --- Population State Reference ---\n",
    "    # This is the crucial addition. It's optional to break the circular dependency.\n",
    "    founderPop: Optional['Population'] = None\n",
    "\n",
    "    # --- Simulation Control ---\n",
    "    sexes: str = \"no\"          # \"no\", \"yes_sys\", \"yes_rand\"\n",
    "    recomb_params: tuple = (2.6, 0.0, 0.0) # v, p, quadProb\n",
    "    n_threads: int = 1\n",
    "\n",
    "    # --- Pedigree & History Tracking ---\n",
    "    track_pedigree: bool = False\n",
    "    track_recomb: bool = False\n",
    "    last_id: int = 0\n",
    "    pedigree: Optional[jnp.ndarray] = None # Shape: (lastId, 3) for id, mother, father\n",
    "\n",
    "    # --- Default Phenotyping Parameters ---\n",
    "    var_e: Optional[jnp.ndarray] = None # Error variance\n",
    "\n",
    "    @property\n",
    "    def n_chr(self) -> int:\n",
    "        return self.gen_map.shape[0]\n",
    "\n",
    "    @property\n",
    "    def n_loci_per_chr(self) -> jnp.ndarray:\n",
    "        # Assuming genMap may be padded, we need a reliable way to get true loci counts\n",
    "        # This could be stored separately or inferred if we have a non-padded source.\n",
    "        # For now, let's assume the shape is accurate.\n",
    "        return jnp.full((self.n_chr,), self.gen_map.shape[1])\n",
    "\n",
    "    @property\n",
    "    def n_traits(self) -> int:\n",
    "        return len(self.traits)\n",
    "\n",
    "    def __repr__(self) -> str:\n",
    "        return (f\"SimParam(nChr={self.n_chr}, nTraits={self.n_traits}, \"\n",
    "                f\"ploidy={self.ploidy}, sexes='{self.sexes}')\")"
   ]
  },
  {
   "cell_type": "code",
   "execution_count": null,
   "metadata": {},
   "outputs": [],
   "source": [
    "#| hide\n",
    "import nbdev; nbdev.nbdev_export()"
   ]
  }
 ],
 "metadata": {
  "kernelspec": {
   "display_name": "python3",
   "language": "python",
   "name": "python3"
  }
 },
 "nbformat": 4,
 "nbformat_minor": 4
}
