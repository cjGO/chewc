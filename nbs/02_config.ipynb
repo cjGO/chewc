{
 "cells": [
  {
   "cell_type": "code",
   "execution_count": 1,
   "id": "3cac6389",
   "metadata": {},
   "outputs": [],
   "source": [
    "#| default_exp config"
   ]
  },
  {
   "cell_type": "markdown",
   "id": "320c9b42",
   "metadata": {},
   "source": []
  },
  {
   "cell_type": "code",
   "execution_count": null,
   "id": "b35a5a82",
   "metadata": {},
   "outputs": [],
   "source": [
    "#| export\n",
    "\n",
    "\n",
    "# chewc/config.py\n",
    "from flax.struct import dataclass as flax_dataclass\n",
    "\n",
    "@flax_dataclass(frozen=True)\n",
    "class SimConfig:\n",
    "    \"\"\"\n",
    "    Static configuration for the simulation.\n",
    "\n",
    "    These values are known at compile time and are used to define the shapes\n",
    "    of the JAX arrays. Pass this as a static arg to JIT'd functions.\n",
    "    \"\"\"\n",
    "    n_chr: int\n",
    "    ploidy: int\n",
    "    max_pop_size: int\n",
    "    n_loci_per_chr: int     # optional but helpful for kernels that need per-chr sizes\n",
    "    n_generations: int\n",
    "    n_select: int\n",
    "    population_size: int    # <-- unified name (was n_offspring)\n",
    "    retention_generations: int = 1\n"
   ]
  },
  {
   "cell_type": "code",
   "execution_count": 3,
   "id": "af484363",
   "metadata": {},
   "outputs": [],
   "source": [
    "#| hide\n",
    "import nbdev; nbdev.nbdev_export()"
   ]
  },
  {
   "cell_type": "code",
   "execution_count": null,
   "id": "2d22496d",
   "metadata": {},
   "outputs": [],
   "source": []
  }
 ],
 "metadata": {
  "kernelspec": {
   "display_name": "Python 3",
   "language": "python",
   "name": "python3"
  },
  "language_info": {
   "codemirror_mode": {
    "name": "ipython",
    "version": 3
   },
   "file_extension": ".py",
   "mimetype": "text/x-python",
   "name": "python",
   "nbconvert_exporter": "python",
   "pygments_lexer": "ipython3",
   "version": "3.10.12"
  }
 },
 "nbformat": 4,
 "nbformat_minor": 5
}
