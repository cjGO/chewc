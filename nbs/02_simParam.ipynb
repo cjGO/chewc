{
 "cells": [
  {
   "cell_type": "markdown",
   "metadata": {},
   "source": [
    "# SimParam\n",
    "\n",
    "> The SimParam class is the cornerstone of a simulation, acting as a global container for parameters that are not specific to any single Population but govern the rules of the entire simulation. Just as the Population class holds the state of individuals, SimParam holds the \"genetic laws\" of the simulated world, such as trait architecture, genetic maps, and SNP chip definitions.\n",
    "\n"
   ]
  },
  {
   "cell_type": "code",
   "execution_count": 1,
   "metadata": {},
   "outputs": [],
   "source": [
    "#| default_exp sp"
   ]
  },
  {
   "cell_type": "code",
   "execution_count": 2,
   "metadata": {},
   "outputs": [],
   "source": [
    "#| hide\n",
    "from nbdev.showdoc import *"
   ]
  },
  {
   "cell_type": "code",
   "execution_count": 3,
   "metadata": {},
   "outputs": [],
   "source": [
    "#| export\n",
    "\n",
    "import jax.numpy as jnp\n",
    "from flax.struct import dataclass as flax_dataclass\n",
    "from dataclasses import field\n",
    "from typing import List, Optional, TYPE_CHECKING\n",
    "\n",
    "# The TYPE_CHECKING block is still essential for static type analysis.\n",
    "if TYPE_CHECKING:\n",
    "    from .population import Population\n",
    "    from .trait import TraitA, LociMap, TraitCollection\n",
    "\n",
    "@flax_dataclass(frozen=True)\n",
    "class SimParam:\n",
    "    \"\"\"\n",
    "    A container for all global simulation parameters.\n",
    "\n",
    "    --- JAX JIT Compilation Notes ---\n",
    "\n",
    "    This class is a JAX Pytree, but it contains a mix of dynamic JAX arrays\n",
    "    and static Python-native objects. When an instance of `SimParam` is\n",
    "    passed to a JIT-compiled function, the function is compiled specifically\n",
    "    for the values of the static attributes.\n",
    "\n",
    "    - **Dynamic Attributes (Tracable)**: These are `jnp.ndarray`s. Their\n",
    "      values can change between function calls without causing re-compilation.\n",
    "      Includes: `gen_map`, `centromere`, `founderPop`, `pedigree`, `var_e`.\n",
    "\n",
    "    - **Static Attributes (Non-Tracable)**: These are all other attributes\n",
    "      (`int`, `str`, `bool`, `list`, `tuple`, and custom classes). If any of\n",
    "      these attributes change value between calls to a JIT-compiled function,\n",
    "      **it will trigger a re-compilation of that function**.\n",
    "\n",
    "      This is generally desired behavior for simulation parameters, but care\n",
    "      must be taken not to modify them inside performance-critical loops.\n",
    "      The static attributes are: `ploidy`, `traits`, `snp_chips`, `sexes`,\n",
    "      `recomb_params`, `n_threads`, `track_pedigree`, `track_recomb`,\n",
    "      `last_id`.\n",
    "    \"\"\"\n",
    "    # --- Core Genome Structure ---\n",
    "    gen_map: jnp.ndarray\n",
    "    centromere: jnp.ndarray\n",
    "    ploidy: int\n",
    "\n",
    "    # --- Genetic Architecture ---\n",
    "    # **THE FIX**: Use strings for the type hints to avoid the NameError at runtime.\n",
    "    traits: Optional['TraitCollection'] = None\n",
    "    snp_chips: List['LociMap'] = field(default_factory=list)\n",
    "\n",
    "    # --- Population State Reference ---\n",
    "    # This was already correct.\n",
    "    founderPop: Optional['Population'] = None\n",
    "\n",
    "    # --- Simulation Control ---\n",
    "    sexes: str = \"no\"\n",
    "    recomb_params: tuple = (2.6, 0.0, 0.0)\n",
    "    n_threads: int = 1\n",
    "\n",
    "    # --- Pedigree & History Tracking ---\n",
    "    track_pedigree: bool = False\n",
    "    track_recomb: bool = False\n",
    "    last_id: int = 0\n",
    "    pedigree: Optional[jnp.ndarray] = None\n",
    "\n",
    "    # --- Default Phenotyping Parameters ---\n",
    "    var_e: Optional[jnp.ndarray] = None\n",
    "\n",
    "    @property\n",
    "    def n_chr(self) -> int:\n",
    "        return self.gen_map.shape[0]\n",
    "\n",
    "    @property\n",
    "    def n_loci_per_chr(self) -> jnp.ndarray:\n",
    "        return jnp.full((self.n_chr,), self.gen_map.shape[1])\n",
    "\n",
    "    @property\n",
    "    def n_traits(self) -> int:\n",
    "        \"\"\"\n",
    "        This logic is now correct and relies on the fix above.\n",
    "        \"\"\"\n",
    "        if self.traits is None:\n",
    "            return 0\n",
    "        return self.traits.n_traits\n",
    "\n",
    "    def __repr__(self) -> str:\n",
    "        return (f\"SimParam(nChr={self.n_chr}, nTraits={self.n_traits}, \"\n",
    "                f\"ploidy={self.ploidy}, sexes='{self.sexes}')\")"
   ]
  },
  {
   "cell_type": "code",
   "execution_count": 4,
   "metadata": {},
   "outputs": [],
   "source": [
    "#| hide\n",
    "import nbdev; nbdev.nbdev_export()"
   ]
  },
  {
   "cell_type": "code",
   "execution_count": null,
   "metadata": {},
   "outputs": [],
   "source": []
  }
 ],
 "metadata": {
  "kernelspec": {
   "display_name": "Python 3",
   "language": "python",
   "name": "python3"
  },
  "language_info": {
   "codemirror_mode": {
    "name": "ipython",
    "version": 3
   },
   "file_extension": ".py",
   "mimetype": "text/x-python",
   "name": "python",
   "nbconvert_exporter": "python",
   "pygments_lexer": "ipython3",
   "version": "3.10.12"
  }
 },
 "nbformat": 4,
 "nbformat_minor": 4
}
