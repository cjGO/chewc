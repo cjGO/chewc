{
 "cells": [
  {
   "cell_type": "code",
   "execution_count": null,
   "id": "3cac6389",
   "metadata": {},
   "outputs": [],
   "source": [
    "#| default_exp popgen"
   ]
  },
  {
   "cell_type": "code",
   "execution_count": 1,
   "id": "556ece91",
   "metadata": {},
   "outputs": [],
   "source": [
    "#| export\n",
    "import jax\n",
    "import jax.numpy as jnp\n",
    "from chewc.config import StaticConfig, Population"
   ]
  },
  {
   "cell_type": "code",
   "execution_count": 2,
   "id": "a461a7ca",
   "metadata": {},
   "outputs": [],
   "source": [
    "#| export\n",
    "\n",
    "def create_founders(key: jax.random.PRNGKey, s_config: StaticConfig, n_founders: int) -> Population:\n",
    "    geno = jax.random.randint(\n",
    "        key,\n",
    "        (n_founders, s_config.n_chr, s_config.ploidy, s_config.n_loci_per_chr),\n",
    "        0,\n",
    "        2,\n",
    "        dtype=jnp.int8,\n",
    "    )\n",
    "    ids = jnp.arange(n_founders, dtype=jnp.int32)[:, None]\n",
    "    parent_ids = jnp.full((n_founders, 2), -1, dtype=jnp.int32)\n",
    "    birth_gen = jnp.zeros((n_founders, 1), dtype=jnp.int32)\n",
    "    return Population(geno=geno, meta=jnp.hstack([ids, parent_ids, birth_gen]))"
   ]
  },
  {
   "cell_type": "markdown",
   "id": "320c9b42",
   "metadata": {},
   "source": []
  },
  {
   "cell_type": "code",
   "execution_count": 3,
   "id": "af484363",
   "metadata": {},
   "outputs": [],
   "source": [
    "#| hide\n",
    "import nbdev; nbdev.nbdev_export()"
   ]
  }
 ],
 "metadata": {
  "kernelspec": {
   "display_name": "Python 3",
   "language": "python",
   "name": "python3"
  },
  "language_info": {
   "codemirror_mode": {
    "name": "ipython",
    "version": 3
   },
   "file_extension": ".py",
   "mimetype": "text/x-python",
   "name": "python",
   "nbconvert_exporter": "python",
   "pygments_lexer": "ipython3",
   "version": "3.10.12"
  }
 },
 "nbformat": 4,
 "nbformat_minor": 5
}
