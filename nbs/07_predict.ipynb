{
 "cells": [
  {
   "cell_type": "markdown",
   "metadata": {},
   "source": [
    "# predict\n",
    "\n",
    "> Common operations around the core datastructures for running a sim"
   ]
  },
  {
   "cell_type": "code",
   "execution_count": 1,
   "metadata": {},
   "outputs": [],
   "source": [
    "#| default_exp predict"
   ]
  },
  {
   "cell_type": "code",
   "execution_count": 2,
   "metadata": {},
   "outputs": [],
   "source": [
    "#| hide\n",
    "from nbdev.showdoc import *"
   ]
  },
  {
   "cell_type": "code",
   "execution_count": 3,
   "metadata": {},
   "outputs": [],
   "source": [
    "#| export\n",
    "\n",
    "from flax.struct import dataclass as flax_dataclass\n",
    "import jax.numpy as jnp\n",
    "from typing import Optional\n",
    "from chewc.population import Population"
   ]
  },
  {
   "cell_type": "code",
   "execution_count": 2,
   "metadata": {},
   "outputs": [],
   "source": [
    "#| export\n",
    "\"\"\"\n",
    "GBLUP (Genomic Best Linear Unbiased Prediction) implementation for chewc library.\n",
    "\n",
    "This module provides functions for genomic prediction using the GBLUP methodology,\n",
    "which is a standard approach in genomic selection and animal breeding.\n",
    "\"\"\"\n",
    "\n",
    "from typing import Optional, Dict\n",
    "import jax\n",
    "import jax.numpy as jnp\n",
    "from jax.numpy.linalg import solve, inv, pinv\n",
    "from flax.struct import dataclass as flax_dataclass\n",
    "\n",
    "from chewc.population import Population\n",
    "\n",
    "@flax_dataclass(frozen=True)\n",
    "class PredictionResults:\n",
    "    \"\"\"\n",
    "    A container for the results of a genomic prediction.\n",
    "    \"\"\"\n",
    "    ids: jnp.ndarray\n",
    "    ebv: jnp.ndarray\n",
    "    pev: Optional[jnp.ndarray] = None\n",
    "    reliability: Optional[jnp.ndarray] = None\n",
    "    fixed_effects: Optional[jnp.ndarray] = None\n",
    "    h2_used: Optional[float] = None\n",
    "    var_components: Optional[Dict] = None\n",
    "\n"
   ]
  },
  {
   "cell_type": "code",
   "execution_count": null,
   "metadata": {},
   "outputs": [],
   "source": []
  },
  {
   "cell_type": "code",
   "execution_count": null,
   "metadata": {},
   "outputs": [],
   "source": []
  },
  {
   "cell_type": "code",
   "execution_count": null,
   "metadata": {},
   "outputs": [],
   "source": []
  },
  {
   "cell_type": "code",
   "execution_count": 4,
   "metadata": {},
   "outputs": [],
   "source": [
    "#| hide\n",
    "import nbdev; nbdev.nbdev_export()"
   ]
  },
  {
   "cell_type": "code",
   "execution_count": null,
   "metadata": {},
   "outputs": [],
   "source": []
  }
 ],
 "metadata": {
  "kernelspec": {
   "display_name": "Python 3",
   "language": "python",
   "name": "python3"
  },
  "language_info": {
   "codemirror_mode": {
    "name": "ipython",
    "version": 3
   },
   "file_extension": ".py",
   "mimetype": "text/x-python",
   "name": "python",
   "nbconvert_exporter": "python",
   "pygments_lexer": "ipython3",
   "version": "3.10.12"
  }
 },
 "nbformat": 4,
 "nbformat_minor": 4
}
