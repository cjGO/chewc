{
 "cells": [
  {
   "cell_type": "code",
   "execution_count": null,
   "id": "3cac6389",
   "metadata": {},
   "outputs": [],
   "source": [
    "#| default_exp pheno"
   ]
  },
  {
   "cell_type": "code",
   "execution_count": null,
   "id": "c44eccfb",
   "metadata": {},
   "outputs": [],
   "source": [
    "#| export\n",
    "import jax\n",
    "import jax.numpy as jnp\n",
    "from chewc.structs import Population, Trait, _flatten_gather_chr_locus\n",
    "from typing import Tuple\n",
    "\n",
    "# compute_dosage remains the same...\n",
    "@jax.jit\n",
    "def compute_dosage(population: Population) -> jnp.ndarray:\n",
    "    \"\"\"Computes allele dosage. Shape: (n_ind, n_chr, n_loci)\"\"\"\n",
    "    return jnp.sum(population.geno, axis=2)\n",
    "\n",
    "\n",
    "\n",
    "\n",
    "@jax.jit\n",
    "def calculate_phenotypes(\n",
    "    key: jax.Array,\n",
    "    population: Population,\n",
    "    trait: Trait,\n",
    "    heritability: jnp.ndarray,  # (n_traits,)\n",
    ") -> Tuple[jnp.ndarray, jnp.ndarray]:\n",
    "    \"\"\"Return (phenotypes, true_breeding_values).\"\"\"\n",
    "    # Dosage per locus (0-2) as float\n",
    "    dosage = jnp.sum(population.geno, axis=2, dtype=jnp.int32)  # (n, chr, loci)\n",
    "    qtl_dosage = _flatten_gather_chr_locus(\n",
    "        dosage, trait.qtl_chromosome, trait.qtl_position\n",
    "    ).astype(jnp.float32)  # (n, n_qtl)\n",
    "\n",
    "    tbv = trait.intercept + qtl_dosage @ trait.qtl_effects  # (n, n_traits)\n",
    "    add_var = jnp.var(tbv, axis=0)  # (n_traits,)\n",
    "\n",
    "    h2 = jnp.clip(heritability.astype(jnp.float32), 1e-8, 1.0 - 1e-8)\n",
    "    env_var = jnp.maximum(0.0, add_var * ((1.0 / h2) - 1.0))\n",
    "    noise = jax.random.normal(key, tbv.shape)\n",
    "    phenotypes = tbv + noise * jnp.sqrt(env_var)\n",
    "\n",
    "    return phenotypes, tbv\n"
   ]
  },
  {
   "cell_type": "code",
   "execution_count": null,
   "id": "af484363",
   "metadata": {},
   "outputs": [],
   "source": [
    "#| hide\n",
    "import nbdev; nbdev.nbdev_export()"
   ]
  }
 ],
 "metadata": {
  "kernelspec": {
   "display_name": "python3",
   "language": "python",
   "name": "python3"
  }
 },
 "nbformat": 4,
 "nbformat_minor": 5
}
