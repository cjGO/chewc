{
 "cells": [
  {
   "cell_type": "code",
   "execution_count": null,
   "id": "3cac6389",
   "metadata": {},
   "outputs": [],
   "source": [
    "#| default_exp meiosis"
   ]
  },
  {
   "cell_type": "markdown",
   "id": "320c9b42",
   "metadata": {},
   "source": []
  },
  {
   "cell_type": "code",
   "execution_count": null,
   "id": "e2578c11",
   "metadata": {},
   "outputs": [],
   "source": [
    "#| export\n",
    "\n",
    "\n",
    "import jax\n",
    "import jax.numpy as jnp\n",
    "from jax import lax\n",
    "from functools import partial\n",
    "from typing import Tuple\n",
    "from chewc.structs import GeneticMap\n",
    "\n",
    "@partial(jax.jit, static_argnames=(\"max_crossovers\",))\n",
    "def create_gamete(\n",
    "    key: jax.Array,\n",
    "    parent_geno: jax.Array,  # (n_chr, 2, n_loci)\n",
    "    parent_ibd: jax.Array,   # (n_chr, 2, n_loci)\n",
    "    genetic_map: GeneticMap,\n",
    "    interference_nu: float,\n",
    "    max_crossovers: int,\n",
    ") -> Tuple[jnp.ndarray, jnp.ndarray]:\n",
    "    \"\"\"Return a haploid gamete (geno, ibd) of shape (n_chr, n_loci).\"\"\"\n",
    "\n",
    "    def _sample_chiasmata(k: jax.Array, map_length: jnp.ndarray, nu: float, L: int):\n",
    "        \"\"\"Renewal process with gamma-distributed inter-chiasma distances.\"\"\"\n",
    "        shape, scale = nu, 1.0 / (2.0 * nu)\n",
    "\n",
    "        def body(carry, _):\n",
    "            kk, last_pos = carry\n",
    "            kk, sub = jax.random.split(kk)\n",
    "            step = jax.random.gamma(sub, shape) * scale\n",
    "            pos = last_pos + step\n",
    "            return (kk, pos), pos\n",
    "\n",
    "        k, start_k = jax.random.split(k)\n",
    "        start = jax.random.uniform(start_k, (), minval=-10.0, maxval=0.0)\n",
    "\n",
    "        (_, _), positions = lax.scan(body, (k, start), None, length=L)\n",
    "        valid = (positions > 0.0) & (positions < map_length)\n",
    "        sentinel = map_length + 1.0\n",
    "        # Keep shape static, sort to ensure monotonic positions\n",
    "        positions = jnp.where(valid, positions, sentinel)\n",
    "        positions = jnp.sort(positions)\n",
    "        return positions  # (L,)\n",
    "\n",
    "    def _recombine_chr(\n",
    "        k: jax.Array,\n",
    "        chr_geno: jnp.ndarray,   # (2, n_loci)\n",
    "        chr_ibd: jnp.ndarray,    # (2, n_loci)\n",
    "        loci_pos: jnp.ndarray,   # (n_loci,)\n",
    "        nu: float,\n",
    "        L: int,\n",
    "    ):\n",
    "        k_chiasma, k_hap = jax.random.split(k)\n",
    "        cross_pos = _sample_chiasmata(k_chiasma, loci_pos[-1], nu, L)         # (L,)\n",
    "        cross_idx = jnp.searchsorted(loci_pos, cross_pos, side=\"left\")        # (L,)\n",
    "        # segments = number of crossovers <= each locus index\n",
    "        segments = jnp.searchsorted(cross_idx, jnp.arange(loci_pos.shape[0]), side=\"right\")\n",
    "        start_hap = jax.random.randint(k_hap, (), 0, 2, dtype=jnp.int32)\n",
    "        hap_choice = (start_hap + segments) & 1  # 0/1 per locus\n",
    "\n",
    "        gam_geno = jnp.where(hap_choice == 0, chr_geno[0], chr_geno[1])  # (n_loci,)\n",
    "        gam_ibd  = jnp.where(hap_choice == 0, chr_ibd[0],  chr_ibd[1])   # (n_loci,)\n",
    "        return gam_geno, gam_ibd\n",
    "\n",
    "    n_chr = parent_geno.shape[0]\n",
    "    chr_keys = jax.random.split(key, num=n_chr)\n",
    "    vmapped = jax.vmap(_recombine_chr, in_axes=(0, 0, 0, 0, None, None))\n",
    "    gamete_geno, gamete_ibd = vmapped(\n",
    "        chr_keys, parent_geno, parent_ibd, genetic_map.locus_positions, interference_nu, max_crossovers\n",
    "    )\n",
    "    return gamete_geno, gamete_ibd  # (n_chr, n_loci), (n_chr, n_loci)\n"
   ]
  },
  {
   "cell_type": "code",
   "execution_count": null,
   "id": "af484363",
   "metadata": {},
   "outputs": [],
   "source": [
    "#| hide\n",
    "import nbdev; nbdev.nbdev_export()"
   ]
  }
 ],
 "metadata": {
  "kernelspec": {
   "display_name": "python3",
   "language": "python",
   "name": "python3"
  }
 },
 "nbformat": 4,
 "nbformat_minor": 5
}
