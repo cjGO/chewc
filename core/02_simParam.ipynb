{
 "cells": [
  {
   "cell_type": "markdown",
   "metadata": {},
   "source": [
    "# SimParam\n",
    "\n",
    "> The SimParam class is the cornerstone of a simulation, acting as a global container for parameters that are not specific to any single Population but govern the rules of the entire simulation. Just as the Population class holds the state of individuals, SimParam holds the \"genetic laws\" of the simulated world, such as trait architecture, genetic maps, and SNP chip definitions.\n",
    "\n"
   ]
  },
  {
   "cell_type": "code",
   "execution_count": null,
   "metadata": {},
   "outputs": [],
   "source": [
    "#| default_exp sp"
   ]
  },
  {
   "cell_type": "code",
   "execution_count": null,
   "metadata": {},
   "outputs": [],
   "source": [
    "#| hide\n",
    "from nbdev.showdoc import *"
   ]
  },
  {
   "cell_type": "code",
   "execution_count": null,
   "metadata": {},
   "outputs": [],
   "source": [
    "#| export\n",
    "\n",
    "import jax.numpy as jnp\n",
    "from flax.struct import dataclass as flax_dataclass, field\n",
    "from typing import List, Optional, TYPE_CHECKING\n",
    "from typing import Optional, TYPE_CHECKING\n",
    "\n",
    "# No need for cached_property anymore for these core attributes\n",
    "# from functools import cached_property\n",
    "\n",
    "import jax.numpy as jnp\n",
    "from flax.struct import dataclass as flax_dataclass, field\n",
    "from typing import List, Optional, TYPE_CHECKING\n",
    "\n",
    "if TYPE_CHECKING:\n",
    "    from chewc.trait import TraitCollection, LociMap\n",
    "    from chewc.population import Population\n",
    "\n",
    "@flax_dataclass(frozen=True)\n",
    "class SimParam:\n",
    "    \"\"\"A container for all global simulation parameters.\"\"\"\n",
    "    # --- JAX-Compatible Attributes (leaves of the Pytree) ---\n",
    "    gen_map: jnp.ndarray\n",
    "    ploidy: int\n",
    "    traits: Optional['TraitCollection'] = None\n",
    "    recomb_params: tuple = (2.6, 0.0, 0.0)\n",
    "    pedigree: Optional[jnp.ndarray] = None\n",
    "    var_e: Optional[jnp.ndarray] = None\n",
    "    \n",
    "    # --- Static, Non-Traceable Attributes ---\n",
    "    # These are ignored by JAX transformations like jit and vmap.\n",
    "    sexes: str = field(default='no', pytree_node=False)\n",
    "    snp_chips: List['LociMap'] = field(default_factory=list, pytree_node=False)\n",
    "    n_threads: int = field(default=1, pytree_node=False)\n",
    "    track_pedigree: bool = field(default=False, pytree_node=False)\n",
    "    track_recomb: bool = field(default=False, pytree_node=False)\n",
    "    last_id: int = field(default=0, pytree_node=False)\n",
    "\n",
    "    @classmethod\n",
    "    def from_founder_pop(\n",
    "        cls,\n",
    "        founder_pop: 'Population',\n",
    "        gen_map: jnp.ndarray,\n",
    "        **kwargs\n",
    "    ) -> 'SimParam':\n",
    "        # Using direct shape access is more robust\n",
    "        ploidy = founder_pop.geno.shape[2]\n",
    "        n_ind = founder_pop.geno.shape[0]\n",
    "        return cls(\n",
    "            gen_map=gen_map,\n",
    "            ploidy=ploidy,\n",
    "            last_id=n_ind,\n",
    "            **kwargs\n",
    "        )\n",
    "\n",
    "\n",
    "    # --- Derived Properties ---\n",
    "    @property\n",
    "    def centromere(self) -> jnp.ndarray:\n",
    "        \"\"\"Sets a default centromere position for each chromosome.\"\"\"\n",
    "        return jnp.zeros(self.n_chr)\n",
    "\n",
    "    @property\n",
    "    def n_chr(self) -> int:\n",
    "        \"\"\"Returns the number of chromosomes from the genetic map shape.\"\"\"\n",
    "        return self.gen_map.shape[0]\n",
    "\n",
    "    @property\n",
    "    def n_loci_per_chr(self) -> jnp.ndarray:\n",
    "        \"\"\"Returns an array with the number of loci for each chromosome.\"\"\"\n",
    "        return jnp.full((self.n_chr,), self.gen_map.shape[1])\n",
    "\n",
    "    @property\n",
    "    def n_traits(self) -> int:\n",
    "        \"\"\"Returns the number of defined traits.\"\"\"\n",
    "        if self.traits is None:\n",
    "            return 0\n",
    "        return self.traits.n_traits\n",
    "\n",
    "    def __repr__(self) -> str:\n",
    "        return (f\"SimParam(nChr={self.n_chr}, nTraits={self.n_traits}, \"\n",
    "                f\"ploidy={self.ploidy}, sexes='{self.sexes}')\")"
   ]
  },
  {
   "cell_type": "code",
   "execution_count": null,
   "metadata": {},
   "outputs": [],
   "source": [
    "#| hide\n",
    "import nbdev; nbdev.nbdev_export()"
   ]
  },
  {
   "cell_type": "code",
   "execution_count": null,
   "metadata": {},
   "outputs": [],
   "source": []
  }
 ],
 "metadata": {
  "kernelspec": {
   "display_name": "Python 3",
   "language": "python",
   "name": "python3"
  },
  "language_info": {
   "name": "python",
   "version": "3.10.12"
  }
 },
 "nbformat": 4,
 "nbformat_minor": 4
}
