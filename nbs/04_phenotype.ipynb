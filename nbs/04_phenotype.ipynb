{
 "cells": [
  {
   "cell_type": "code",
   "execution_count": null,
   "id": "3cac6389",
   "metadata": {},
   "outputs": [],
   "source": [
    "#| default_exp pheno"
   ]
  },
  {
   "cell_type": "code",
   "execution_count": null,
   "id": "c44eccfb",
   "metadata": {},
   "outputs": [],
   "source": [
    "#| export\n",
    "import jax\n",
    "import jax.numpy as jnp\n",
    "from chewc.structs import Population, Trait, _flatten_gather_chr_locus\n",
    "from typing import Tuple\n",
    "\n",
    "# compute_dosage remains the same...\n",
    "@jax.jit\n",
    "def compute_dosage(population: Population) -> jnp.ndarray:\n",
    "    \"\"\"Computes allele dosage. Shape: (n_ind, n_chr, n_loci)\"\"\"\n",
    "    return jnp.sum(population.geno, axis=2)\n",
    "\n",
    "\n",
    "\n",
    "\n",
    "@jax.jit\n",
    "def calculate_phenotypes(\n",
    "    key: jax.Array,\n",
    "    population: Population,\n",
    "    trait: Trait,\n",
    "    heritability: jnp.ndarray,  # Narrow-sense h^2, shape: (n_traits,)\n",
    ") -> Tuple[jnp.ndarray, jnp.ndarray]:\n",
    "    \"\"\"\n",
    "    Return (phenotypes, true_breeding_values).\n",
    "    Calculates phenotypes by modeling G = A + D.\n",
    "    \"\"\"\n",
    "    # --- 1. Get QTL dosages ---\n",
    "    dosage = jnp.sum(population.geno, axis=2, dtype=jnp.int32)\n",
    "    qtl_dosage = _flatten_gather_chr_locus(\n",
    "        dosage, trait.qtl_chromosome, trait.qtl_position\n",
    "    ).astype(jnp.float32)\n",
    "\n",
    "    # --- 2. Calculate Genetic Components (A and D) ---\n",
    "    # True Breeding Value (A) is the purely additive component\n",
    "    true_breeding_value = qtl_dosage @ trait.qtl_effects\n",
    "\n",
    "    # Dominance Deviation Value (D)\n",
    "    dominance_dosage = (qtl_dosage == 1).astype(jnp.float32)\n",
    "    dominance_value = dominance_dosage @ trait.qtl_dominance_effects\n",
    "\n",
    "    # Total Genotypic Value (G = intercept + A + D)\n",
    "    genotypic_value = trait.intercept + true_breeding_value + dominance_value\n",
    "\n",
    "    # --- 3. Calculate Variance Components to derive Environmental Variance (VE) ---\n",
    "    add_var = jnp.var(true_breeding_value, axis=0)  # VA\n",
    "    dom_var = jnp.var(dominance_value, axis=0)      # VD\n",
    "\n",
    "    # Assuming narrow-sense heritability h^2 = VA / VP = VA / (VA + VD + VE)\n",
    "    # We can derive VE = (VA / h^2) - VA - VD\n",
    "    h2 = jnp.clip(heritability.astype(jnp.float32), 1e-8, 1.0 - 1e-8)\n",
    "    env_var = jnp.maximum(0.0, (add_var / h2) - add_var - dom_var)\n",
    "\n",
    "    # --- 4. Generate Final Phenotypes ---\n",
    "    noise = jax.random.normal(key, genotypic_value.shape)\n",
    "    phenotypes = genotypic_value + noise * jnp.sqrt(env_var)\n",
    "\n",
    "    # Return phenotypes and the true breeding value (for selection and tracking gain)\n",
    "    return phenotypes, true_breeding_value\n"
   ]
  },
  {
   "cell_type": "code",
   "execution_count": null,
   "id": "af484363",
   "metadata": {},
   "outputs": [],
   "source": [
    "#| hide\n",
    "import nbdev; nbdev.nbdev_export()"
   ]
  }
 ],
 "metadata": {
  "kernelspec": {
   "display_name": "Python 3",
   "language": "python",
   "name": "python3"
  },
  "language_info": {
   "name": "python",
   "version": "3.10.12"
  }
 },
 "nbformat": 4,
 "nbformat_minor": 5
}
