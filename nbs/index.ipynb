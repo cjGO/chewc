{
 "cells": [
  {
   "cell_type": "code",
   "execution_count": null,
   "metadata": {},
   "outputs": [],
   "source": [
    "# | hide\n",
    "# from chewc.core import *\n",
    "# from chewc.pop import *\n",
    "# from chewc.sp import *\n",
    "# from chewc.trait import *"
   ]
  },
  {
   "cell_type": "markdown",
   "metadata": {},
   "source": [
    "# chewc\n",
    "\n",
    "> JAX breeding sim"
   ]
  },
  {
   "cell_type": "markdown",
   "metadata": {},
   "source": [
    "## Developer Guide"
   ]
  },
  {
   "cell_type": "markdown",
   "metadata": {},
   "source": [
    "If you are new to using `nbdev` here are some useful pointers to get you started."
   ]
  },
  {
   "cell_type": "markdown",
   "metadata": {},
   "source": [
    "### Install chewc in Development mode"
   ]
  },
  {
   "cell_type": "markdown",
   "metadata": {},
   "source": [
    "```sh\n",
    "# make sure chewc package is installed in development mode\n",
    "$ pip install -e .\n",
    "\n",
    "# make changes under nbs/ directory\n",
    "# ...\n",
    "\n",
    "# compile to have changes apply to chewc\n",
    "$ nbdev_prepare\n",
    "```"
   ]
  },
  {
   "cell_type": "markdown",
   "metadata": {},
   "source": [
    "## Usage"
   ]
  },
  {
   "cell_type": "markdown",
   "metadata": {},
   "source": [
    "### Installation"
   ]
  },
  {
   "cell_type": "markdown",
   "metadata": {},
   "source": [
    "Install latest from the GitHub [repository][repo]:\n",
    "\n",
    "```sh\n",
    "$ pip install git+https://github.com/cjGO/chewc.git\n",
    "```\n",
    "\n",
    "\n",
    "[repo]: https://github.com/cjGO/chewc\n",
    "[docs]: https://cjGO.github.io/chewc/\n",
    "[pypi]: https://pypi.org/project/chewc/\n",
    "[conda]: https://anaconda.org/cjGO/chewc"
   ]
  },
  {
   "cell_type": "markdown",
   "metadata": {},
   "source": [
    "### Documentation"
   ]
  },
  {
   "cell_type": "markdown",
   "metadata": {},
   "source": [
    "Documentation can be found hosted on this GitHub [repository][repo]'s [pages][docs].\n",
    "\n",
    "[repo]: https://github.com/cjGO/chewc\n",
    "[docs]: https://cjGO.github.io/chewc/"
   ]
  },
  {
   "cell_type": "markdown",
   "metadata": {},
   "source": [
    "## How to use"
   ]
  },
  {
   "cell_type": "code",
   "execution_count": null,
   "metadata": {},
   "outputs": [
    {
     "name": "stderr",
     "output_type": "stream",
     "text": [
      "WARNING:2025-07-21 14:49:06,864:jax._src.xla_bridge:794: An NVIDIA GPU may be present on this machine, but a CUDA-enabled jaxlib is not installed. Falling back to cpu.\n"
     ]
    },
    {
     "name": "stdout",
     "output_type": "stream",
     "text": [
      "--- Starting Accelerated Burn-in (20 Generations) ---\n",
      "Compiling the JIT function for the first generation (this may take a moment)...\n",
      "JIT compilation finished in 4.26 seconds.\n",
      "--------------------------------------------------\n",
      "Generation  1/20 | Mean Phenotype: -0.0178\n",
      "Generation  2/20 | Mean Phenotype: 0.5732\n",
      "Generation  3/20 | Mean Phenotype: 1.1044\n",
      "Generation  4/20 | Mean Phenotype: 1.5740\n",
      "Generation  5/20 | Mean Phenotype: 2.2945\n",
      "Generation  6/20 | Mean Phenotype: 3.1033\n",
      "Generation  7/20 | Mean Phenotype: 3.5431\n",
      "Generation  8/20 | Mean Phenotype: 4.1015\n",
      "Generation  9/20 | Mean Phenotype: 4.5527\n",
      "Generation 10/20 | Mean Phenotype: 5.1959\n",
      "Generation 11/20 | Mean Phenotype: 5.5863\n",
      "Generation 12/20 | Mean Phenotype: 5.9911\n",
      "Generation 13/20 | Mean Phenotype: 6.3606\n",
      "Generation 14/20 | Mean Phenotype: 6.7998\n",
      "Generation 15/20 | Mean Phenotype: 7.2815\n",
      "Generation 16/20 | Mean Phenotype: 7.6483\n",
      "Generation 17/20 | Mean Phenotype: 8.0602\n",
      "Generation 18/20 | Mean Phenotype: 8.2747\n",
      "Generation 19/20 | Mean Phenotype: 8.6603\n",
      "Generation 20/20 | Mean Phenotype: 8.9926\n",
      "--------------------------------------------------\n",
      "\n",
      "--- Burn-in Complete ---\n",
      "Total simulation time: 11.7093 seconds.\n",
      "Average time per generation (after compilation): 392.3327 ms\n",
      "\n",
      "Final population state after 20 generations:\n",
      "Population(nInd=1000, nTraits=1, has_ebv=No)\n"
     ]
    }
   ],
   "source": [
    "import jax\n",
    "import jax.numpy as jnp\n",
    "import time\n",
    "\n",
    "# Import the necessary classes and the NEW JIT-compiled engine\n",
    "from chewc.sp import SimParam\n",
    "from chewc.population import Population, quick_haplo\n",
    "from chewc.trait import add_trait_a\n",
    "from chewc.phenotype import set_pheno\n",
    "from chewc.pipe import run_generation # The new, all-in-one JIT engine\n",
    "from functools import partial\n",
    "\n",
    "# --- 1. JAX Setup ---\n",
    "key = jax.random.PRNGKey(42)\n",
    "\n",
    "# --- 2. Define Genome Blueprint ---\n",
    "n_chr, n_loci_per_chr, ploidy = 3, 100, 2\n",
    "gen_map = jnp.array([jnp.linspace(0, 1, n_loci_per_chr) for _ in range(n_chr)])\n",
    "centromeres = jnp.full(n_chr, 0.5)\n",
    "\n",
    "# --- 3. Instantiate SimParam ---\n",
    "# We no longer need to update SimParam in the loop, so we can call it `sp`\n",
    "sp = SimParam(gen_map=gen_map, centromere=centromeres, ploidy=ploidy)\n",
    "\n",
    "# --- 4. Create Founder Population ---\n",
    "key, pop_key = jax.random.split(key)\n",
    "founder_pop = quick_haplo(key=pop_key, sim_param=sp, n_ind=100, inbred=False)\n",
    "sp = sp.replace(founderPop=founder_pop)\n",
    "\n",
    "# --- 5. Add Single Additive Trait ---\n",
    "trait_mean = 0.0\n",
    "trait_var = 1.0\n",
    "trait_h2 = 0.1\n",
    "\n",
    "key, trait_key = jax.random.split(key)\n",
    "# All subsequent operations will use this version of SimParam\n",
    "sp = add_trait_a(\n",
    "    key=trait_key,\n",
    "    sim_param=sp,\n",
    "    n_qtl_per_chr=100,\n",
    "    mean=jnp.array([trait_mean]),\n",
    "    var=jnp.array([trait_var])\n",
    ")\n",
    "\n",
    "# --- 6. Set Initial Phenotypes ---\n",
    "key, pheno_key = jax.random.split(key)\n",
    "h2 = jnp.array([trait_h2])\n",
    "current_pop = set_pheno(\n",
    "    key=pheno_key,\n",
    "    pop=founder_pop,\n",
    "    traits=sp.traits,\n",
    "    ploidy=sp.ploidy,\n",
    "    h2=h2\n",
    ")\n",
    "\n",
    "# --- 7. Simulation Parameters ---\n",
    "n_parents_select = 100   # Total number of parents to select\n",
    "n_progeny = 1000\n",
    "burn_in_generations = 20\n",
    "\n",
    "print(f\"--- Starting Accelerated Burn-in ({burn_in_generations} Generations) ---\")\n",
    "print(\"Compiling the JIT function for the first generation (this may take a moment)...\")\n",
    "\n",
    "# --- 8. Accelerated Burn-in Loop ---\n",
    "# This loop now calls the single, JIT-compiled `run_generation` function.\n",
    "# The first call will trigger compilation, and subsequent calls will be extremely fast.\n",
    "\n",
    "start_time = time.time()\n",
    "for gen in range(burn_in_generations):\n",
    "    # Split the key for the next generation. All sub-keys are handled inside run_generation.\n",
    "    key, generation_key = jax.random.split(key)\n",
    "\n",
    "    # **SINGLE, HIGHLY-ACCELERATED CALL**\n",
    "    current_pop = run_generation(\n",
    "        key=generation_key,\n",
    "        pop=current_pop,\n",
    "        h2=h2,\n",
    "        n_parents=n_parents_select,\n",
    "        n_crosses=n_progeny,\n",
    "        # Pass static arguments\n",
    "        use_pheno_selection=True,\n",
    "        select_top_parents=True,\n",
    "        ploidy=sp.ploidy,\n",
    "        # Pass static SimParam components\n",
    "        gen_map=sp.gen_map,\n",
    "        recomb_param_v=sp.recomb_params[0],\n",
    "        traits=sp.traits\n",
    "    )\n",
    "    \n",
    "    # Block until the computation is actually finished to get accurate timing and stats.\n",
    "    # This is crucial for benchmarking JAX code.\n",
    "    mean_pheno = jnp.mean(current_pop.pheno).block_until_ready()\n",
    "    \n",
    "    if gen == 0:\n",
    "        compilation_time = time.time() - start_time\n",
    "        print(f\"JIT compilation finished in {compilation_time:.2f} seconds.\")\n",
    "        print(\"-\" * 50)\n",
    "        \n",
    "    print(f\"Generation {gen + 1:2d}/{burn_in_generations} | Mean Phenotype: {mean_pheno:.4f}\")\n",
    "\n",
    "end_time = time.time()\n",
    "total_time = end_time - start_time\n",
    "avg_time_per_gen = (total_time - compilation_time) / (burn_in_generations - 1) if burn_in_generations > 1 else total_time\n",
    "\n",
    "print(\"-\" * 50)\n",
    "print(\"\\n--- Burn-in Complete ---\")\n",
    "print(f\"Total simulation time: {total_time:.4f} seconds.\")\n",
    "print(f\"Average time per generation (after compilation): {avg_time_per_gen * 1000:.4f} ms\")\n",
    "print(f\"\\nFinal population state after {burn_in_generations} generations:\")\n",
    "print(current_pop)"
   ]
  }
 ],
 "metadata": {
  "kernelspec": {
   "display_name": "python3",
   "language": "python",
   "name": "python3"
  }
 },
 "nbformat": 4,
 "nbformat_minor": 4
}
