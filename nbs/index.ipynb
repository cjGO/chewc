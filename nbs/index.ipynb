{
 "cells": [
  {
   "cell_type": "code",
   "execution_count": null,
   "metadata": {},
   "outputs": [],
   "source": [
    "# | hide\n",
    "# from chewc.core import *\n",
    "# from chewc.pop import *\n",
    "# from chewc.sp import *\n",
    "# from chewc.trait import *"
   ]
  },
  {
   "cell_type": "markdown",
   "metadata": {},
   "source": [
    "# chewc\n",
    "\n",
    "> JAX breeding sim"
   ]
  },
  {
   "cell_type": "markdown",
   "metadata": {},
   "source": [
    "## Developer Guide"
   ]
  },
  {
   "cell_type": "markdown",
   "metadata": {},
   "source": [
    "If you are new to using `nbdev` here are some useful pointers to get you started."
   ]
  },
  {
   "cell_type": "markdown",
   "metadata": {},
   "source": [
    "### Install chewc in Development mode"
   ]
  },
  {
   "cell_type": "markdown",
   "metadata": {},
   "source": [
    "```sh\n",
    "# make sure chewc package is installed in development mode\n",
    "$ pip install -e .\n",
    "\n",
    "# make changes under nbs/ directory\n",
    "# ...\n",
    "\n",
    "# compile to have changes apply to chewc\n",
    "$ nbdev_prepare\n",
    "```"
   ]
  },
  {
   "cell_type": "markdown",
   "metadata": {},
   "source": [
    "## Usage"
   ]
  },
  {
   "cell_type": "markdown",
   "metadata": {},
   "source": [
    "### Installation"
   ]
  },
  {
   "cell_type": "markdown",
   "metadata": {},
   "source": [
    "Install latest from the GitHub [repository][repo]:\n",
    "\n",
    "```sh\n",
    "$ pip install git+https://github.com/cjGO/chewc.git\n",
    "```\n",
    "\n",
    "\n",
    "[repo]: https://github.com/cjGO/chewc\n",
    "[docs]: https://cjGO.github.io/chewc/\n",
    "[pypi]: https://pypi.org/project/chewc/\n",
    "[conda]: https://anaconda.org/cjGO/chewc"
   ]
  },
  {
   "cell_type": "markdown",
   "metadata": {},
   "source": [
    "### Documentation"
   ]
  },
  {
   "cell_type": "markdown",
   "metadata": {},
   "source": [
    "Documentation can be found hosted on this GitHub [repository][repo]'s [pages][docs].\n",
    "\n",
    "[repo]: https://github.com/cjGO/chewc\n",
    "[docs]: https://cjGO.github.io/chewc/"
   ]
  },
  {
   "cell_type": "markdown",
   "metadata": {},
   "source": [
    "## How to use"
   ]
  },
  {
   "cell_type": "code",
   "execution_count": null,
   "metadata": {},
   "outputs": [
    {
     "name": "stderr",
     "output_type": "stream",
     "text": [
      "WARNING:2025-07-13 10:40:40,642:jax._src.xla_bridge:794: An NVIDIA GPU may be present on this machine, but a CUDA-enabled jaxlib is not installed. Falling back to cpu.\n"
     ]
    },
    {
     "name": "stdout",
     "output_type": "stream",
     "text": [
      "--- Initial Simulation Parameters Created ---\n",
      "SimParam(nChr=3, nTraits=0, ploidy=2, sexes='no')\n",
      "-----------------------------------\n",
      "\n",
      "--- Founder Population Created ---\n",
      "Population(nInd=50, nTraits=0, has_ebv=No)\n",
      "Genotype array shape: (50, 3, 2, 100)\n",
      "-----------------------------------\n",
      "\n",
      "--- Simulation Parameters Finalized with Founder Pop ---\n",
      "SimParam(nChr=3, nTraits=0, ploidy=2, sexes='no')\n",
      "Number of traits before: 0\n",
      "-----------------------------------\n",
      "\n",
      "--- Correlated Additive Traits Added ---\n",
      "SimParam object updated: SimParam(nChr=3, nTraits=2, ploidy=2, sexes='no')\n",
      "Number of traits after: 2\n",
      "\n",
      "Details of the new TraitCollection:\n",
      "  - Number of shared QTL: 300\n",
      "  - Shape of additive effects array: (2, 300)\n",
      "  - Intercepts for all traits: [ 9.365508 17.48284 ]\n",
      "-----------------------------------\n",
      "\n",
      "--- Phenotypes Calculated for Founder Population (JIT-compiled) ---\n",
      "Population(nInd=50, nTraits=0, has_ebv=No)\n",
      "\n",
      "Phenotype array shape: (50, 2)\n",
      "\n",
      "Example phenotypes (first 5 individuals):\n",
      "[[ 9.620646 18.488605]\n",
      " [ 7.924078 16.82735 ]\n",
      " [14.140717 22.798744]\n",
      " [10.944615 22.986835]\n",
      " [12.37978  22.679428]]\n",
      "-----------------------------------\n"
     ]
    }
   ],
   "source": [
    "import jax\n",
    "import jax.numpy as jnp\n",
    "\n",
    "# Import the necessary classes and functions from your library\n",
    "from chewc.sp import SimParam\n",
    "from chewc.population import quick_haplo, Population\n",
    "# Import the refactored trait-related classes and functions\n",
    "from chewc.trait import add_trait_a, TraitCollection\n",
    "# Import the JIT-compatible phenotype function\n",
    "from chewc.pheno import set_pheno\n",
    "\n",
    "# --- 1. JAX Setup ---\n",
    "key = jax.random.PRNGKey(42)\n",
    "\n",
    "# --- 2. Define the Genome's \"Blueprint\" ---\n",
    "n_chr = 3\n",
    "n_loci_per_chr = 100\n",
    "ploidy = 2\n",
    "gen_map = jnp.array([jnp.linspace(0, 1, n_loci_per_chr) for _ in range(n_chr)])\n",
    "centromeres = jnp.full(n_chr, 0.5)\n",
    "\n",
    "# --- 3. Instantiate Initial Simulation Parameters ---\n",
    "# This remains the same.\n",
    "SP = SimParam(\n",
    "    gen_map=gen_map,\n",
    "    centromere=centromeres,\n",
    "    ploidy=ploidy\n",
    ")\n",
    "\n",
    "print(\"--- Initial Simulation Parameters Created ---\")\n",
    "print(SP)\n",
    "print(\"-\" * 35)\n",
    "\n",
    "# --- 4. Create the Founder Population ---\n",
    "# This remains the same.\n",
    "key, pop_key = jax.random.split(key)\n",
    "n_founders = 50\n",
    "\n",
    "founder_pop = quick_haplo(\n",
    "    key=pop_key,\n",
    "    sim_param=SP,\n",
    "    n_ind=n_founders,\n",
    "    inbred=False\n",
    ")\n",
    "\n",
    "print(\"\\n--- Founder Population Created ---\")\n",
    "print(founder_pop)\n",
    "print(f\"Genotype array shape: {founder_pop.geno.shape}\")\n",
    "print(\"-\" * 35)\n",
    "\n",
    "\n",
    "# --- 5. Finalize Simulation Parameters ---\n",
    "# This remains the same.\n",
    "SP = SP.replace(founderPop=founder_pop)\n",
    "\n",
    "print(\"\\n--- Simulation Parameters Finalized with Founder Pop ---\")\n",
    "print(SP)\n",
    "print(f\"Number of traits before: {SP.n_traits}\")\n",
    "print(\"-\" * 35)\n",
    "\n",
    "\n",
    "# --- 6. Add Two Correlated Additive Traits ---\n",
    "# This section is MODIFIED to correctly inspect the new TraitCollection\n",
    "key, trait_key = jax.random.split(key)\n",
    "\n",
    "n_qtl_per_chr = 100\n",
    "trait_means = jnp.array([10.0, 20.0])\n",
    "trait_vars = jnp.array([1.5, 2.5])\n",
    "trait_cor = jnp.array([[1.0, 0.8],\n",
    "                       [0.8, 1.0]])\n",
    "\n",
    "# This function call is the same, but what it returns has changed.\n",
    "SP_with_traits = add_trait_a(\n",
    "    key=trait_key,\n",
    "    sim_param=SP,\n",
    "    n_qtl_per_chr=n_qtl_per_chr,\n",
    "    mean=trait_means,\n",
    "    var=trait_vars,\n",
    "    cor_a=trait_cor\n",
    ")\n",
    "\n",
    "print(\"\\n--- Correlated Additive Traits Added ---\")\n",
    "# The __repr__ for SimParam will now work correctly\n",
    "print(f\"SimParam object updated: {SP_with_traits}\")\n",
    "\n",
    "# **FIXED**: We now access the single TraitCollection object\n",
    "trait_collection = SP_with_traits.traits\n",
    "\n",
    "# **FIXED**: Inspect the properties of the vectorized TraitCollection\n",
    "print(f\"Number of traits after: {trait_collection.n_traits}\")\n",
    "print(\"\\nDetails of the new TraitCollection:\")\n",
    "print(f\"  - Number of shared QTL: {trait_collection.n_loci}\")\n",
    "print(f\"  - Shape of additive effects array: {trait_collection.add_eff.shape}\")\n",
    "print(f\"  - Intercepts for all traits: {trait_collection.intercept}\")\n",
    "print(\"-\" * 35)\n",
    "\n",
    "# --- 7. Set Phenotypes for the Founder Population ---\n",
    "# This section is MODIFIED to use the new JIT-compatible function signature\n",
    "key, pheno_key = jax.random.split(key)\n",
    "\n",
    "h2 = jnp.array([0.5, 0.7])\n",
    "cor_e = jnp.array([[1.0, 0.3],\n",
    "                   [0.3, 1.0]])\n",
    "\n",
    "# **FIXED**: Calling the refactored, JIT-compatible set_pheno function.\n",
    "# We now pass the TraitCollection object directly.\n",
    "founder_pop_with_pheno = set_pheno(\n",
    "    key=pheno_key,\n",
    "    pop=founder_pop,\n",
    "    traits=trait_collection,\n",
    "    ploidy=SP_with_traits.ploidy, # Pass ploidy from the SimParam object\n",
    "    h2=h2,\n",
    "    cor_e=cor_e\n",
    ")\n",
    "# The first time this runs, JAX will JIT-compile the function.\n",
    "# Subsequent calls will be lightning fast! ⚡️\n",
    "print(\"\\n--- Phenotypes Calculated for Founder Population (JIT-compiled) ---\")\n",
    "print(founder_pop_with_pheno)\n",
    "print(f\"\\nPhenotype array shape: {founder_pop_with_pheno.pheno.shape}\")\n",
    "print(\"\\nExample phenotypes (first 5 individuals):\")\n",
    "print(founder_pop_with_pheno.pheno[:5, :])\n",
    "print(\"-\" * 35)"
   ]
  }
 ],
 "metadata": {
  "kernelspec": {
   "display_name": "python3",
   "language": "python",
   "name": "python3"
  }
 },
 "nbformat": 4,
 "nbformat_minor": 4
}
