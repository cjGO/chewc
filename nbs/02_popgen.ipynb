{
 "cells": [
  {
   "cell_type": "code",
   "execution_count": 1,
   "id": "3cac6389",
   "metadata": {},
   "outputs": [],
   "source": [
    "#| default_exp popgen"
   ]
  },
  {
   "cell_type": "code",
   "execution_count": 2,
   "id": "03d1022e",
   "metadata": {},
   "outputs": [],
   "source": [
    "#| export\n",
    "# chewc/popgen.py\n",
    "from typing import Tuple\n",
    "import jax\n",
    "import jax.numpy as jnp\n",
    "from numpy.random import default_rng\n",
    "\n",
    "\n",
    "import msprime\n",
    "# Correctly import the Population structure from your new module\n",
    "from chewc.structs import Population, SimParam, SimConfig\n"
   ]
  },
  {
   "cell_type": "code",
   "execution_count": 8,
   "id": "b35a5a82",
   "metadata": {},
   "outputs": [],
   "source": [
    "#| export\n",
    "# In your refactored chewc/popgen.py\n",
    "from typing import Tuple\n",
    "from chewc.structs import Population # Import the NEW Population PyTree\n",
    "import jax\n",
    "import jax.numpy as jnp\n",
    "\n",
    "def create_founders(\n",
    "    key: jax.random.PRNGKey,\n",
    "    n_ind: int,\n",
    "    n_chr: int,\n",
    "    n_loci_per_chr: int,\n",
    "    ploidy: int = 2,\n",
    "    chr_len_cm: float = 100.0\n",
    ") -> Tuple[Population, jnp.ndarray]:\n",
    "    \"\"\"\n",
    "    Creates a dense founder population and a corresponding genetic map.\n",
    "\n",
    "    Returns:\n",
    "        A tuple of (Population, genetic_map). The Population object is a lean\n",
    "        PyTree with no padding, and the genetic_map is a JAX array.\n",
    "    \"\"\"\n",
    "    key_geno, _ = jax.random.split(key)\n",
    "\n",
    "    # 1. Generate dense genetic data\n",
    "    founder_geno = jax.random.randint(\n",
    "        key_geno, (n_ind, n_chr, ploidy, n_loci_per_chr), 0, 2, dtype=jnp.uint8\n",
    "    )\n",
    "\n",
    "    # 3. Create dense metadata\n",
    "    ids = jnp.arange(n_ind, dtype=jnp.int32)\n",
    "    mother_ids = jnp.full(n_ind, -1, dtype=jnp.int32)\n",
    "    father_ids = jnp.full(n_ind, -1, dtype=jnp.int32)\n",
    "    birth_gens = jnp.zeros(n_ind, dtype=jnp.int32)\n",
    "    founder_meta = jnp.stack([ids, mother_ids, father_ids, birth_gens], axis=-1)\n",
    "\n",
    "    # 4. Generate a uniform genetic map\n",
    "    loci_pos = jnp.linspace(0., chr_len_cm, n_loci_per_chr)\n",
    "    genetic_map = jnp.tile(loci_pos, (n_chr, 1))\n",
    "\n",
    "    # 5. Instantiate the Population PyTree and return with the map\n",
    "    population = Population(\n",
    "        geno=founder_geno,\n",
    "        meta=founder_meta\n",
    "    )\n",
    "\n",
    "    return population, genetic_map"
   ]
  },
  {
   "cell_type": "code",
   "execution_count": 9,
   "id": "af484363",
   "metadata": {},
   "outputs": [],
   "source": [
    "#| hide\n",
    "import nbdev; nbdev.nbdev_export()"
   ]
  },
  {
   "cell_type": "code",
   "execution_count": null,
   "id": "a811b801",
   "metadata": {},
   "outputs": [],
   "source": []
  }
 ],
 "metadata": {
  "kernelspec": {
   "display_name": "Python 3",
   "language": "python",
   "name": "python3"
  },
  "language_info": {
   "codemirror_mode": {
    "name": "ipython",
    "version": 3
   },
   "file_extension": ".py",
   "mimetype": "text/x-python",
   "name": "python",
   "nbconvert_exporter": "python",
   "pygments_lexer": "ipython3",
   "version": "3.10.12"
  }
 },
 "nbformat": 4,
 "nbformat_minor": 5
}
