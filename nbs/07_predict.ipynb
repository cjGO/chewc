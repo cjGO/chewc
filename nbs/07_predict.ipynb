{
 "cells": [
  {
   "cell_type": "markdown",
   "metadata": {},
   "source": [
    "# predict\n",
    "\n",
    "> Common operations around the core datastructures for running a sim"
   ]
  },
  {
   "cell_type": "code",
   "execution_count": 2,
   "metadata": {},
   "outputs": [],
   "source": [
    "#| default_exp pipe"
   ]
  },
  {
   "cell_type": "code",
   "execution_count": 3,
   "metadata": {},
   "outputs": [],
   "source": [
    "#| hide\n",
    "from nbdev.showdoc import *"
   ]
  },
  {
   "cell_type": "code",
   "execution_count": 6,
   "metadata": {},
   "outputs": [],
   "source": [
    "#| export\n",
    "\n",
    "from flax.struct import dataclass as flax_dataclass\n",
    "import jax.numpy as jnp\n",
    "from typing import Optional"
   ]
  },
  {
   "cell_type": "code",
   "execution_count": 7,
   "metadata": {},
   "outputs": [],
   "source": [
    "\n",
    "@flax_dataclass(frozen=True)\n",
    "class PredictionResults:\n",
    "    \"\"\"\n",
    "    A container for the results of a genomic prediction.\n",
    "\n",
    "    This object is a PyTree, making it compatible with JAX transformations.\n",
    "\n",
    "    Attributes:\n",
    "        ids (jnp.ndarray): The public IDs of the individuals.\n",
    "        ebv (jnp.ndarray): The estimated breeding values. Shape: (nInd, nTraits).\n",
    "        pev (Optional[jnp.ndarray]): The prediction error variance for each EBV.\n",
    "        reliability (Optional[jnp.ndarray]): The reliability of each EBV.\n",
    "        fixed_effects (Optional[jnp.ndarray]): The estimated fixed effects.\n",
    "        h2_used (Optional[float]): The heritability value used for the prediction.\n",
    "    \"\"\"\n",
    "    ids: jnp.ndarray\n",
    "    ebv: jnp.ndarray\n",
    "    pev: Optional[jnp.ndarray] = None\n",
    "    reliability: Optional[jnp.ndarray] = None\n",
    "    fixed_effects: Optional[jnp.ndarray] = None\n",
    "    h2_used: Optional[float] = None"
   ]
  },
  {
   "cell_type": "code",
   "execution_count": 8,
   "metadata": {},
   "outputs": [],
   "source": [
    "#| export\n",
    "import jax.numpy as jnp\n",
    "from jax.numpy.linalg import solve, inv\n",
    "from chewc.population import Population\n",
    "\n",
    "def gblup_predict(pop: Population, h2: float) -> PredictionResults:\n",
    "    \"\"\"\n",
    "    Predicts breeding values using GBLUP.\n",
    "\n",
    "    Args:\n",
    "        pop: A Population object with phenotypes.\n",
    "        h2: The heritability of the trait.\n",
    "\n",
    "    Returns:\n",
    "        A new Population object with ebv and pev attributes.\n",
    "    \"\"\"\n",
    "    # 1. Get phenotypes and genotypes\n",
    "    y = pop.pheno[:, 0] # Assuming a single trait for now\n",
    "    M = pop.dosage\n",
    "\n",
    "    n_ind, n_loci = M.shape\n",
    "\n",
    "    # 2. Calculate the Genomic Relationship Matrix (G)\n",
    "    p = jnp.mean(M, axis=0) / 2\n",
    "    W = M - 2 * p\n",
    "    g_numerator = W @ W.T\n",
    "    g_denominator = 2 * jnp.sum(p * (1 - p))\n",
    "    G = g_numerator / g_denominator\n",
    "\n",
    "    # 3. Set up the Mixed Model Equations (MME)\n",
    "    # For a simple model with only an intercept as a fixed effect\n",
    "    X = jnp.ones((n_ind, 1))\n",
    "\n",
    "    # Calculate variance components from heritability\n",
    "    var_y = jnp.var(y)\n",
    "    var_g = h2 * var_y\n",
    "    var_e = (1 - h2) * var_y\n",
    "    lambda_val = var_e / var_g\n",
    "\n",
    "    # Construct the MME coefficient matrix\n",
    "    C11 = X.T @ X\n",
    "    C12 = X.T # Since Z is identity\n",
    "    C21 = X   # Since Z is identity\n",
    "    # Add a small value to the diagonal of G for numerical stability\n",
    "    G_inv = inv(G + jnp.eye(n_ind) * 1e-6)\n",
    "    C22 = jnp.eye(n_ind) + G_inv * lambda_val\n",
    "\n",
    "    # MME Left-Hand Side (LHS)\n",
    "    LHS = jnp.block([[C11, C12], [C21, C22]])\n",
    "\n",
    "    # MME Right-Hand Side (RHS)\n",
    "    RHS = jnp.concatenate([X.T @ y, y])\n",
    "\n",
    "    # 4. Solve the MME\n",
    "    solutions = solve(LHS, RHS)\n",
    "    b_hat = solutions[:1]\n",
    "    u_hat = solutions[1:]\n",
    "\n",
    "    # 5. Calculate Prediction Error Variance (PEV)\n",
    "    C_inv = inv(LHS)\n",
    "    pev = jnp.diag(C_inv[1:, 1:]) * var_e\n",
    "    \n",
    "    # Optionally, calculate reliability\n",
    "    reliability = 1 - (pev / var_g)\n",
    "    return PredictionResults(\n",
    "        ids=pop.id,\n",
    "        ebv=u_hat[:, jnp.newaxis], # Reshape to (nInd, 1)\n",
    "        pev=pev,\n",
    "        reliability=reliability,\n",
    "        fixed_effects=b_hat,\n",
    "        h2_used=h2\n",
    "    )"
   ]
  },
  {
   "cell_type": "code",
   "execution_count": null,
   "metadata": {},
   "outputs": [
    {
     "name": "stderr",
     "output_type": "stream",
     "text": [
      "WARNING:2025-08-31 13:03:50,775:jax._src.xla_bridge:794: An NVIDIA GPU may be present on this machine, but a CUDA-enabled jaxlib is not installed. Falling back to cpu.\n"
     ]
    }
   ],
   "source": [
    "# Assuming gblup_predict is in a module called `prediction`\n",
    "import jax\n",
    "from chewc.population import quick_haplo\n",
    "\n",
    "key = jax.random.PRNGKey(0)\n",
    "founder_pop, genetic_map = quick_haplo(key, n_ind=100, n_chr=1, n_loci_per_chr=1000)\n",
    "\n",
    "\n",
    "from chewc.sp import SimParam\n",
    "from chewc.trait import add_trait_a\n",
    "import jax.numpy as jnp\n",
    "\n",
    "sp = SimParam.from_founder_pop(founder_pop, genetic_map)\n",
    "\n",
    "# Define a single trait with 100 QTLs\n",
    "sp = add_trait_a(\n",
    "    key,\n",
    "    founder_pop,\n",
    "    sp,\n",
    "    n_qtl_per_chr=100,\n",
    "    mean=jnp.array([0]),\n",
    "    var=jnp.array([1.0])\n",
    ")\n",
    "\n",
    "from chewc.phenotype import set_pheno\n",
    "\n",
    "# Generate phenotypes with a heritability of 0.5\n",
    "h2 = 0.5\n",
    "founder_pop_with_pheno = set_pheno(key, founder_pop, sp.traits, sp.ploidy, h2=jnp.array([h2]))\n",
    "\n",
    "# GBLUP\n",
    "\n",
    "\n",
    "predicted_pop = gblup_predict(founder_pop_with_pheno, h2)\n"
   ]
  },
  {
   "cell_type": "code",
   "execution_count": null,
   "metadata": {},
   "outputs": [],
   "source": []
  },
  {
   "cell_type": "code",
   "execution_count": 5,
   "metadata": {},
   "outputs": [],
   "source": [
    "#| hide\n",
    "import nbdev; nbdev.nbdev_export()"
   ]
  }
 ],
 "metadata": {
  "kernelspec": {
   "display_name": "Python 3",
   "language": "python",
   "name": "python3"
  },
  "language_info": {
   "codemirror_mode": {
    "name": "ipython",
    "version": 3
   },
   "file_extension": ".py",
   "mimetype": "text/x-python",
   "name": "python",
   "nbconvert_exporter": "python",
   "pygments_lexer": "ipython3",
   "version": "3.10.12"
  }
 },
 "nbformat": 4,
 "nbformat_minor": 4
}
