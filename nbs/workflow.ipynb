{
 "cells": [
  {
   "cell_type": "code",
   "execution_count": 1,
   "id": "3cac6389",
   "metadata": {},
   "outputs": [],
   "source": [
    "#| default_exp workflow"
   ]
  },
  {
   "cell_type": "code",
   "execution_count": 2,
   "id": "1fb1e747",
   "metadata": {},
   "outputs": [
    {
     "name": "stdout",
     "output_type": "stream",
     "text": [
      "msprime version being used: 1.3.4\n",
      "Python executable: /bin/python\n"
     ]
    }
   ],
   "source": [
    "import msprime\n",
    "import sys\n",
    "\n",
    "print(f\"msprime version being used: {msprime.__version__}\")\n",
    "print(f\"Python executable: {sys.executable}\")"
   ]
  },
  {
   "cell_type": "markdown",
   "id": "320c9b42",
   "metadata": {},
   "source": []
  },
  {
   "cell_type": "code",
   "execution_count": 3,
   "id": "599d71c8",
   "metadata": {},
   "outputs": [
    {
     "name": "stderr",
     "output_type": "stream",
     "text": [
      "WARNING:2025-10-02 00:06:22,977:jax._src.xla_bridge:794: An NVIDIA GPU may be present on this machine, but a CUDA-enabled jaxlib is not installed. Falling back to cpu.\n"
     ]
    },
    {
     "name": "stdout",
     "output_type": "stream",
     "text": [
      "Initial write position: 101\n",
      "Next available ID: 100\n",
      "Founder population active: 100\n"
     ]
    },
    {
     "name": "stderr",
     "output_type": "stream",
     "text": [
      "/mnt/c/Users/cltng/gdrive/chewc/chewc/state.py:72: UserWarning: max_pop_size (1000) is not a multiple of population_size (101). Automatically increasing max_pop_size to 1010 for a clean ring buffer.\n",
      "  warnings.warn(\n"
     ]
    }
   ],
   "source": [
    "#|export\n",
    "\n",
    "import jax\n",
    "from chewc.config import SimConfig\n",
    "from chewc.structs import SimParam\n",
    "from chewc.popgen import quick_haplo\n",
    "from chewc.state import init_state_from_founders\n",
    "import jax.numpy as jnp\n",
    "\n",
    "\n",
    "# 1. Define static simulation configuration\n",
    "config = SimConfig(\n",
    "    n_chr=10,\n",
    "    ploidy=2,\n",
    "    max_pop_size=1000,\n",
    "    n_loci_per_chr=100,\n",
    "    n_generations=50,\n",
    "    n_select=50,\n",
    "    population_size=101  # invalid value, not multiple\n",
    ")\n",
    "\n",
    "# 2. Create a master random key\n",
    "key = jax.random.PRNGKey(42)\n",
    "key, founder_key = jax.random.split(key)\n",
    "\n",
    "# 3. Generate the founder population (runs on host)\n",
    "founder_pop, genetic_map = quick_haplo(\n",
    "    key=founder_key,\n",
    "    n_ind=100,\n",
    "    n_chr=config.n_chr,\n",
    "    n_loci_per_chr=config.n_loci_per_chr,\n",
    "    max_pop_size=config.max_pop_size,\n",
    "    ploidy=config.ploidy\n",
    ")\n",
    "\n",
    "# 4. Define simulation parameters (e.g., genetic maps, trait info)\n",
    "sp = SimParam(\n",
    "    gen_map=genetic_map,\n",
    "    ploidy=config.ploidy,\n",
    "    # traits, var_e, etc. would be defined here\n",
    ")\n",
    "\n",
    "# 5. Initialize the dynamic simulation state (the carry for lax.scan)\n",
    "# This uses your existing `init_state_from_founders` function.\n",
    "key, state_key = jax.random.split(key)\n",
    "initial_state = init_state_from_founders(\n",
    "    key=state_key,\n",
    "    founder_pop=founder_pop,\n",
    "    sp=sp,\n",
    "    config=config\n",
    ")\n",
    "\n",
    "print(f\"Initial write position: {initial_state.write_pos}\")\n",
    "print(f\"Next available ID: {initial_state.next_id}\")\n",
    "print(f\"Founder population active: {jnp.sum(initial_state.is_active)}\")\n",
    "\n",
    "# `initial_state` is now ready to be passed to your JIT'd `generation_step`\n",
    "# within a `lax.scan`."
   ]
  },
  {
   "cell_type": "code",
   "execution_count": 8,
   "id": "5d17f07e",
   "metadata": {},
   "outputs": [
    {
     "name": "stdout",
     "output_type": "stream",
     "text": [
      "--- Defining Trait ---\n",
      "Trait added with 100 QTLs.\n",
      "\n",
      "--- Setting Initial Phenotypes with h2 ---\n",
      "\n",
      "--- Initializing Simulation State ---\n",
      "Initial write position: 100\n",
      "Next available ID: 100\n",
      "Founder population active: 100\n",
      "\n",
      "--- Verification ---\n",
      "Target narrow-sense heritability (h2): 0.4000\n",
      "Realized additive variance (VarA) in founders: 1.0000\n",
      "Realized phenotypic variance (VarP) in founders: 2.6278\n",
      "Realized narrow-sense heritability (h2) in founders: 0.3805\n"
     ]
    }
   ],
   "source": [
    "# | export\n",
    "\n",
    "import jax\n",
    "import jax.numpy as jnp\n",
    "from chewc.config import SimConfig\n",
    "from chewc.structs import SimParam\n",
    "from chewc.popgen import quick_haplo\n",
    "from chewc.state import init_state_from_founders\n",
    "# Import the new trait module functions\n",
    "from chewc.trait import add_trait_a, set_pheno_h2\n",
    "\n",
    "\n",
    "# 1. Define static simulation configuration\n",
    "config = SimConfig(\n",
    "    n_chr=10,\n",
    "    ploidy=2,\n",
    "    max_pop_size=1000,\n",
    "    n_loci_per_chr=100,\n",
    "    n_generations=50,\n",
    "    n_select=50,\n",
    "    population_size=100\n",
    ")\n",
    "\n",
    "# 2. Create and split master random key\n",
    "key = jax.random.PRNGKey(42)\n",
    "key, founder_key, trait_key, pheno_key, state_key = jax.random.split(key, 5)\n",
    "\n",
    "# 3. Generate the founder population\n",
    "founder_pop, genetic_map = quick_haplo(\n",
    "    key=founder_key,\n",
    "    n_ind=100,\n",
    "    n_chr=config.n_chr,\n",
    "    n_loci_per_chr=config.n_loci_per_chr,\n",
    "    max_pop_size=config.max_pop_size,\n",
    "    ploidy=config.ploidy\n",
    ")\n",
    "\n",
    "# 4. Define initial simulation parameters\n",
    "sp = SimParam(\n",
    "    gen_map=genetic_map,\n",
    "    ploidy=config.ploidy,\n",
    ")\n",
    "\n",
    "# 5. Add an additive trait to the simulation parameters\n",
    "print(\"--- Defining Trait ---\")\n",
    "sp = add_trait_a(\n",
    "    key=trait_key,\n",
    "    founder_pop=founder_pop,\n",
    "    sim_param=sp,\n",
    "    n_qtl_per_chr=10,\n",
    "    mean=jnp.array([0.0]),\n",
    "    var=jnp.array([1.0]) # Target *genetic* variance\n",
    ")\n",
    "print(f\"Trait added with {sp.traits.n_loci} QTLs.\")\n",
    "\n",
    "# 6. Set phenotypes using a target narrow-sense heritability (h2)\n",
    "print(\"\\n--- Setting Initial Phenotypes with h2 ---\")\n",
    "# Let's target a narrow-sense heritability of 0.4\n",
    "h2 = 0.4\n",
    "founder_pop_with_pheno = set_pheno_h2(\n",
    "    key=pheno_key,\n",
    "    pop=founder_pop,\n",
    "    sp=sp,\n",
    "    h2=h2\n",
    ")\n",
    "\n",
    "# 7. Initialize the dynamic simulation state\n",
    "print(\"\\n--- Initializing Simulation State ---\")\n",
    "initial_state = init_state_from_founders(\n",
    "    key=state_key,\n",
    "    founder_pop=founder_pop_with_pheno,\n",
    "    sp=sp,\n",
    "    config=config\n",
    ")\n",
    "\n",
    "print(f\"Initial write position: {initial_state.write_pos}\")\n",
    "print(f\"Next available ID: {initial_state.next_id}\")\n",
    "print(f\"Founder population active: {jnp.sum(initial_state.is_active)}\")\n",
    "\n",
    "# 8. Verification\n",
    "print(\"\\n--- Verification ---\")\n",
    "active_mask = initial_state.is_active\n",
    "var_a = jnp.var(initial_state.bv[active_mask])\n",
    "var_p = jnp.var(initial_state.pheno[active_mask])\n",
    "realized_h2 = var_a / var_p\n",
    "\n",
    "print(f\"Target narrow-sense heritability (h2): {h2:.4f}\")\n",
    "print(f\"Realized additive variance (VarA) in founders: {var_a:.4f}\")\n",
    "print(f\"Realized phenotypic variance (VarP) in founders: {var_p:.4f}\")\n",
    "print(f\"Realized narrow-sense heritability (h2) in founders: {realized_h2:.4f}\")\n",
    "\n",
    "# `initial_state` is now ready for the simulation loop."
   ]
  },
  {
   "cell_type": "code",
   "execution_count": 7,
   "id": "1bf6ade1",
   "metadata": {},
   "outputs": [
    {
     "ename": "SyntaxError",
     "evalue": "closing parenthesis ']' does not match opening parenthesis '(' (<unknown>, line 49)",
     "output_type": "error",
     "traceback": [
      "Traceback \u001b[0;36m(most recent call last)\u001b[0m:\n",
      "\u001b[0m  File \u001b[1;32m~/.local/lib/python3.10/site-packages/IPython/core/interactiveshell.py:3579\u001b[0m in \u001b[1;35mrun_code\u001b[0m\n    exec(code_obj, self.user_global_ns, self.user_ns)\u001b[0m\n",
      "\u001b[0m  Cell \u001b[1;32mIn[7], line 2\u001b[0m\n    import nbdev; nbdev.nbdev_export()\u001b[0m\n",
      "\u001b[0m  File \u001b[1;32m~/.local/lib/python3.10/site-packages/fastcore/script.py:116\u001b[0m in \u001b[1;35m_f\u001b[0m\n    if not mod: return func(*args, **kwargs)\u001b[0m\n",
      "\u001b[0m  File \u001b[1;32m~/.local/lib/python3.10/site-packages/nbdev/doclinks.py:159\u001b[0m in \u001b[1;35mnbdev_export\u001b[0m\n    _build_modidx()\u001b[0m\n",
      "\u001b[0m  File \u001b[1;32m~/.local/lib/python3.10/site-packages/nbdev/doclinks.py:116\u001b[0m in \u001b[1;35m_build_modidx\u001b[0m\n    res['syms'].update(_get_modidx((dest.parent/file).resolve(), code_root, nbs_path=nbs_path))\u001b[0m\n",
      "\u001b[0m  File \u001b[1;32m~/.local/lib/python3.10/site-packages/nbdev/doclinks.py:93\u001b[0m in \u001b[1;35m_get_modidx\u001b[0m\n    for tree in ast.parse(cell.code).body:\u001b[0m\n",
      "\u001b[0;36m  File \u001b[0;32m/usr/lib/python3.10/ast.py:50\u001b[0;36m in \u001b[0;35mparse\u001b[0;36m\n\u001b[0;31m    return compile(source, filename, mode, flags,\u001b[0;36m\n",
      "\u001b[0;36m  File \u001b[0;32m<unknown>:49\u001b[0;36m\u001b[0m\n\u001b[0;31m    mean=jnp.array(0.0]),\u001b[0m\n\u001b[0m                      ^\u001b[0m\n\u001b[0;31mSyntaxError\u001b[0m\u001b[0;31m:\u001b[0m closing parenthesis ']' does not match opening parenthesis '('\n"
     ]
    }
   ],
   "source": [
    "#| hide\n",
    "import nbdev; nbdev.nbdev_export()"
   ]
  },
  {
   "cell_type": "code",
   "execution_count": null,
   "id": "faece8a0",
   "metadata": {},
   "outputs": [],
   "source": []
  }
 ],
 "metadata": {
  "kernelspec": {
   "display_name": "Python 3",
   "language": "python",
   "name": "python3"
  },
  "language_info": {
   "codemirror_mode": {
    "name": "ipython",
    "version": 3
   },
   "file_extension": ".py",
   "mimetype": "text/x-python",
   "name": "python",
   "nbconvert_exporter": "python",
   "pygments_lexer": "ipython3",
   "version": "3.10.12"
  }
 },
 "nbformat": 4,
 "nbformat_minor": 5
}
