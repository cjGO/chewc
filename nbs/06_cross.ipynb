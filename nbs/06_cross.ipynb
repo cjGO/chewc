{
 "cells": [
  {
   "cell_type": "code",
   "execution_count": 7,
   "id": "3cac6389",
   "metadata": {},
   "outputs": [],
   "source": [
    "#| default_exp cross"
   ]
  },
  {
   "cell_type": "code",
   "execution_count": null,
   "id": "c44eccfb",
   "metadata": {},
   "outputs": [],
   "source": [
    "#|export\n",
    "import jax\n",
    "import jax.numpy as jnp\n",
    "from typing import Tuple\n",
    "from chewc.meiosis import create_gamete\n",
    "from chewc.structs import GeneticMap\n",
    "from functools import partial\n",
    "\n",
    "\n",
    "@partial(jax.jit, static_argnames=(\"n_crosses\",))\n",
    "def random_mating(key: jax.Array, n_parents: int, n_crosses: int) -> jnp.ndarray:\n",
    "    \"\"\"Sample (mother, father) pairs with replacement.\n",
    "    Works even when `n_parents` is not a Python literal.\n",
    "    \"\"\"\n",
    "    k_m, k_f = jax.random.split(key)\n",
    "    mothers = jax.random.randint(k_m, (n_crosses,), minval=0, maxval=n_parents, dtype=jnp.int32)\n",
    "    fathers = jax.random.randint(k_f, (n_crosses,), minval=0, maxval=n_parents, dtype=jnp.int32)\n",
    "    return jnp.stack([mothers, fathers], axis=-1)\n",
    "\n",
    "\n",
    "\n",
    "@partial(jax.jit, static_argnames=(\"max_crossovers\",))\n",
    "def cross_pair(\n",
    "    key: jax.Array,\n",
    "    mother_geno: jax.Array, father_geno: jax.Array,   # (n_chr, 2, n_loci)\n",
    "    mother_ibd: jax.Array,  father_ibd: jax.Array,    # (n_chr, 2, n_loci)\n",
    "    genetic_map: GeneticMap,\n",
    "    max_crossovers: int,\n",
    ") -> Tuple[jnp.ndarray, jnp.ndarray]:\n",
    "    km, kf = jax.random.split(key)\n",
    "    m_geno, m_ibd = create_gamete(km, mother_geno, mother_ibd, genetic_map, interference_nu=4.0, max_crossovers=max_crossovers)\n",
    "    f_geno, f_ibd = create_gamete(kf, father_geno, father_ibd, genetic_map, interference_nu=4.0, max_crossovers=max_crossovers)\n",
    "    offspring_geno = jnp.stack([m_geno, f_geno], axis=1)  # (n_chr, 2, n_loci)\n",
    "    offspring_ibd  = jnp.stack([m_ibd,  f_ibd],  axis=1)  # (n_chr, 2, n_loci)\n",
    "    return offspring_geno, offspring_ibd\n"
   ]
  },
  {
   "cell_type": "markdown",
   "id": "320c9b42",
   "metadata": {},
   "source": []
  },
  {
   "cell_type": "code",
   "execution_count": 9,
   "id": "af484363",
   "metadata": {},
   "outputs": [],
   "source": [
    "#| hide\n",
    "import nbdev; nbdev.nbdev_export()"
   ]
  }
 ],
 "metadata": {
  "kernelspec": {
   "display_name": "Python 3",
   "language": "python",
   "name": "python3"
  },
  "language_info": {
   "codemirror_mode": {
    "name": "ipython",
    "version": 3
   },
   "file_extension": ".py",
   "mimetype": "text/x-python",
   "name": "python",
   "nbconvert_exporter": "python",
   "pygments_lexer": "ipython3",
   "version": "3.10.12"
  }
 },
 "nbformat": 4,
 "nbformat_minor": 5
}
