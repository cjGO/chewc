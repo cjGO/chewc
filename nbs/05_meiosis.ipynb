{
 "cells": [
  {
   "cell_type": "markdown",
   "metadata": {},
   "source": [
    "# meiosis\n",
    "\n",
    "> Fill in a module description here"
   ]
  },
  {
   "cell_type": "code",
   "execution_count": null,
   "metadata": {},
   "outputs": [],
   "source": [
    "#| default_exp meiosis"
   ]
  },
  {
   "cell_type": "code",
   "execution_count": null,
   "metadata": {},
   "outputs": [],
   "source": [
    "#| hide\n",
    "from nbdev.showdoc import *"
   ]
  },
  {
   "cell_type": "code",
   "execution_count": null,
   "metadata": {},
   "outputs": [
    {
     "name": "stderr",
     "output_type": "stream",
     "text": [
      "WARNING:2025-07-13 14:53:27,891:jax._src.xla_bridge:794: An NVIDIA GPU may be present on this machine, but a CUDA-enabled jaxlib is not installed. Falling back to cpu.\n"
     ]
    },
    {
     "data": {
      "text/plain": [
       "(50, 3, 2, 100)"
      ]
     },
     "execution_count": null,
     "metadata": {},
     "output_type": "execute_result"
    }
   ],
   "source": [
    "#| hide\n",
    "import jax\n",
    "import jax.numpy as jnp\n",
    "from chewc.sp import SimParam\n",
    "from chewc.population import quick_haplo, Population\n",
    "from chewc.trait import add_trait_a, TraitCollection\n",
    "from chewc.pheno import set_pheno\n",
    "\n",
    "# --- 1. JAX Setup ---\n",
    "key = jax.random.PRNGKey(42)\n",
    "\n",
    "# --- 2. Define the Genome's \"Blueprint\" ---\n",
    "n_chr = 3\n",
    "n_loci_per_chr = 100\n",
    "ploidy = 2\n",
    "gen_map = jnp.array([jnp.linspace(0, 1, n_loci_per_chr) for _ in range(n_chr)])\n",
    "centromeres = jnp.full(n_chr, 0.5)\n",
    "\n",
    "# --- 3. Instantiate Initial Simulation Parameters ---\n",
    "SP = SimParam(\n",
    "    gen_map=gen_map,\n",
    "    centromere=centromeres,\n",
    "    ploidy=ploidy\n",
    ")\n",
    "\n",
    "key, pop_key = jax.random.split(key)\n",
    "n_founders = 50\n",
    "\n",
    "founder_pop = quick_haplo(\n",
    "    key=pop_key,\n",
    "    sim_param=SP,\n",
    "    n_ind=n_founders,\n",
    "    inbred=False\n",
    ")\n",
    "\n",
    "SP = SP.replace(founderPop=founder_pop)\n",
    "SP.founderPop.geno.shape # (50, 3, 2, 100) individuals,chromosomes, ploidy, markers\n"
   ]
  },
  {
   "cell_type": "code",
   "execution_count": null,
   "metadata": {},
   "outputs": [],
   "source": [
    "#| export\n",
    "\n",
    "import jax\n",
    "import jax.numpy as jnp\n",
    "from jax import lax, vmap\n",
    "from functools import partial\n",
    "import matplotlib.pyplot as plt\n",
    "\n",
    "@partial(jax.jit, static_argnames=(\"max_crossovers\",))\n",
    "def _sample_chiasmata(key: jax.random.PRNGKey, \n",
    "                      map_length: float, \n",
    "                      v: float, \n",
    "                      max_crossovers: int = 20) -> jnp.ndarray:\n",
    "    \"\"\"\n",
    "    Generates crossover positions along a single chromosome using a Gamma process\n",
    "    to model interference.\n",
    "    \"\"\"\n",
    "    shape = v\n",
    "    scale = 1.0 / (2.0 * v)\n",
    "\n",
    "    def scan_body(carry, _):\n",
    "        key, last_pos = carry\n",
    "        key, subkey = jax.random.split(key)\n",
    "        distance = jax.random.gamma(subkey, shape) * scale\n",
    "        new_pos = last_pos + distance\n",
    "        return (key, new_pos), new_pos\n",
    "\n",
    "    key, initial_key = jax.random.split(key)\n",
    "    initial_start_pos = jax.random.uniform(initial_key, minval=-10.0, maxval=0.0)\n",
    "    init_carry = (key, initial_start_pos)\n",
    "    \n",
    "    _, crossover_positions = lax.scan(scan_body, init_carry, None, length=max_crossovers)\n",
    "    \n",
    "    # --- CORRECTED LOGIC ---\n",
    "    # A crossover is only valid if it's within the bounds (0, map_length).\n",
    "    valid_mask = (crossover_positions > 0) & (crossover_positions < map_length)\n",
    "    valid_crossovers = jnp.where(valid_mask, \n",
    "                                 crossover_positions, \n",
    "                                 jnp.nan)\n",
    "    \n",
    "    return valid_crossovers\n"
   ]
  },
  {
   "cell_type": "code",
   "execution_count": null,
   "metadata": {},
   "outputs": [
    {
     "name": "stdout",
     "output_type": "stream",
     "text": [
      "✅ Validated `_sample_chiasmata` over 10000 runs.\n",
      "Chromosome Length (Morgans): 1.00\n",
      "Average number of crossovers: 1.86\n",
      "\n",
      "Plotting the distribution of crossover counts...\n"
     ]
    },
    {
     "data": {
      "image/png": "[encoded data removed]",
      "text/plain": [
       "<Figure size 1000x600 with 1 Axes>"
      ]
     },
     "metadata": {},
     "output_type": "display_data"
    }
   ],
   "source": [
    "\n",
    "# --- Validation (using the corrected function) ---\n",
    "\n",
    "# --- Setup ---\n",
    "v_interference = SP.recomb_params[0]\n",
    "map_len_chr0 = SP.gen_map[0, -1].item() # .item() gets the scalar value\n",
    "key, val_key = jax.random.split(key)\n",
    "validation_keys = jax.random.split(val_key, 10000)\n",
    "\n",
    "# --- Run ---\n",
    "# The lambda function to count valid (non-NaN) crossovers is now correct.\n",
    "get_n_crossovers = jax.jit(jax.vmap(lambda k: jnp.sum(~jnp.isnan(\n",
    "    _sample_chiasmata(k, map_len_chr0, v_interference)\n",
    "))))\n",
    "num_crossovers_per_run = get_n_crossovers(validation_keys)\n",
    "\n",
    "# --- Analyze and Report ---\n",
    "avg_crossovers = num_crossovers_per_run.mean()\n",
    "print(f\"✅ Validated `_sample_chiasmata` over {validation_keys.shape[0]} runs.\")\n",
    "print(f\"Chromosome Length (Morgans): {map_len_chr0:.2f}\")\n",
    "print(f\"Average number of crossovers: {avg_crossovers:.2f}\")\n",
    "\n",
    "# --- Visualize ---\n",
    "print(\"\\nPlotting the distribution of crossover counts...\")\n",
    "plt.figure(figsize=(10, 6))\n",
    "plt.hist(num_crossovers_per_run, bins=jnp.arange(0, 10), density=True, align='left', rwidth=0.8)\n",
    "plt.title(\"Distribution of Crossover Counts per Meiosis\")\n",
    "plt.xlabel(\"Number of Crossovers\")\n",
    "plt.ylabel(\"Frequency\")\n",
    "plt.xticks(jnp.arange(0, 10))\n",
    "plt.grid(axis='y', alpha=0.5)\n",
    "plt.show()"
   ]
  },
  {
   "cell_type": "code",
   "execution_count": null,
   "metadata": {},
   "outputs": [],
   "source": [
    "@partial(jax.jit, static_argnames=(\"max_crossovers\",))\n",
    "def _create_gamete(key: jax.random.PRNGKey, \n",
    "                   parental_haplotypes: jnp.ndarray,\n",
    "                   gen_map: jnp.ndarray,\n",
    "                   v_interference: float,\n",
    "                   max_crossovers: int = 20) -> jnp.ndarray:\n",
    "    \"\"\"\n",
    "    Creates a single recombinant gamete from a parent's two haplotypes.\n",
    "    \"\"\"\n",
    "    key, chiasma_key, hap_key = jax.random.split(key, 3)\n",
    "\n",
    "    map_length = gen_map[-1]\n",
    "    \n",
    "    crossover_positions = _sample_chiasmata(chiasma_key, map_length, \n",
    "                                            v_interference, max_crossovers)\n",
    "\n",
    "    crossover_indices = jnp.searchsorted(gen_map, crossover_positions)\n",
    "\n",
    "    start_hap = jax.random.choice(hap_key, jnp.array([0, 1], dtype=jnp.uint8))\n",
    "\n",
    "    n_loci = gen_map.shape[0]\n",
    "    \n",
    "    # --- FIX ---\n",
    "    # Use side='right' to ensure the crossover happens at the correct locus index.\n",
    "    locus_segments = jnp.searchsorted(crossover_indices, jnp.arange(n_loci), side='right')\n",
    "    \n",
    "    haplotype_choice = (start_hap + locus_segments) % 2\n",
    "    \n",
    "    new_gamete = jnp.where(haplotype_choice == 0, \n",
    "                           parental_haplotypes[0], \n",
    "                           parental_haplotypes[1])\n",
    "    \n",
    "    return new_gamete\n"
   ]
  },
  {
   "cell_type": "code",
   "execution_count": null,
   "metadata": {},
   "outputs": [
    {
     "name": "stdout",
     "output_type": "stream",
     "text": [
      "Validating _create_gamete with a single, fixed crossover at locus 40:\n",
      "Below: Slices from indexes 35:45 for parental haplotypes\n",
      "Parent Haplotype 0: [0 0 0 0 0 0 0 0 0 0]\n",
      "Parent Haplotype 1: [1 1 1 1 1 1 1 1 1 1]\n",
      "Resulting Gamete:   [1 1 1 1 1 0 0 0 0 0]\n",
      "\n",
      "✅ Validation successful: Gamete correctly stitched together.\n"
     ]
    }
   ],
   "source": [
    "# --- Validation Setup ---\n",
    "parental_genos = jnp.array([\n",
    "    jnp.zeros(SP.gen_map.shape[1], dtype=jnp.uint8),\n",
    "    jnp.ones(SP.gen_map.shape[1], dtype=jnp.uint8)\n",
    "])\n",
    "\n",
    "# --- FIX in the mock function ---\n",
    "def mock_sample_chiasmata(key, map_length, v, max_crossovers=20):\n",
    "    \"\"\"A deterministic mock for testing _create_gamete.\"\"\"\n",
    "    crossover_pos = SP.gen_map[0, 40]\n",
    "    # Fill the array with NaNs, then set the first element to our desired position.\n",
    "    return jnp.full((max_crossovers,), fill_value=jnp.nan).at[0].set(crossover_pos)\n",
    "\n",
    "original_sampler = _sample_chiasmata\n",
    "_sample_chiasmata = mock_sample_chiasmata\n",
    "\n",
    "# --- Run Validation (No changes needed here) ---\n",
    "test_key = jax.random.PRNGKey(0)\n",
    "v_interference = SP.recomb_params[0]\n",
    "gamete = _create_gamete(test_key, parental_genos, SP.gen_map[0], v_interference)\n",
    "\n",
    "# --- Analyze and Report Results (No changes needed here) ---\n",
    "print(\"Validating _create_gamete with a single, fixed crossover at locus 40:\")\n",
    "print(\"Below: Slices from indexes 35:45 for parental haplotypes\")\n",
    "print(\"Parent Haplotype 0:\", parental_genos[0, 35:45])\n",
    "print(\"Parent Haplotype 1:\", parental_genos[1, 35:45])\n",
    "print(\"Resulting Gamete:  \", gamete[35:45])\n",
    "\n",
    "is_correct_a = jnp.all(gamete[:40] == 0) and jnp.all(gamete[40:] == 1)\n",
    "is_correct_b = jnp.all(gamete[:40] == 1) and jnp.all(gamete[40:] == 0)\n",
    "\n",
    "assert is_correct_a or is_correct_b, \"Gamete was not formed correctly!\"\n",
    "print(\"\\n✅ Validation successful: Gamete correctly stitched together.\")\n",
    "\n",
    "# --- Cleanup ---\n",
    "_sample_chiasmata = original_sampler"
   ]
  },
  {
   "cell_type": "code",
   "execution_count": null,
   "metadata": {},
   "outputs": [],
   "source": [
    "#| export\n",
    "# The signature and decorator are changed to be more specific and JIT-friendly.\n",
    "@partial(jax.jit, static_argnames=(\"n_chr\",))\n",
    "def _meiosis_for_one_cross(key: jax.random.PRNGKey,\n",
    "                           mother_geno: jnp.ndarray,\n",
    "                           father_geno: jnp.ndarray,\n",
    "                           n_chr: int,\n",
    "                           gen_map: jnp.ndarray,\n",
    "                           v_interference: float\n",
    "                          ) -> jnp.ndarray:\n",
    "    \"\"\"\n",
    "    Creates a single diploid progeny from two parents.\n",
    "    \"\"\"\n",
    "    key_mother, key_father = jax.random.split(key)\n",
    "    \n",
    "    # vmap now gets its arguments directly\n",
    "    vmapped_gamete_creator = vmap(\n",
    "        _create_gamete, \n",
    "        in_axes=(0, 0, 0, None)\n",
    "    )\n",
    "\n",
    "    mother_gametes = vmapped_gamete_creator(\n",
    "        jax.random.split(key_mother, n_chr),\n",
    "        mother_geno,\n",
    "        gen_map,\n",
    "        v_interference\n",
    "    )\n",
    "\n",
    "    father_gametes = vmapped_gamete_creator(\n",
    "        jax.random.split(key_father, n_chr),\n",
    "        father_geno,\n",
    "        gen_map,\n",
    "        v_interference\n",
    "    )\n",
    "\n",
    "    progeny_geno = jnp.stack([mother_gametes, father_gametes], axis=1)\n",
    "    \n",
    "    return progeny_geno"
   ]
  },
  {
   "cell_type": "code",
   "execution_count": null,
   "metadata": {},
   "outputs": [
    {
     "name": "stdout",
     "output_type": "stream",
     "text": [
      "Validating `_meiosis_for_one_cross`:\n",
      "Shape of Mother's Genotype: (3, 2, 100)\n",
      "Shape of Progeny's Genotype: (3, 2, 100)\n",
      "\n",
      "✅ Validation successful: Progeny genotype has the correct shape and is not a parental clone.\n"
     ]
    }
   ],
   "source": [
    "# --- Setup (Unchanged)---\n",
    "parent1_geno = founder_pop.geno[0]\n",
    "parent2_geno = founder_pop.geno[1]\n",
    "\n",
    "# Make sure we are using the real sampler\n",
    "_sample_chiasmata = original_sampler \n",
    "\n",
    "# --- Run Validation (with corrected call) ---\n",
    "key, cross_key = jax.random.split(key)\n",
    "\n",
    "# FIX: Call the function with specific arguments instead of the whole SP object\n",
    "progeny_geno = _meiosis_for_one_cross(cross_key, \n",
    "                                      parent1_geno, \n",
    "                                      parent2_geno,\n",
    "                                      SP.n_chr,\n",
    "                                      SP.gen_map,\n",
    "                                      SP.recomb_params[0])\n",
    "\n",
    "# --- Analyze and Report Results (Unchanged) ---\n",
    "print(\"Validating `_meiosis_for_one_cross`:\")\n",
    "print(f\"Shape of Mother's Genotype: {parent1_geno.shape}\")\n",
    "print(f\"Shape of Progeny's Genotype: {progeny_geno.shape}\")\n",
    "\n",
    "assert progeny_geno.shape == parent1_geno.shape, \"Progeny genotype shape is incorrect!\"\n",
    "assert progeny_geno.dtype == jnp.uint8, \"Progeny genotype dtype is incorrect!\"\n",
    "assert not jnp.all(progeny_geno == parent1_geno), \"Progeny is an exact clone of the mother!\"\n",
    "assert not jnp.all(progeny_geno == parent2_geno), \"Progeny is an exact clone of the father!\"\n",
    "\n",
    "print(\"\\n✅ Validation successful: Progeny genotype has the correct shape and is not a parental clone.\")"
   ]
  },
  {
   "cell_type": "code",
   "execution_count": null,
   "metadata": {},
   "outputs": [],
   "source": [
    "#| hide\n",
    "import nbdev; nbdev.nbdev_export()"
   ]
  }
 ],
 "metadata": {
  "kernelspec": {
   "display_name": "python3",
   "language": "python",
   "name": "python3"
  }
 },
 "nbformat": 4,
 "nbformat_minor": 4
}
