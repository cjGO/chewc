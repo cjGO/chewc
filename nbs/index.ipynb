{
 "cells": [
  {
   "cell_type": "code",
   "execution_count": null,
   "metadata": {},
   "outputs": [],
   "source": [
    "#| hide\n",
    "from chewc.core import *\n",
    "from chewc.pop import *\n",
    "from chewc.sp import *"
   ]
  },
  {
   "cell_type": "markdown",
   "metadata": {},
   "source": [
    "# chewc\n",
    "\n",
    "> JAX breeding sim"
   ]
  },
  {
   "cell_type": "markdown",
   "metadata": {},
   "source": [
    "This file will become your README and also the index of your documentation."
   ]
  },
  {
   "cell_type": "markdown",
   "metadata": {},
   "source": [
    "## Developer Guide"
   ]
  },
  {
   "cell_type": "markdown",
   "metadata": {},
   "source": [
    "If you are new to using `nbdev` here are some useful pointers to get you started."
   ]
  },
  {
   "cell_type": "markdown",
   "metadata": {},
   "source": [
    "### Install chewc in Development mode"
   ]
  },
  {
   "cell_type": "markdown",
   "metadata": {},
   "source": [
    "```sh\n",
    "# make sure chewc package is installed in development mode\n",
    "$ pip install -e .\n",
    "\n",
    "# make changes under nbs/ directory\n",
    "# ...\n",
    "\n",
    "# compile to have changes apply to chewc\n",
    "$ nbdev_prepare\n",
    "```"
   ]
  },
  {
   "cell_type": "markdown",
   "metadata": {},
   "source": [
    "## Usage"
   ]
  },
  {
   "cell_type": "markdown",
   "metadata": {},
   "source": [
    "### Installation"
   ]
  },
  {
   "cell_type": "markdown",
   "metadata": {},
   "source": [
    "Install latest from the GitHub [repository][repo]:\n",
    "\n",
    "```sh\n",
    "$ pip install git+https://github.com/cjGO/chewc.git\n",
    "```\n",
    "\n",
    "\n",
    "[repo]: https://github.com/cjGO/chewc\n",
    "[docs]: https://cjGO.github.io/chewc/\n",
    "[pypi]: https://pypi.org/project/chewc/\n",
    "[conda]: https://anaconda.org/cjGO/chewc"
   ]
  },
  {
   "cell_type": "markdown",
   "metadata": {},
   "source": [
    "### Documentation"
   ]
  },
  {
   "cell_type": "markdown",
   "metadata": {},
   "source": [
    "Documentation can be found hosted on this GitHub [repository][repo]'s [pages][docs].\n",
    "\n",
    "[repo]: https://github.com/cjGO/chewc\n",
    "[docs]: https://cjGO.github.io/chewc/"
   ]
  },
  {
   "cell_type": "markdown",
   "metadata": {},
   "source": [
    "## How to use"
   ]
  },
  {
   "cell_type": "markdown",
   "metadata": {},
   "source": [
    "Fill me in please! Don't forget code examples:"
   ]
  },
  {
   "cell_type": "code",
   "execution_count": null,
   "metadata": {},
   "outputs": [
    {
     "name": "stderr",
     "output_type": "stream",
     "text": [
      "WARNING:2025-07-12 12:28:57,793:jax._src.xla_bridge:794: An NVIDIA GPU may be present on this machine, but a CUDA-enabled jaxlib is not installed. Falling back to cpu.\n"
     ]
    },
    {
     "name": "stdout",
     "output_type": "stream",
     "text": [
      "\n",
      "--- Initial Simulation Parameters Created ---\n",
      "SimParam(nChr=3, nTraits=0, ploidy=2, sexes='no')\n",
      "-----------------------------------\n",
      "\n",
      "--- Founder Population Created ---\n",
      "Population(nInd=50, nTraits=0, has_ebv=No)\n",
      "Genotype array shape: (50, 3, 2, 100)\n",
      "-----------------------------------\n",
      "\n",
      "--- Simulation Parameters Finalized with Founder Pop ---\n",
      "SimParam(nChr=3, nTraits=0, ploidy=2, sexes='no')\n",
      "Number of traits before: 0\n",
      "-----------------------------------\n",
      "\n",
      "--- Correlated Additive Traits Added ---\n",
      "SimParam object updated: SimParam(nChr=3, nTraits=2, ploidy=2, sexes='no')\n",
      "Number of traits after: 2\n",
      "\n",
      "Details of the new traits:\n",
      "  - Trait1: intercept=10.7238, n_qtl=30\n",
      "  - Trait2: intercept=19.9118, n_qtl=30\n",
      "-----------------------------------\n"
     ]
    }
   ],
   "source": [
    "import jax\n",
    "import jax.numpy as jnp\n",
    "\n",
    "# Assuming your classes are in these files as discussed\n",
    "from chewc.sp import SimParam\n",
    "from chewc.pop import quick_haplo, Population\n",
    "from chewc.trait import add_trait_a # Import the new function\n",
    "\n",
    "# --- 1. JAX Setup ---\n",
    "key = jax.random.PRNGKey(42)\n",
    "\n",
    "# --- 2. Define the Genome's \"Blueprint\" ---\n",
    "n_chr = 3\n",
    "n_loci_per_chr = 100\n",
    "ploidy = 2 \n",
    "gen_map = jnp.array([jnp.linspace(0, 1, n_loci_per_chr) for _ in range(n_chr)])\n",
    "centromeres = jnp.full(n_chr, 0.5)\n",
    "\n",
    "# --- 3. Instantiate Initial Simulation Parameters ---\n",
    "# Create the initial SimParam object. It does NOT contain a founder population yet.\n",
    "SP = SimParam(\n",
    "    gen_map=gen_map,\n",
    "    centromere=centromeres,\n",
    "    ploidy=ploidy\n",
    ")\n",
    "\n",
    "print(\"\\n--- Initial Simulation Parameters Created ---\")\n",
    "print(SP)\n",
    "print(\"-\" * 35)\n",
    "\n",
    "# --- 4. Create the Founder Population ---\n",
    "# Create the founder population using the initial SimParam object.\n",
    "key, pop_key = jax.random.split(key)\n",
    "n_founders = 50 \n",
    "\n",
    "founder_pop = quick_haplo(\n",
    "    key=pop_key,\n",
    "    sim_param=SP, # Use the initial SP\n",
    "    n_ind=n_founders,\n",
    "    inbred=False\n",
    ")\n",
    "\n",
    "print(\"\\n--- Founder Population Created ---\")\n",
    "print(founder_pop)\n",
    "print(f\"Genotype array shape: {founder_pop.geno.shape}\")\n",
    "print(\"-\" * 35)\n",
    "\n",
    "\n",
    "# --- 5. Finalize Simulation Parameters ---\n",
    "# Now, create the *final* version of the SimParam object by adding the founder population.\n",
    "# The .replace() method returns a new, updated, immutable object.\n",
    "SP = SP.replace(founderPop=founder_pop)\n",
    "\n",
    "print(\"\\n--- Simulation Parameters Finalized with Founder Pop ---\")\n",
    "print(SP)\n",
    "# Note: The __repr__ for SimParam doesn't show the founderPop, but it is there.\n",
    "print(f\"Number of traits before: {SP.n_traits}\")\n",
    "print(\"-\" * 35)\n",
    "\n",
    "\n",
    "# --- 6. Add Two Correlated Additive Traits ---\n",
    "key, trait_key = jax.random.split(key)\n",
    "\n",
    "# Define the parameters for the two new traits\n",
    "n_qtl_per_chr = 10\n",
    "trait_means = jnp.array([10.0, 20.0])\n",
    "trait_vars = jnp.array([1.5, 2.5])\n",
    "trait_cor = jnp.array([[1.0, 0.8],\n",
    "                       [0.8, 1.0]])\n",
    "\n",
    "# Call the add_trait_a function. It now works because SP.founderPop exists.\n",
    "SP_with_traits = add_trait_a(\n",
    "    key=trait_key,\n",
    "    sim_param=SP,\n",
    "    n_qtl_per_chr=n_qtl_per_chr,\n",
    "    mean=trait_means,\n",
    "    var=trait_vars,\n",
    "    cor_a=trait_cor\n",
    ")\n",
    "\n",
    "print(\"\\n--- Correlated Additive Traits Added ---\")\n",
    "print(f\"SimParam object updated: {SP_with_traits}\")\n",
    "print(f\"Number of traits after: {SP_with_traits.n_traits}\")\n",
    "print(\"\\nDetails of the new traits:\")\n",
    "for trait in SP_with_traits.traits:\n",
    "    print(f\"  - {trait.name}: intercept={trait.intercept:.4f}, n_qtl={trait.n_loci}\")\n",
    "print(\"-\" * 35)"
   ]
  },
  {
   "cell_type": "code",
   "execution_count": null,
   "metadata": {},
   "outputs": [],
   "source": []
  }
 ],
 "metadata": {
  "kernelspec": {
   "display_name": "python3",
   "language": "python",
   "name": "python3"
  }
 },
 "nbformat": 4,
 "nbformat_minor": 4
}
