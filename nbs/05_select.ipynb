{
 "cells": [
  {
   "cell_type": "code",
   "execution_count": null,
   "id": "3cac6389",
   "metadata": {},
   "outputs": [],
   "source": [
    "#| default_exp select"
   ]
  },
  {
   "cell_type": "code",
   "execution_count": null,
   "id": "c44eccfb",
   "metadata": {},
   "outputs": [],
   "source": [
    "#|export\n",
    "\n",
    "import jax\n",
    "from jax import lax\n",
    "import jax.numpy as jnp\n",
    "from typing import Tuple\n",
    "from chewc.meiosis import create_gamete\n",
    "from chewc.structs import GeneticMap, Population\n",
    "from jax.tree_util import tree_map\n",
    "\n",
    "from functools import partial\n",
    "@partial(jax.jit, static_argnames=(\"k\",))\n",
    "def select_top_k(population: Population, values: jnp.ndarray, k: int) -> Population:\n",
    "    \"\"\"Select top-k individuals by `values` (1-D).\"\"\"\n",
    "    vals = jnp.ravel(values).astype(jnp.float32)  # (n_ind,)\n",
    "    _, top_idx = lax.top_k(vals, k)               # (k,)\n",
    "    return tree_map(lambda x: x[top_idx], population)\n",
    "\n"
   ]
  },
  {
   "cell_type": "markdown",
   "id": "320c9b42",
   "metadata": {},
   "source": []
  },
  {
   "cell_type": "code",
   "execution_count": null,
   "id": "af484363",
   "metadata": {},
   "outputs": [],
   "source": [
    "#| hide\n",
    "import nbdev; nbdev.nbdev_export()"
   ]
  }
 ],
 "metadata": {
  "kernelspec": {
   "display_name": "python3",
   "language": "python",
   "name": "python3"
  }
 },
 "nbformat": 4,
 "nbformat_minor": 5
}
