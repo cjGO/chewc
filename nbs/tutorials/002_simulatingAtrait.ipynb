{
 "cells": [
  {
   "cell_type": "code",
   "execution_count": 1,
   "id": "6402ca4d",
   "metadata": {},
   "outputs": [
    {
     "name": "stderr",
     "output_type": "stream",
     "text": [
      "WARNING:2025-08-20 22:59:44,183:jax._src.xla_bridge:794: An NVIDIA GPU may be present on this machine, but a CUDA-enabled jaxlib is not installed. Falling back to cpu.\n"
     ]
    }
   ],
   "source": [
    "import jax\n",
    "import jax.numpy as jnp\n",
    "\n",
    "# Assuming these are the locations of your modules\n",
    "from chewc.population import msprime_pop\n",
    "from chewc.sp import SimParam\n",
    "from chewc.trait import add_trait_a, _calculate_gvs_vectorized_alternative\n",
    "from chewc.phenotype import set_pheno\n",
    "import numpy as np\n",
    "\n",
    "# JAX random key setup\n",
    "key = jax.random.PRNGKey(42)\n",
    "key, pop_key, trait_key = jax.random.split(key, 3)\n",
    "\n",
    "# 1. Generate the founder population and its genetic map together.\n",
    "founder_pop, genetic_map = msprime_pop(\n",
    "    key=pop_key, n_ind=500, n_loci_per_chr=500, n_chr=3, ploidy=2\n",
    ")\n",
    "\n",
    "# 2. Use the founder population and its map to configure the simulation's rules.\n",
    "SP = SimParam.from_founder_pop(\n",
    "    founder_pop=founder_pop,\n",
    "    gen_map=genetic_map,\n",
    "    sexes=\"no\"\n",
    ")\n",
    "\n",
    "# 3. Add two additive traits with a negative genetic correlation.\n",
    "# Define trait means, variances, and the correlation matrix\n",
    "trait_means = jnp.array([0.0, 0.0])\n",
    "trait_vars = jnp.array([1.0, 1.0])\n",
    "neg_cor_matrix = jnp.array([[1.0, 0.6],\n",
    "                           [0.6, 1.0]])\n",
    "\n",
    "# Call the function to add the traits\n",
    "SP = add_trait_a(\n",
    "    key=trait_key,\n",
    "    founder_pop=founder_pop,\n",
    "    sim_param=SP,\n",
    "    n_qtl_per_chr=500,\n",
    "    mean=trait_means,\n",
    "    var=trait_vars,\n",
    "    cor_a=neg_cor_matrix\n",
    ")\n"
   ]
  },
  {
   "cell_type": "code",
   "execution_count": 2,
   "id": "105494dd",
   "metadata": {},
   "outputs": [
    {
     "data": {
      "text/plain": [
       "Population(nInd=500, nTraits=0, has_ebv=No)"
      ]
     },
     "execution_count": 2,
     "metadata": {},
     "output_type": "execute_result"
    }
   ],
   "source": [
    "founder_pop"
   ]
  },
  {
   "cell_type": "code",
   "execution_count": 8,
   "id": "643909d7",
   "metadata": {},
   "outputs": [
    {
     "name": "stdout",
     "output_type": "stream",
     "text": [
      "4.0054324e-08\n",
      "1.0\n",
      "4.0054324e-08\n",
      "1.0\n"
     ]
    }
   ],
   "source": [
    "\n",
    "# Split the JAX key for two separate phenotyping operations\n",
    "key = jax.random.PRNGKey(42) # A fresh key for this block\n",
    "key, h2_key, varE_key = jax.random.split(key, 3)\n",
    "\n",
    "# --- Example 1: Phenotyping with Heritability (h2) ---\n",
    "\n",
    "# Define the narrow-sense heritability for each trait\n",
    "heritabilities = jnp.array([0.3, 0.6])\n",
    "\n",
    "# Call the JIT-compiled set_pheno function using the h2 argument\n",
    "pop_with_h2 = set_pheno(\n",
    "    key=h2_key,\n",
    "    pop=founder_pop,\n",
    "    traits=SP.traits,\n",
    "    ploidy=SP.ploidy,\n",
    "    h2=heritabilities\n",
    ")\n",
    "\n",
    "# --- Verification (Optional) ---\n",
    "# Calculate genetic values for the new traits in the founder population\n",
    "bvs,gvs = _calculate_gvs_vectorized_alternative(founder_pop, SP.traits, SP.ploidy)\n",
    "\n",
    "print(np.mean(gvs[:,1])) #9.822846e-08\n",
    "print(np.var(gvs[:,1])) #1.0000001\n",
    "\n",
    "\n",
    "print(np.mean(pop_with_h2.gv[:,1])) #1.9693801\n",
    "print(np.var(pop_with_h2.gv[:,1])) #1.0000001\n"
   ]
  },
  {
   "cell_type": "code",
   "execution_count": 7,
   "id": "a3096bab",
   "metadata": {},
   "outputs": [
    {
     "data": {
      "text/plain": [
       "(500, 2)"
      ]
     },
     "execution_count": 7,
     "metadata": {},
     "output_type": "execute_result"
    }
   ],
   "source": [
    "gvs[0].shape"
   ]
  },
  {
   "cell_type": "code",
   "execution_count": null,
   "id": "33ff307e",
   "metadata": {},
   "outputs": [],
   "source": [
    "SP.traits"
   ]
  },
  {
   "cell_type": "code",
   "execution_count": null,
   "id": "fc7b8fc5",
   "metadata": {},
   "outputs": [],
   "source": [
    "# --- Correct Verification ---\n",
    "\n",
    "# 1. Inspect the Breeding Values (BVs) stored in the population object.\n",
    "# The mean of the BVs should also be ~0.\n",
    "print(\"Mean of stored BVs:\", np.mean(pop_with_h2.bv[:,1]))\n",
    "\n",
    "# 2. Correctly calculate the Genetic Values (GVs) from the final object.\n",
    "# GV = BV + Intercept\n",
    "final_gvs = pop_with_h2.bv + SP.traits.intercept\n",
    "\n",
    "print(\"Mean of calculated GVs from final pop:\", np.mean(final_gvs[:,1]))\n",
    "print(\"Variance of calculated GVs from final pop:\", np.var(final_gvs[:,1]))\n",
    "\n",
    "# --- Compare with the initial calculation ---\n",
    "\n",
    "# Re-run the initial calculation for a direct comparison\n",
    "# (Note the unpacking of the tuple now)\n",
    "initial_bvs, initial_gvs = _calculate_gvs_vectorized_alternative(founder_pop, SP.traits, SP.ploidy)\n",
    "\n",
    "print(\"\\n--- Comparison ---\")\n",
    "print(\"Initial GV Mean:\", np.mean(initial_gvs[:,1]))\n",
    "print(\"Final GV Mean:  \", np.mean(final_gvs[:,1]))"
   ]
  },
  {
   "cell_type": "code",
   "execution_count": null,
   "id": "91f99d87",
   "metadata": {},
   "outputs": [],
   "source": [
    "import jax\n",
    "import jax.numpy as jnp\n",
    "\n",
    "# Assuming the previous setup code has been run to create founder_pop and SP\n",
    "# founder_pop, SP, ...\n",
    "\n",
    "from chewc.phenotype import set_pheno # Import the function\n",
    "\n",
    "# Split the JAX key for two separate phenotyping operations\n",
    "key = jax.random.PRNGKey(42) # A fresh key for this block\n",
    "key, h2_key, varE_key = jax.random.split(key, 3)\n",
    "\n",
    "# --- Example 1: Phenotyping with Heritability (h2) ---\n",
    "\n",
    "# Define the narrow-sense heritability for each trait\n",
    "heritabilities = jnp.array([0.3, 0.6])\n",
    "\n",
    "# Call the JIT-compiled set_pheno function using the h2 argument\n",
    "pop_with_h2 = set_pheno(\n",
    "    key=h2_key,\n",
    "    pop=founder_pop,\n",
    "    traits=SP.traits,\n",
    "    ploidy=SP.ploidy,\n",
    "    h2=heritabilities\n",
    ")\n",
    "\n",
    "# Verification for the h2-based population\n",
    "var_g_h2 = jnp.var(pop_with_h2.bv, axis=0)\n",
    "var_p_h2 = jnp.var(pop_with_h2.pheno, axis=0)\n",
    "realized_h2 = var_g_h2 / var_p_h2\n",
    "\n",
    "# --- Print h2 Results ---\n",
    "print(\"--- Example 1: Phenotyping with Heritability (h2) ---\")\n",
    "print(f\"\\nTarget Heritabilities: {heritabilities}\")\n",
    "print(f\"Realized Heritabilities: {realized_h2}\")\n",
    "print(f\"\\nGenetic Variance (from pop): {var_g_h2}\")\n",
    "print(f\"Phenotypic Variance (from pop): {var_p_h2}\")\n",
    "print(\"\\n--- Phenotype Summary (first 5 individuals) ---\")\n",
    "for i in range(5):\n",
    "    print(f\"Ind {i+1}: BV={pop_with_h2.bv[i]}, Pheno={pop_with_h2.pheno[i]}\")\n",
    "\n",
    "\n",
    "print(\"\\n\" + \"=\"*60 + \"\\n\") # Separator\n",
    "\n",
    "\n",
    "# --- Example 2: Phenotyping with Environmental Variance (varE) ---\n",
    "\n",
    "# Define the absolute environmental variance for each trait\n",
    "environmental_variances = jnp.array([23.0, 3.0])\n",
    "\n",
    "# Call the JIT-compiled set_pheno function using the varE argument\n",
    "pop_with_varE = set_pheno(\n",
    "    key=varE_key,\n",
    "    pop=founder_pop,\n",
    "    traits=SP.traits,\n",
    "    ploidy=SP.ploidy,\n",
    "    varE=environmental_variances\n",
    ")\n",
    "\n",
    "# Verification for the varE-based population\n",
    "var_g_varE = jnp.var(pop_with_varE.bv, axis=0)\n",
    "var_p_varE = jnp.var(pop_with_varE.pheno, axis=0)\n",
    "implied_h2 = var_g_varE / var_p_varE\n",
    "\n",
    "# --- Print varE Results ---\n",
    "print(\"--- Example 2: Phenotyping with Environmental Variance (varE) ---\")\n",
    "print(f\"\\nTarget Environmental Variances: {environmental_variances}\")\n",
    "print(f\"Implied Heritabilities: {implied_h2}\") # Note: this is a result, not a target\n",
    "print(f\"\\nGenetic Variance (from pop): {var_g_varE}\")\n",
    "print(f\"Phenotypic Variance (from pop): {var_p_varE}\")\n",
    "print(\"\\n--- Phenotype Summary (first 5 individuals) ---\")\n",
    "for i in range(5):\n",
    "    print(f\"Ind {i+1}: BV={pop_with_varE.bv[i]}, Pheno={pop_with_varE.pheno[i]}\")"
   ]
  },
  {
   "cell_type": "code",
   "execution_count": null,
   "id": "ec714507",
   "metadata": {},
   "outputs": [],
   "source": [
    "founder_pop"
   ]
  },
  {
   "cell_type": "code",
   "execution_count": null,
   "id": "b228b43f",
   "metadata": {},
   "outputs": [],
   "source": [
    "pop_with_h2"
   ]
  },
  {
   "cell_type": "code",
   "execution_count": null,
   "id": "de0606e2",
   "metadata": {},
   "outputs": [],
   "source": [
    "from chewc.cross import make_cross"
   ]
  },
  {
   "cell_type": "code",
   "execution_count": null,
   "id": "9ffc4a28",
   "metadata": {},
   "outputs": [],
   "source": [
    "import jax\n",
    "import jax.numpy as jnp\n",
    "\n",
    "# Assuming previous code has been run to create:\n",
    "# - SP: The SimParam object\n",
    "# - pop_with_h2: The phenotyped founder population\n",
    "# - set_pheno: The phenotyping function\n",
    "\n",
    "# Import the crossing function\n",
    "from chewc.cross import make_cross\n",
    "\n",
    "# Split the key for crossing and subsequent phenotyping\n",
    "key = jax.random.PRNGKey(91)\n",
    "key, cross_key, progeny_pheno_key = jax.random.split(key, 3)\n",
    "\n",
    "# --- 1. Define the Unique Crosses ---\n",
    "# First, define the 5 unique parent pairings as before.\n",
    "top_5_trait1 = jnp.argsort(pop_with_h2.pheno[:, 0])[-5:]\n",
    "top_5_trait2 = jnp.argsort(pop_with_h2.pheno[:, 1])[-5:]\n",
    "unique_cross_plan = jnp.column_stack([top_5_trait1, top_5_trait2])\n",
    "\n",
    "# --- 2. Create the Final, Repeated Crossing Plan ---\n",
    "# Use jnp.repeat to duplicate each unique cross 10 times.\n",
    "# The axis=0 ensures we repeat the rows.\n",
    "cross_plan = jnp.repeat(unique_cross_plan, repeats=100, axis=0)\n",
    "\n",
    "\n",
    "# --- 3. Execute the 50 Crosses ---\n",
    "# The rest of the code works exactly the same, but now on the larger cross plan.\n",
    "# The next available public ID for the progeny is still 100.\n",
    "progeny_pop = make_cross(\n",
    "    key=cross_key,\n",
    "    pop=pop_with_h2,\n",
    "    cross_plan=cross_plan,\n",
    "    sp=SP,\n",
    "    next_id_start=100\n",
    ")\n",
    "\n",
    "\n",
    "# --- 4. Phenotype the New Progeny Generation ---\n",
    "progeny_pop_phenotyped = set_pheno(\n",
    "    key=progeny_pheno_key,\n",
    "    pop=progeny_pop,\n",
    "    traits=SP.traits,\n",
    "    ploidy=SP.ploidy,\n",
    "    h2=jnp.array([0.99, 0.99]) # Using the same heritabilities\n",
    ")\n",
    "\n",
    "\n",
    "# --- 5. Print and Inspect the Results ---\n",
    "print(\"--- Crossing Plan ---\")\n",
    "print(f\"Created {unique_cross_plan.shape[0]} unique crosses and repeated each 10 times, \"\n",
    "      f\"for a total of {cross_plan.shape[0]} progeny.\")\n",
    "print(\"\\nUnique Parent Pairings (mother iid, father iid):\")\n",
    "print(unique_cross_plan)\n",
    "\n",
    "\n",
    "print(\"\\n--- Progeny Population ---\")\n",
    "print(progeny_pop_phenotyped)\n",
    "# This will now show nInd=50\n",
    "\n",
    "print(\"\\n--- Progeny Pedigree (showing full-sibs from first cross) ---\")\n",
    "# Displaying the first 12 progeny to show they share the same parents\n",
    "for i in range(12):\n",
    "    print(f\"Ind {progeny_pop_phenotyped.id[i]:<4}: \"\n",
    "          f\"Mother={progeny_pop_phenotyped.mother[i]:<4}, \"\n",
    "          f\"Father={progeny_pop_phenotyped.father[i]:<4}\")\n",
    "\n",
    "print(\"\\n--- Progeny Phenotypes (first 5 full-sibs) ---\")\n",
    "# Note that even with the same parents, progeny have different BVs and Phenos\n",
    "# due to the randomness of meiosis and environmental noise.\n",
    "for i in range(5):\n",
    "    print(f\"Ind {progeny_pop_phenotyped.id[i]}: \"\n",
    "          f\"BV={progeny_pop_phenotyped.bv[i]}, \"\n",
    "          f\"Pheno={progeny_pop_phenotyped.pheno[i]}\")"
   ]
  },
  {
   "cell_type": "code",
   "execution_count": null,
   "id": "8d6fd91a",
   "metadata": {},
   "outputs": [],
   "source": [
    "progeny_pop_phenotyped.bv"
   ]
  },
  {
   "cell_type": "code",
   "execution_count": null,
   "id": "4e2474e3",
   "metadata": {},
   "outputs": [],
   "source": [
    "pop_with_h2.geno"
   ]
  },
  {
   "cell_type": "code",
   "execution_count": null,
   "id": "160c35ee",
   "metadata": {},
   "outputs": [],
   "source": [
    "pop_with_h2.bv"
   ]
  },
  {
   "cell_type": "code",
   "execution_count": null,
   "id": "12e43646",
   "metadata": {},
   "outputs": [],
   "source": [
    "pop_with_h2.gv.shape"
   ]
  },
  {
   "cell_type": "code",
   "execution_count": null,
   "id": "b07b335e",
   "metadata": {},
   "outputs": [],
   "source": [
    "np.mean(pop_with_h2.gv[:,0])"
   ]
  },
  {
   "cell_type": "code",
   "execution_count": null,
   "id": "2b2bbc17",
   "metadata": {},
   "outputs": [],
   "source": [
    "np.mean(pop_with_h2.bv[:,0])"
   ]
  },
  {
   "cell_type": "code",
   "execution_count": null,
   "id": "9b118812",
   "metadata": {},
   "outputs": [],
   "source": [
    "import matplotlib.pyplot as plt\n",
    "import numpy as np # JAX arrays can be used directly, but aliasing is good practice\n",
    "\n",
    "# --- Create Histograms to Visualize Selection Response ---\n",
    "\n",
    "# Create a figure with 2 rows and 2 columns of subplots\n",
    "fig, axes = plt.subplots(2, 2, figsize=(12, 10), sharex=True)\n",
    "fig.suptitle('Distribution of Breeding Values Before and After Selection', fontsize=16)\n",
    "\n",
    "# Define bins to be the same for both generations for a fair comparison\n",
    "bins = 20\n",
    "\n",
    "# --- Parent Population (pop_with_h2) ---\n",
    "\n",
    "# Trait 1 - Parents\n",
    "axes[0, 0].hist(np.asarray(pop_with_h2.bv[:, 0]), bins=bins, color='skyblue', edgecolor='black')\n",
    "axes[0, 0].set_title('Parent Population - Trait 1')\n",
    "axes[0, 0].set_ylabel('Frequency')\n",
    "axes[0, 0].axvline(pop_with_h2.bv[:, 0].mean(), color='r', linestyle='--', linewidth=2, label=f'Mean BV')\n",
    "axes[0, 0].legend()\n",
    "\n",
    "\n",
    "# Trait 2 - Parents\n",
    "axes[0, 1].hist(np.asarray(pop_with_h2.bv[:, 1]), bins=bins, color='salmon', edgecolor='black')\n",
    "axes[0, 1].set_title('Parent Population - Trait 2')\n",
    "axes[0, 1].axvline(pop_with_h2.bv[:, 1].mean(), color='r', linestyle='--', linewidth=2, label=f'Mean BV')\n",
    "axes[0, 1].legend()\n",
    "\n",
    "# --- Progeny Population (progeny_pop_phenotyped) ---\n",
    "\n",
    "# Trait 1 - Progeny\n",
    "axes[1, 0].hist(np.asarray(progeny_pop_phenotyped.bv[:, 0]), bins=bins, color='skyblue', edgecolor='black')\n",
    "axes[1, 0].set_title('Progeny Population - Trait 1')\n",
    "axes[1, 0].set_xlabel('Breeding Value')\n",
    "axes[1, 0].set_ylabel('Frequency')\n",
    "axes[1, 0].axvline(progeny_pop_phenotyped.bv[:, 0].mean(), color='r', linestyle='--', linewidth=2, label=f'Mean BV')\n",
    "axes[1, 0].legend()\n",
    "\n",
    "# Trait 2 - Progeny\n",
    "axes[1, 1].hist(np.asarray(progeny_pop_phenotyped.bv[:, 1]), bins=bins, color='salmon', edgecolor='black')\n",
    "axes[1, 1].set_title('Progeny Population - Trait 2')\n",
    "axes[1, 1].set_xlabel('Breeding Value')\n",
    "axes[1, 1].axvline(progeny_pop_phenotyped.bv[:, 1].mean(), color='r', linestyle='--', linewidth=2, label=f'Mean BV')\n",
    "axes[1, 1].legend()\n",
    "\n",
    "\n",
    "# Display the plots\n",
    "plt.tight_layout(rect=[0, 0.03, 1, 0.95]) # Adjust layout to make room for suptitle\n",
    "plt.show()"
   ]
  },
  {
   "cell_type": "code",
   "execution_count": null,
   "id": "7bb78e1f",
   "metadata": {},
   "outputs": [],
   "source": [
    "progeny_pop_phenotyped.geno.shape"
   ]
  },
  {
   "cell_type": "code",
   "execution_count": null,
   "id": "a250af8b",
   "metadata": {},
   "outputs": [],
   "source": [
    "import matplotlib.pyplot as plt\n",
    "import numpy as np\n",
    "import jax.numpy as jnp\n",
    "from sklearn.decomposition import PCA\n",
    "from sklearn.preprocessing import StandardScaler\n",
    "\n",
    "# --- 1. Prepare the Genotype Data ---\n",
    "geno_data = progeny_pop_phenotyped.geno\n",
    "n_individuals = geno_data.shape[0] # This is now 500\n",
    "\n",
    "# Sum over the ploidy axis and reshape to a 2D matrix\n",
    "dosage_matrix = jnp.sum(geno_data, axis=2).reshape(n_individuals, -1)\n",
    "dosage_matrix_np = np.asarray(dosage_matrix)\n",
    "\n",
    "# --- 2. Standardize the Data ---\n",
    "scaler = StandardScaler()\n",
    "scaled_dosage = scaler.fit_transform(dosage_matrix_np)\n",
    "\n",
    "# --- 3. Perform PCA ---\n",
    "pca = PCA(n_components=2)\n",
    "principal_components = pca.fit_transform(scaled_dosage)\n",
    "\n",
    "# --- 4. Prepare Data for Plotting (THE FIX IS HERE) ---\n",
    "# Assuming 5 unique crosses were made to produce the 500 progeny,\n",
    "# this means each cross was repeated 100 times (500 / 5 = 100).\n",
    "n_families = 5\n",
    "repeats_per_family = n_individuals // n_families\n",
    "\n",
    "family_ids = np.repeat(np.arange(n_families), repeats=repeats_per_family)\n",
    "\n",
    "# --- 5. Create the Visualization ---\n",
    "plt.figure(figsize=(10, 8))\n",
    "scatter = plt.scatter(\n",
    "    principal_components[:, 0],\n",
    "    principal_components[:, 1],\n",
    "    c=family_ids,\n",
    "    cmap='viridis',\n",
    "    alpha=0.8\n",
    ")\n",
    "\n",
    "# Add labels and title\n",
    "plt.title('PCA of Progeny Genotypes', fontsize=16)\n",
    "plt.xlabel(f'Principal Component 1 ({pca.explained_variance_ratio_[0]:.1%} Variance)', fontsize=12)\n",
    "plt.ylabel(f'Principal Component 2 ({pca.explained_variance_ratio_[1]:.1%} Variance)', fontsize=12)\n",
    "plt.grid(True, linestyle='--', alpha=0.6)\n",
    "\n",
    "# Add a legend to identify the families\n",
    "plt.legend(handles=scatter.legend_elements()[0], labels=[f'Family {i+1}' for i in range(n_families)])\n",
    "\n",
    "# Show the plot\n",
    "plt.show()"
   ]
  },
  {
   "cell_type": "code",
   "execution_count": null,
   "id": "8af96a08",
   "metadata": {},
   "outputs": [],
   "source": []
  }
 ],
 "metadata": {
  "kernelspec": {
   "display_name": "Python 3",
   "language": "python",
   "name": "python3"
  },
  "language_info": {
   "codemirror_mode": {
    "name": "ipython",
    "version": 3
   },
   "file_extension": ".py",
   "mimetype": "text/x-python",
   "name": "python",
   "nbconvert_exporter": "python",
   "pygments_lexer": "ipython3",
   "version": "3.10.12"
  }
 },
 "nbformat": 4,
 "nbformat_minor": 5
}
