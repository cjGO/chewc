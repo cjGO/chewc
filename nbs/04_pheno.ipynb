{
 "cells": [
  {
   "cell_type": "markdown",
   "metadata": {},
   "source": [
    "# core\n",
    "\n",
    "> Fill in a module description here"
   ]
  },
  {
   "cell_type": "code",
   "execution_count": null,
   "metadata": {},
   "outputs": [],
   "source": [
    "#| default_exp pheno"
   ]
  },
  {
   "cell_type": "code",
   "execution_count": null,
   "metadata": {},
   "outputs": [],
   "source": [
    "#| hide\n",
    "from nbdev.showdoc import *"
   ]
  },
  {
   "cell_type": "code",
   "execution_count": null,
   "metadata": {},
   "outputs": [],
   "source": [
    "#| export\n",
    "from typing import Optional\n",
    "\n",
    "import jax\n",
    "import jax.numpy as jnp\n",
    "from jaxtyping import Array, Float\n",
    "\n",
    "from chewc.pop import Population\n",
    "from chewc.sp import SimParam\n",
    "from chewc.trait import _calculate_genetic_params\n",
    "\n",
    "# %% ../nbs/04_phenotype.ipynb 4\n",
    "def set_pheno(\n",
    "    key: jax.random.PRNGKey,\n",
    "    pop: Population,\n",
    "    sim_param: SimParam,\n",
    "    h2: Float[Array, \"nTraits\"],\n",
    "    cor_e: Optional[Float[Array, \"nTraits nTraits\"]] = None,\n",
    ") -> Population:\n",
    "    \"\"\"\n",
    "    Sets the phenotype of a population based on genetic values and environmental noise.\n",
    "\n",
    "    This function follows the AlphaSimR methodology by first calculating the total\n",
    "    genetic value (GV) for each individual. It then uses the provided heritability (h2)\n",
    "    to determine the amount of environmental variance, and finally adds this\n",
    "    environmental noise to the genetic values to produce the final phenotypes.\n",
    "\n",
    "    Args:\n",
    "        key: A JAX random key used for generating the environmental noise.\n",
    "        pop: The population for which to set the phenotype.\n",
    "        sim_param: The simulation parameters, which include the trait definitions.\n",
    "        h2: A JAX array with the narrow-sense heritability for each trait.\n",
    "        cor_e: An optional environmental correlation matrix. If not provided,\n",
    "               it is assumed that the environmental effects are uncorrelated.\n",
    "\n",
    "    Returns:\n",
    "        A new Population object with the `pheno` attribute updated.\n",
    "    \"\"\"\n",
    "    n_traits = sim_param.n_traits\n",
    "    if cor_e is None:\n",
    "        cor_e = jnp.identity(n_traits)\n",
    "\n",
    "    # 1. Calculate the genetic values for each trait\n",
    "    gvs = []\n",
    "    for trait in sim_param.traits:\n",
    "        genetic_params = _calculate_genetic_params(trait, pop, sim_param)\n",
    "        gvs.append(genetic_params[\"gv\"])\n",
    "    gvs = jnp.stack(gvs, axis=1)\n",
    "\n",
    "    # 2. Calculate the environmental noise\n",
    "    var_g = jnp.var(gvs, axis=0)\n",
    "    var_e = (var_g / h2) - var_g\n",
    "    cov_e = jnp.diag(jnp.sqrt(var_e)) @ cor_e @ jnp.diag(jnp.sqrt(var_e))\n",
    "\n",
    "    environmental_noise = jax.random.multivariate_normal(\n",
    "        key, jnp.zeros(n_traits), cov_e, (pop.nInd,)\n",
    "    )\n",
    "\n",
    "    # 3. Calculate the final phenotypes\n",
    "    pheno = gvs + environmental_noise\n",
    "\n",
    "    return pop.replace(pheno=pheno)\n",
    "\n",
    "\n",
    "\n",
    "\n",
    "\n",
    "\n"
   ]
  },
  {
   "cell_type": "code",
   "execution_count": null,
   "metadata": {},
   "outputs": [],
   "source": [
    "#| hide\n",
    "import nbdev; nbdev.nbdev_export()"
   ]
  },
  {
   "cell_type": "code",
   "execution_count": null,
   "metadata": {},
   "outputs": [],
   "source": []
  }
 ],
 "metadata": {
  "kernelspec": {
   "display_name": "python3",
   "language": "python",
   "name": "python3"
  }
 },
 "nbformat": 4,
 "nbformat_minor": 4
}
