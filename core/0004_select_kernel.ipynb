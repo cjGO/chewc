{
 "cells": [
  {
   "cell_type": "code",
   "execution_count": 2,
   "id": "3cac6389",
   "metadata": {},
   "outputs": [],
   "source": [
    "#| default_exp k_select"
   ]
  },
  {
   "cell_type": "markdown",
   "id": "320c9b42",
   "metadata": {},
   "source": []
  },
  {
   "cell_type": "code",
   "execution_count": 6,
   "id": "599d71c8",
   "metadata": {},
   "outputs": [],
   "source": [
    "#| export\n",
    "from __future__ import annotations\n",
    "import jax, jax.numpy as jnp\n",
    "from jax import lax"
   ]
  },
  {
   "cell_type": "code",
   "execution_count": 8,
   "id": "b35a5a82",
   "metadata": {},
   "outputs": [],
   "source": [
    "#| export\n",
    "#chewc/k_select.py\n",
    "def select_topk(scores: jnp.ndarray, k: int) -> jnp.ndarray:\n",
    "    \"\"\"Return indices of top-k scores. scores: (N,).\"\"\"\n",
    "    vals, idx = lax.top_k(scores, k)\n",
    "    return idx\n",
    "\n",
    "def score_from_bv_pheno(\n",
    "    bv: jnp.ndarray,    # (N, T) or None\n",
    "    pheno: jnp.ndarray, # (N, T) or None\n",
    "    is_active: jnp.ndarray,  # (N,)\n",
    "    use=\"pheno\",        # \"pheno\" or \"bv\"\n",
    "    trait_idx=0,\n",
    ") -> jnp.ndarray:\n",
    "    \"\"\"Build selection scores with masking of inactive as -inf.\"\"\"\n",
    "    if use == \"bv\" and bv is not None:\n",
    "        raw = bv[:, trait_idx]\n",
    "    else:\n",
    "        raw = pheno[:, trait_idx]\n",
    "    # mask inactives\n",
    "    neg_inf = jnp.array(-jnp.inf, raw.dtype)\n",
    "    return jnp.where(is_active, raw, neg_inf)\n"
   ]
  },
  {
   "cell_type": "code",
   "execution_count": 10,
   "id": "3ef0376b",
   "metadata": {},
   "outputs": [],
   "source": [
    "x = jnp.array([0.1, 0.9, -1.0, 0.5])\n",
    "mask = jnp.array([1,1,0,1], dtype=bool)\n",
    "scores = score_from_bv_pheno(bv=None, pheno=x[:,None], is_active=mask, use=\"pheno\")\n",
    "assert set(select_topk(scores, 2).tolist()) <= {1,3}\n"
   ]
  },
  {
   "cell_type": "code",
   "execution_count": 5,
   "id": "af484363",
   "metadata": {},
   "outputs": [],
   "source": [
    "#| hide\n",
    "import nbdev; nbdev.nbdev_export()"
   ]
  }
 ],
 "metadata": {
  "kernelspec": {
   "display_name": "Python 3",
   "language": "python",
   "name": "python3"
  },
  "language_info": {
   "codemirror_mode": {
    "name": "ipython",
    "version": 3
   },
   "file_extension": ".py",
   "mimetype": "text/x-python",
   "name": "python",
   "nbconvert_exporter": "python",
   "pygments_lexer": "ipython3",
   "version": "3.10.12"
  }
 },
 "nbformat": 4,
 "nbformat_minor": 5
}
