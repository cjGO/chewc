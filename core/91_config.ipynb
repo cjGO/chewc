{
 "cells": [
  {
   "cell_type": "code",
   "execution_count": 1,
   "id": "3cac6389",
   "metadata": {},
   "outputs": [],
   "source": [
    "#| default_exp xxx"
   ]
  },
  {
   "cell_type": "markdown",
   "id": "320c9b42",
   "metadata": {},
   "source": []
  },
  {
   "cell_type": "code",
   "execution_count": 2,
   "id": "e9fd2d83",
   "metadata": {},
   "outputs": [],
   "source": [
    "#| export\n",
    "from flax.struct import dataclass\n",
    "import jax.numpy as jnp\n",
    "from typing import Tuple"
   ]
  },
  {
   "cell_type": "code",
   "execution_count": 3,
   "id": "c83df0e6",
   "metadata": {},
   "outputs": [],
   "source": [
    "#| export\n",
    "@dataclass(frozen=True)\n",
    "class Population:\n",
    "    # geno: (N, n_chr, ploidy=2, n_loci)\n",
    "    geno: jnp.ndarray\n",
    "    # meta columns: [id, mother_id, father_id, birth_gen]\n",
    "    meta: jnp.ndarray\n",
    "\n",
    "@dataclass(frozen=True)\n",
    "class Trait:\n",
    "    # QTL location and additive effects across traits\n",
    "    qtl_chromosome: jnp.ndarray   # (Q,)\n",
    "    qtl_position: jnp.ndarray     # (Q,)\n",
    "    qtl_effects: jnp.ndarray      # (Q, n_traits)\n",
    "    intercept: jnp.ndarray        # (n_traits,)\n",
    "\n",
    "@dataclass(frozen=True)\n",
    "class StaticConfig:\n",
    "    n_chr: int\n",
    "    n_loci_per_chr: int\n",
    "    ploidy: int\n",
    "    n_select: int\n",
    "    n_offspring: int\n",
    "\n",
    "@dataclass(frozen=True)\n",
    "class DynamicConfig:\n",
    "    genetic_map: jnp.ndarray              # (n_chr, n_loci)\n",
    "    traits: Tuple[Trait, ...]             # tuple for pytree stability\n",
    "    locus_positions: jnp.ndarray          # (n_chr, n_loci), cumsum of genetic_map"
   ]
  },
  {
   "cell_type": "code",
   "execution_count": 4,
   "id": "af484363",
   "metadata": {},
   "outputs": [],
   "source": [
    "#| hide\n",
    "import nbdev; nbdev.nbdev_export()"
   ]
  },
  {
   "cell_type": "code",
   "execution_count": null,
   "id": "ee2a91d2",
   "metadata": {},
   "outputs": [],
   "source": []
  }
 ],
 "metadata": {
  "kernelspec": {
   "display_name": "Python 3",
   "language": "python",
   "name": "python3"
  },
  "language_info": {
   "codemirror_mode": {
    "name": "ipython",
    "version": 3
   },
   "file_extension": ".py",
   "mimetype": "text/x-python",
   "name": "python",
   "nbconvert_exporter": "python",
   "pygments_lexer": "ipython3",
   "version": "3.10.12"
  }
 },
 "nbformat": 4,
 "nbformat_minor": 5
}
