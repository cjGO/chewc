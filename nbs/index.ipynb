{
 "cells": [
  {
   "cell_type": "code",
   "execution_count": null,
   "metadata": {},
   "outputs": [],
   "source": [
    "# | hide\n",
    "# from chewc.core import *\n",
    "# from chewc.pop import *\n",
    "# from chewc.sp import *\n",
    "# from chewc.trait import *"
   ]
  },
  {
   "cell_type": "markdown",
   "metadata": {},
   "source": [
    "# chewc\n",
    "\n",
    "> JAX breeding sim"
   ]
  },
  {
   "cell_type": "markdown",
   "metadata": {},
   "source": [
    "## Developer Guide"
   ]
  },
  {
   "cell_type": "markdown",
   "metadata": {},
   "source": [
    "If you are new to using `nbdev` here are some useful pointers to get you started."
   ]
  },
  {
   "cell_type": "markdown",
   "metadata": {},
   "source": [
    "### Install chewc in Development mode"
   ]
  },
  {
   "cell_type": "markdown",
   "metadata": {},
   "source": [
    "```sh\n",
    "# make sure chewc package is installed in development mode\n",
    "$ pip install -e .\n",
    "\n",
    "# make changes under nbs/ directory\n",
    "# ...\n",
    "\n",
    "# compile to have changes apply to chewc\n",
    "$ nbdev_prepare\n",
    "```"
   ]
  },
  {
   "cell_type": "markdown",
   "metadata": {},
   "source": [
    "## Usage"
   ]
  },
  {
   "cell_type": "markdown",
   "metadata": {},
   "source": [
    "### Installation"
   ]
  },
  {
   "cell_type": "markdown",
   "metadata": {},
   "source": [
    "Install latest from the GitHub [repository][repo]:\n",
    "\n",
    "```sh\n",
    "$ pip install git+https://github.com/cjGO/chewc.git\n",
    "```\n",
    "\n",
    "\n",
    "[repo]: https://github.com/cjGO/chewc\n",
    "[docs]: https://cjGO.github.io/chewc/\n",
    "[pypi]: https://pypi.org/project/chewc/\n",
    "[conda]: https://anaconda.org/cjGO/chewc"
   ]
  },
  {
   "cell_type": "markdown",
   "metadata": {},
   "source": [
    "### Documentation"
   ]
  },
  {
   "cell_type": "markdown",
   "metadata": {},
   "source": [
    "Documentation can be found hosted on this GitHub [repository][repo]'s [pages][docs].\n",
    "\n",
    "[repo]: https://github.com/cjGO/chewc\n",
    "[docs]: https://cjGO.github.io/chewc/"
   ]
  },
  {
   "cell_type": "markdown",
   "metadata": {},
   "source": [
    "## How to use"
   ]
  },
  {
   "cell_type": "code",
   "execution_count": null,
   "metadata": {},
   "outputs": [
    {
     "name": "stdout",
     "output_type": "stream",
     "text": [
      "--- Starting Accelerated Burn-in (5 Generations) ---\n",
      "Generation  1/5 | Mean Phenotype: 0.4416\n",
      "Generation  2/5 | Mean Phenotype: 0.5609\n",
      "Generation  3/5 | Mean Phenotype: 0.9808\n",
      "Generation  4/5 | Mean Phenotype: 1.6960\n",
      "Generation  5/5 | Mean Phenotype: 1.9740\n",
      "\n",
      "--- Burn-in Complete ---\n",
      "--------------------------------------------------\n",
      "Total simulation time for burn-in: 0.1863 seconds.\n",
      "Average time per generation (including compilation): 37.2615 ms\n",
      "\n",
      "Final population state after 5 generations:\n",
      "Population(nInd=20, nTraits=1, has_ebv=No)\n"
     ]
    }
   ],
   "source": [
    "import jax\n",
    "import jax.numpy as jnp\n",
    "import time\n",
    "\n",
    "# --- 1. JAX Setup ---\n",
    "key = jax.random.PRNGKey(42)\n",
    "\n",
    "# --- 2. Imports from the 'chewc' library ---\n",
    "# Note the cleaner imports: we only need high-level components now.\n",
    "from chewc.sp import SimParam\n",
    "from chewc.population import Population, quick_haplo\n",
    "from chewc.trait import add_trait_a\n",
    "from chewc.burnin import run_burnin # Import the new burn-in function\n",
    "\n",
    "# --- 3. Define Genome Blueprint ---\n",
    "n_chr, n_loci_per_chr, ploidy = 3, 100, 2\n",
    "gen_map = jnp.array([jnp.linspace(0, 1, n_loci_per_chr) for _ in range(n_chr)])\n",
    "centromeres = jnp.full(n_chr, 0.5)\n",
    "\n",
    "# --- 4. Define Trait Architecture ---\n",
    "trait_mean = 0.0\n",
    "trait_var = 1.0\n",
    "trait_h2 = 0.1\n",
    "\n",
    "# --- 5. Define Burn-in Parameters ---\n",
    "n_parents_select = 6\n",
    "n_progeny = 20\n",
    "burn_in_generations = 5\n",
    "\n",
    "# --- 6. Instantiate SimParam ---\n",
    "sp = SimParam(gen_map=gen_map, centromere=centromeres, ploidy=ploidy)\n",
    "\n",
    "# --- 7. Create Founder Population ---\n",
    "key, pop_key = jax.random.split(key)\n",
    "founder_pop = quick_haplo(key=pop_key, sim_param=sp, n_ind=10, inbred=False)\n",
    "sp = sp.replace(founderPop=founder_pop)\n",
    "\n",
    "# --- 8. Add Trait to SimParam ---\n",
    "key, trait_key = jax.random.split(key)\n",
    "sp = add_trait_a(\n",
    "    key=trait_key,\n",
    "    sim_param=sp,\n",
    "    n_qtl_per_chr=100,\n",
    "    mean=jnp.array([trait_mean]),\n",
    "    var=jnp.array([trait_var])\n",
    ")\n",
    "\n",
    "# --- 9. Run the entire Burn-in Phase with a single function call ---\n",
    "key, burnin_key = jax.random.split(key)\n",
    "h2 = jnp.array([trait_h2])\n",
    "\n",
    "start_time = time.time()\n",
    "# The call to run_burnin encapsulates the entire loop, including initial\n",
    "# phenotyping and JIT compilation on the first internal generation.\n",
    "final_pop = run_burnin(\n",
    "    key=burnin_key,\n",
    "    sp=sp,\n",
    "    n_generations=burn_in_generations,\n",
    "    n_parents=n_parents_select,\n",
    "    n_progeny=n_progeny,\n",
    "    h2=h2,\n",
    "    verbose=True # This will print the progress per generation\n",
    ")\n",
    "# Ensure all JAX computations are finished before stopping the timer\n",
    "final_pop.geno.block_until_ready()\n",
    "end_time = time.time()\n",
    "\n",
    "# --- 10. Report Results ---\n",
    "total_time = end_time - start_time\n",
    "avg_time_per_gen = total_time / burn_in_generations\n",
    "\n",
    "print(\"-\" * 50)\n",
    "print(f\"Total simulation time for burn-in: {total_time:.4f} seconds.\")\n",
    "print(f\"Average time per generation (including compilation): {avg_time_per_gen * 1000:.4f} ms\")\n",
    "print(f\"\\nFinal population state after {burn_in_generations} generations:\")\n",
    "print(final_pop)"
   ]
  },
  {
   "cell_type": "code",
   "execution_count": null,
   "metadata": {},
   "outputs": [
    {
     "data": {
      "image/png": "[encoded data removed]",
      "text/plain": [
       "<Figure size 1200x700 with 1 Axes>"
      ]
     },
     "metadata": {},
     "output_type": "display_data"
    },
    {
     "name": "stdout",
     "output_type": "stream",
     "text": [
      "Shape of the summary array: (3, 100)\n",
      "Shape of the flattened array for plotting: (300,)\n",
      "Mean Rare Allele Frequency: 0.2784999907016754\n",
      "Min Frequency: 0.0\n",
      "Max Frequency: 0.5\n",
      "Shape of the input data: (20, 3, 2, 100)\n",
      "Shape of the final summary array: (3, 100)\n",
      "\n",
      "Example: Proportions for the first 5 markers on the first chromosome:\n",
      "[0.19999999 0.025      0.3        0.05000001 0.         0.\n",
      " 0.         0.5        0.07499999 0.4        0.17500001 0.19999999\n",
      " 0.4        0.         0.325      0.         0.325      0.2\n",
      " 0.39999998 0.075      0.27499998 0.375      0.375      0.325\n",
      " 0.425      0.22500002 0.22500002 0.05       0.275      0.275\n",
      " 0.22500002 0.275      0.         0.         0.05000001 0.225\n",
      " 0.225      0.05000001 0.22500002 0.05000001 0.2        0.25\n",
      " 0.425      0.02499998 0.17500001 0.025      0.19999999 0.\n",
      " 0.475      0.175      0.35000002 0.225      0.225      0.25\n",
      " 0.02499998 0.475      0.25       0.39999998 0.375      0.02499998\n",
      " 0.325      0.4        0.425      0.3        0.3        0.22500002\n",
      " 0.02499998 0.2        0.325      0.35000002 0.02499998 0.3\n",
      " 0.325      0.175      0.5        0.325      0.325      0.5\n",
      " 0.         0.325      0.475      0.325      0.325      0.14999998\n",
      " 0.14999998 0.         0.1        0.45       0.4        0.05\n",
      " 0.05000001 0.05       0.         0.5        0.075      0.4\n",
      " 0.47500002 0.275      0.         0.5       ]\n"
     ]
    }
   ],
   "source": [
    "import jax.numpy as jnp\n",
    "import jax.random as random\n",
    "import matplotlib.pyplot as plt\n",
    "import numpy as np\n",
    "\n",
    "# 1. Simulate your data array\n",
    "# This creates a random array with the specified dimensions to demonstrate the logic.\n",
    "# Shape: (individuals, chromosomes, haplotypes, markers)\n",
    "key = random.PRNGKey(42)\n",
    "def calculate_rare_allele_frequency(data):\n",
    "  \"\"\"\n",
    "  Calculates the proportion of the rare allele for each marker per chromosome.\n",
    "\n",
    "  Args:\n",
    "    data: A jnp.ndarray with shape (individuals, chromosomes, haplotypes, markers).\n",
    "\n",
    "  Returns:\n",
    "    A jnp.ndarray with shape (chromosomes, markers) containing the rare allele proportions.\n",
    "  \"\"\"\n",
    "  # Total alleles per marker = number of individuals * number of haplotypes\n",
    "  total_alleles = data.shape[0] * data.shape[2] # 100 * 2 = 200\n",
    "\n",
    "  # Sum over the 'individuals' (axis 0) and 'haplotypes' (axis 2) dimensions.\n",
    "  allele_1_counts = data.sum(axis=(0, 2))\n",
    "\n",
    "  # Calculate the frequency (proportion) of allele '1'.\n",
    "  p = allele_1_counts / total_alleles\n",
    "\n",
    "  # The rare allele is the one with a frequency < 0.5.\n",
    "  rare_allele_proportions = jnp.minimum(p, 1 - p)\n",
    "\n",
    "  return rare_allele_proportions\n",
    "\n",
    "# Get the (3, 100) summary array\n",
    "rare_allele_summary = calculate_rare_allele_frequency(final_pop.geno)\n",
    "\n",
    "\n",
    "# --- 2. Visualize the Frequencies as a Histogram ---\n",
    "\n",
    "# Flatten the (3, 100) array into a 1D array of 300 values\n",
    "# Convert to a standard NumPy array for plotting\n",
    "frequencies_flat = np.array(rare_allele_summary.flatten())\n",
    "\n",
    "# Create the histogram\n",
    "plt.style.use('seaborn-v0_8-whitegrid') # Use a nice style for the plot\n",
    "fig, ax = plt.subplots(figsize=(12, 7))\n",
    "\n",
    "# Plot the histogram with 20 bins for good resolution\n",
    "# The range is [0, 0.5] since these are rare allele frequencies\n",
    "ax.hist(frequencies_flat, bins=20, range=(0, 0.5), color='skyblue', edgecolor='black')\n",
    "\n",
    "# Set titles and labels for clarity\n",
    "ax.set_title('Distribution of Rare Allele Frequencies Across All Markers', fontsize=16, fontweight='bold')\n",
    "ax.set_xlabel('Rare Allele Frequency (RAF)', fontsize=12)\n",
    "ax.set_ylabel('Number of Markers', fontsize=12)\n",
    "\n",
    "# Set x-axis ticks for better readability\n",
    "ax.set_xticks(np.arange(0, 0.51, 0.05))\n",
    "\n",
    "# Add a vertical line at the mean RAF\n",
    "mean_raf = frequencies_flat.mean()\n",
    "ax.axvline(mean_raf, color='red', linestyle='--', linewidth=2, label=f'Mean RAF: {mean_raf:.3f}')\n",
    "ax.legend()\n",
    "\n",
    "# Display the plot\n",
    "plt.tight_layout()\n",
    "plt.show()\n",
    "\n",
    "# --- Verification ---\n",
    "print(f\"Shape of the summary array: {rare_allele_summary.shape}\")\n",
    "print(f\"Shape of the flattened array for plotting: {frequencies_flat.shape}\")\n",
    "print(f\"Mean Rare Allele Frequency: {mean_raf}\")\n",
    "print(f\"Min Frequency: {frequencies_flat.min()}\")\n",
    "print(f\"Max Frequency: {frequencies_flat.max()}\")\n",
    "\n",
    "# 3. Get the final result\n",
    "rare_allele_summary = calculate_rare_allele_frequency(final_pop.geno)\n",
    "\n",
    "# --- Verification ---\n",
    "print(f\"Shape of the input data: {final_pop.geno.shape}\")\n",
    "print(f\"Shape of the final summary array: {rare_allele_summary.shape}\")\n",
    "print(\"\\nExample: Proportions for the first 5 markers on the first chromosome:\")\n",
    "print(rare_allele_summary[1, :100])"
   ]
  },
  {
   "cell_type": "code",
   "execution_count": null,
   "metadata": {},
   "outputs": [],
   "source": []
  }
 ],
 "metadata": {
  "kernelspec": {
   "display_name": "python3",
   "language": "python",
   "name": "python3"
  }
 },
 "nbformat": 4,
 "nbformat_minor": 4
}
