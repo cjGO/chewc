{
 "cells": [
  {
   "cell_type": "code",
   "execution_count": 4,
   "id": "639f56dd",
   "metadata": {},
   "outputs": [],
   "source": [
    "from chewc.config import SimConfig\n",
    "from chewc.structs import SimParam, Population\n",
    "from chewc.state import SimState, init_state_from_founders"
   ]
  },
  {
   "cell_type": "code",
   "execution_count": 8,
   "id": "1b371951",
   "metadata": {},
   "outputs": [
    {
     "ename": "IndexError",
     "evalue": "Array slice indices must have static start/stop/step to be used with NumPy indexing syntax. Found slice(Traced<~int32[]>with<DynamicJaxprTrace>, Traced<~int32[]>with<DynamicJaxprTrace>, None). To index a statically sized array at a dynamic position, try lax.dynamic_slice/dynamic_update_slice (JAX does not support dynamically sized arrays within JIT compiled functions).",
     "output_type": "error",
     "traceback": [
      "\u001b[0;31m---------------------------------------------------------------------------\u001b[0m",
      "\u001b[0;31mIndexError\u001b[0m                                Traceback (most recent call last)",
      "Cell \u001b[0;32mIn[8], line 39\u001b[0m\n\u001b[1;32m     36\u001b[0m state0 \u001b[38;5;241m=\u001b[39m init_state_from_founders(key, founders, sp, config)\n\u001b[1;32m     38\u001b[0m \u001b[38;5;66;03m# 6) Roll one replicate\u001b[39;00m\n\u001b[0;32m---> 39\u001b[0m stateT, means, vars_ \u001b[38;5;241m=\u001b[39m \u001b[43mrun_one\u001b[49m\u001b[43m(\u001b[49m\u001b[43mstate0\u001b[49m\u001b[43m,\u001b[49m\u001b[43m \u001b[49m\u001b[43msp\u001b[49m\u001b[43m,\u001b[49m\u001b[43m \u001b[49m\u001b[43mconfig\u001b[49m\u001b[43m,\u001b[49m\u001b[43m \u001b[49m\u001b[43mh2\u001b[49m\u001b[43m,\u001b[49m\u001b[43m \u001b[49m\u001b[43mtrait_effects\u001b[49m\u001b[43m)\u001b[49m\n\u001b[1;32m     41\u001b[0m \u001b[38;5;28mprint\u001b[39m(\u001b[38;5;124m\"\u001b[39m\u001b[38;5;124mmeans shape:\u001b[39m\u001b[38;5;124m\"\u001b[39m, means\u001b[38;5;241m.\u001b[39mshape)  \u001b[38;5;66;03m# (G, T)\u001b[39;00m\n\u001b[1;32m     42\u001b[0m \u001b[38;5;28mprint\u001b[39m(\u001b[38;5;124m\"\u001b[39m\u001b[38;5;124mvars  shape:\u001b[39m\u001b[38;5;124m\"\u001b[39m, vars_\u001b[38;5;241m.\u001b[39mshape)  \u001b[38;5;66;03m# (G, T)\u001b[39;00m\n",
      "    \u001b[0;31m[... skipping hidden 16 frame]\u001b[0m\n",
      "File \u001b[0;32m/mnt/c/Users/cltng/gdrive/chewc/chewc/rollout.py:21\u001b[0m, in \u001b[0;36mrun_one\u001b[0;34m(state0, sp, config, h2, trait_effects)\u001b[0m\n\u001b[1;32m     19\u001b[0m \u001b[38;5;28;01mdef\u001b[39;00m\u001b[38;5;250m \u001b[39m\u001b[38;5;21mbody\u001b[39m(st, _):\n\u001b[1;32m     20\u001b[0m     \u001b[38;5;28;01mreturn\u001b[39;00m generation_step(st, sp, config, h2, trait_effects)\n\u001b[0;32m---> 21\u001b[0m stateT, metrics \u001b[38;5;241m=\u001b[39m \u001b[43mlax\u001b[49m\u001b[38;5;241;43m.\u001b[39;49m\u001b[43mscan\u001b[49m\u001b[43m(\u001b[49m\u001b[43mbody\u001b[49m\u001b[43m,\u001b[49m\u001b[43m \u001b[49m\u001b[43mstate0\u001b[49m\u001b[43m,\u001b[49m\u001b[43m \u001b[49m\u001b[38;5;28;43;01mNone\u001b[39;49;00m\u001b[43m,\u001b[49m\u001b[43m \u001b[49m\u001b[43mlength\u001b[49m\u001b[38;5;241;43m=\u001b[39;49m\u001b[43mconfig\u001b[49m\u001b[38;5;241;43m.\u001b[39;49m\u001b[43mn_generations\u001b[49m\u001b[43m)\u001b[49m\n\u001b[1;32m     22\u001b[0m means \u001b[38;5;241m=\u001b[39m jnp\u001b[38;5;241m.\u001b[39mstack([m \u001b[38;5;28;01mfor\u001b[39;00m m, _ \u001b[38;5;129;01min\u001b[39;00m metrics]) \u001b[38;5;28;01mif\u001b[39;00m \u001b[38;5;28misinstance\u001b[39m(metrics[\u001b[38;5;241m0\u001b[39m], \u001b[38;5;28mtuple\u001b[39m) \u001b[38;5;28;01melse\u001b[39;00m metrics\n\u001b[1;32m     23\u001b[0m \u001b[38;5;66;03m# Our metrics are (mean, var); unpack cleanly:\u001b[39;00m\n",
      "    \u001b[0;31m[... skipping hidden 10 frame]\u001b[0m\n",
      "File \u001b[0;32m/mnt/c/Users/cltng/gdrive/chewc/chewc/rollout.py:20\u001b[0m, in \u001b[0;36mrun_one.<locals>.body\u001b[0;34m(st, _)\u001b[0m\n\u001b[1;32m     19\u001b[0m \u001b[38;5;28;01mdef\u001b[39;00m\u001b[38;5;250m \u001b[39m\u001b[38;5;21mbody\u001b[39m(st, _):\n\u001b[0;32m---> 20\u001b[0m     \u001b[38;5;28;01mreturn\u001b[39;00m \u001b[43mgeneration_step\u001b[49m\u001b[43m(\u001b[49m\u001b[43mst\u001b[49m\u001b[43m,\u001b[49m\u001b[43m \u001b[49m\u001b[43msp\u001b[49m\u001b[43m,\u001b[49m\u001b[43m \u001b[49m\u001b[43mconfig\u001b[49m\u001b[43m,\u001b[49m\u001b[43m \u001b[49m\u001b[43mh2\u001b[49m\u001b[43m,\u001b[49m\u001b[43m \u001b[49m\u001b[43mtrait_effects\u001b[49m\u001b[43m)\u001b[49m\n",
      "    \u001b[0;31m[... skipping hidden 16 frame]\u001b[0m\n",
      "File \u001b[0;32m/mnt/c/Users/cltng/gdrive/chewc/chewc/k_fused.py:51\u001b[0m, in \u001b[0;36mgeneration_step\u001b[0;34m(state, sp, config, h2, trait_effects)\u001b[0m\n\u001b[1;32m     48\u001b[0m start \u001b[38;5;241m=\u001b[39m state\u001b[38;5;241m.\u001b[39mwrite_pos\n\u001b[1;32m     49\u001b[0m end   \u001b[38;5;241m=\u001b[39m start \u001b[38;5;241m+\u001b[39m config\u001b[38;5;241m.\u001b[39mpopulation_size\n\u001b[0;32m---> 51\u001b[0m geno2  \u001b[38;5;241m=\u001b[39m \u001b[43mstate\u001b[49m\u001b[38;5;241;43m.\u001b[39;49m\u001b[43mgeno\u001b[49m\u001b[38;5;241;43m.\u001b[39;49m\u001b[43mat\u001b[49m\u001b[43m[\u001b[49m\u001b[43mstart\u001b[49m\u001b[43m:\u001b[49m\u001b[43mend\u001b[49m\u001b[43m]\u001b[49m\u001b[38;5;241;43m.\u001b[39;49m\u001b[43mset\u001b[49m\u001b[43m(\u001b[49m\u001b[43mprog_geno\u001b[49m\u001b[43m)\u001b[49m\n\u001b[1;32m     52\u001b[0m ibd2   \u001b[38;5;241m=\u001b[39m state\u001b[38;5;241m.\u001b[39mibd\u001b[38;5;241m.\u001b[39mat[start:end]\u001b[38;5;241m.\u001b[39mset(prog_ibd)\n\u001b[1;32m     53\u001b[0m \u001b[38;5;66;03m# reset pheno/bv for fresh cohort (they’ll be phenotyped next gen)\u001b[39;00m\n",
      "File \u001b[0;32m~/.local/lib/python3.10/site-packages/jax/_src/numpy/array_methods.py:814\u001b[0m, in \u001b[0;36m_IndexUpdateRef.set\u001b[0;34m(self, values, indices_are_sorted, unique_indices, mode)\u001b[0m\n\u001b[1;32m    812\u001b[0m \u001b[38;5;28;01mif\u001b[39;00m out_s\u001b[38;5;241m.\u001b[39mmesh\u001b[38;5;241m.\u001b[39mempty \u001b[38;5;129;01mor\u001b[39;00m out_s\u001b[38;5;241m.\u001b[39mmesh\u001b[38;5;241m.\u001b[39m_are_all_axes_auto_or_manual:\n\u001b[1;32m    813\u001b[0m   out_s \u001b[38;5;241m=\u001b[39m \u001b[38;5;28;01mNone\u001b[39;00m\n\u001b[0;32m--> 814\u001b[0m \u001b[38;5;28;01mreturn\u001b[39;00m \u001b[43mscatter\u001b[49m\u001b[38;5;241;43m.\u001b[39;49m\u001b[43m_scatter_update\u001b[49m\u001b[43m(\u001b[49m\u001b[38;5;28;43mself\u001b[39;49m\u001b[38;5;241;43m.\u001b[39;49m\u001b[43marray\u001b[49m\u001b[43m,\u001b[49m\u001b[43m \u001b[49m\u001b[38;5;28;43mself\u001b[39;49m\u001b[38;5;241;43m.\u001b[39;49m\u001b[43mindex\u001b[49m\u001b[43m,\u001b[49m\u001b[43m \u001b[49m\u001b[43mvalues\u001b[49m\u001b[43m,\u001b[49m\u001b[43m \u001b[49m\u001b[43mlax\u001b[49m\u001b[38;5;241;43m.\u001b[39;49m\u001b[43mscatter\u001b[49m\u001b[43m,\u001b[49m\n\u001b[1;32m    815\u001b[0m \u001b[43m                               \u001b[49m\u001b[43mindices_are_sorted\u001b[49m\u001b[38;5;241;43m=\u001b[39;49m\u001b[43mindices_are_sorted\u001b[49m\u001b[43m,\u001b[49m\n\u001b[1;32m    816\u001b[0m \u001b[43m                               \u001b[49m\u001b[43munique_indices\u001b[49m\u001b[38;5;241;43m=\u001b[39;49m\u001b[43munique_indices\u001b[49m\u001b[43m,\u001b[49m\u001b[43m \u001b[49m\u001b[43mmode\u001b[49m\u001b[38;5;241;43m=\u001b[39;49m\u001b[43mmode\u001b[49m\u001b[43m,\u001b[49m\n\u001b[1;32m    817\u001b[0m \u001b[43m                               \u001b[49m\u001b[43mout_sharding\u001b[49m\u001b[38;5;241;43m=\u001b[39;49m\u001b[43mout_s\u001b[49m\u001b[43m)\u001b[49m\n",
      "File \u001b[0;32m~/.local/lib/python3.10/site-packages/jax/_src/ops/scatter.py:92\u001b[0m, in \u001b[0;36m_scatter_update\u001b[0;34m(x, idx, y, scatter_op, indices_are_sorted, unique_indices, mode, normalize_indices, out_sharding)\u001b[0m\n\u001b[1;32m     89\u001b[0m \u001b[38;5;28;01mif\u001b[39;00m out_sharding \u001b[38;5;129;01mis\u001b[39;00m \u001b[38;5;129;01mnot\u001b[39;00m \u001b[38;5;28;01mNone\u001b[39;00m:\n\u001b[1;32m     90\u001b[0m   \u001b[38;5;28;01mreturn\u001b[39;00m auto_axes(internal_scatter, out_sharding\u001b[38;5;241m=\u001b[39mout_sharding\n\u001b[1;32m     91\u001b[0m                    )(x, y, dynamic_idx)\n\u001b[0;32m---> 92\u001b[0m \u001b[38;5;28;01mreturn\u001b[39;00m \u001b[43minternal_scatter\u001b[49m\u001b[43m(\u001b[49m\u001b[43mx\u001b[49m\u001b[43m,\u001b[49m\u001b[43m \u001b[49m\u001b[43my\u001b[49m\u001b[43m,\u001b[49m\u001b[43m \u001b[49m\u001b[43mdynamic_idx\u001b[49m\u001b[43m)\u001b[49m\n",
      "File \u001b[0;32m~/.local/lib/python3.10/site-packages/jax/_src/ops/scatter.py:116\u001b[0m, in \u001b[0;36m_scatter_impl\u001b[0;34m(x, y, dynamic_idx, scatter_op, treedef, static_idx, indices_are_sorted, unique_indices, mode, normalize_indices)\u001b[0m\n\u001b[1;32m    108\u001b[0m   warnings\u001b[38;5;241m.\u001b[39mwarn(\n\u001b[1;32m    109\u001b[0m     \u001b[38;5;124m\"\u001b[39m\u001b[38;5;124mscatter inputs have incompatible types: cannot safely cast value \u001b[39m\u001b[38;5;124m\"\u001b[39m\n\u001b[1;32m    110\u001b[0m     \u001b[38;5;124mf\u001b[39m\u001b[38;5;124m\"\u001b[39m\u001b[38;5;124mfrom dtype=\u001b[39m\u001b[38;5;132;01m{\u001b[39;00mlax\u001b[38;5;241m.\u001b[39mdtype(y)\u001b[38;5;132;01m}\u001b[39;00m\u001b[38;5;124m to dtype=\u001b[39m\u001b[38;5;132;01m{\u001b[39;00mlax\u001b[38;5;241m.\u001b[39mdtype(x)\u001b[38;5;132;01m}\u001b[39;00m\u001b[38;5;124m with \u001b[39m\u001b[38;5;124m\"\u001b[39m\n\u001b[1;32m    111\u001b[0m     \u001b[38;5;124mf\u001b[39m\u001b[38;5;124m\"\u001b[39m\u001b[38;5;124mjax_numpy_dtype_promotion=\u001b[39m\u001b[38;5;132;01m{\u001b[39;00mconfig\u001b[38;5;241m.\u001b[39mnumpy_dtype_promotion\u001b[38;5;241m.\u001b[39mvalue\u001b[38;5;132;01m!r}\u001b[39;00m\u001b[38;5;124m. \u001b[39m\u001b[38;5;124m\"\u001b[39m\n\u001b[1;32m    112\u001b[0m     \u001b[38;5;124m\"\u001b[39m\u001b[38;5;124mIn future JAX releases this will result in an error.\u001b[39m\u001b[38;5;124m\"\u001b[39m,\n\u001b[1;32m    113\u001b[0m     \u001b[38;5;167;01mFutureWarning\u001b[39;00m)\n\u001b[1;32m    115\u001b[0m idx \u001b[38;5;241m=\u001b[39m indexing\u001b[38;5;241m.\u001b[39mmerge_static_and_dynamic_indices(treedef, static_idx, dynamic_idx)\n\u001b[0;32m--> 116\u001b[0m indexer \u001b[38;5;241m=\u001b[39m \u001b[43mindexing\u001b[49m\u001b[38;5;241;43m.\u001b[39;49m\u001b[43mindex_to_gather\u001b[49m\u001b[43m(\u001b[49m\u001b[43mnp\u001b[49m\u001b[38;5;241;43m.\u001b[39;49m\u001b[43mshape\u001b[49m\u001b[43m(\u001b[49m\u001b[43mx\u001b[49m\u001b[43m)\u001b[49m\u001b[43m,\u001b[49m\u001b[43m \u001b[49m\u001b[43midx\u001b[49m\u001b[43m,\u001b[49m\n\u001b[1;32m    117\u001b[0m \u001b[43m                                   \u001b[49m\u001b[43mnormalize_indices\u001b[49m\u001b[38;5;241;43m=\u001b[39;49m\u001b[43mnormalize_indices\u001b[49m\u001b[43m)\u001b[49m\n\u001b[1;32m    119\u001b[0m \u001b[38;5;66;03m# Avoid calling scatter if the slice shape is empty, both as a fast path and\u001b[39;00m\n\u001b[1;32m    120\u001b[0m \u001b[38;5;66;03m# to handle cases like zeros(0)[array([], int32)].\u001b[39;00m\n\u001b[1;32m    121\u001b[0m \u001b[38;5;28;01mif\u001b[39;00m core\u001b[38;5;241m.\u001b[39mis_empty_shape(indexer\u001b[38;5;241m.\u001b[39mslice_shape):\n",
      "File \u001b[0;32m~/.local/lib/python3.10/site-packages/jax/_src/numpy/indexing.py:929\u001b[0m, in \u001b[0;36mindex_to_gather\u001b[0;34m(x_shape, idx, normalize_indices)\u001b[0m\n\u001b[1;32m    920\u001b[0m \u001b[38;5;28;01mif\u001b[39;00m \u001b[38;5;129;01mnot\u001b[39;00m \u001b[38;5;28mall\u001b[39m(_is_slice_element_none_or_constant_or_symbolic(elt)\n\u001b[1;32m    921\u001b[0m            \u001b[38;5;28;01mfor\u001b[39;00m elt \u001b[38;5;129;01min\u001b[39;00m (i\u001b[38;5;241m.\u001b[39mstart, i\u001b[38;5;241m.\u001b[39mstop, i\u001b[38;5;241m.\u001b[39mstep)):\n\u001b[1;32m    922\u001b[0m   msg \u001b[38;5;241m=\u001b[39m (\u001b[38;5;124m\"\u001b[39m\u001b[38;5;124mArray slice indices must have static start/stop/step to be used \u001b[39m\u001b[38;5;124m\"\u001b[39m\n\u001b[1;32m    923\u001b[0m          \u001b[38;5;124m\"\u001b[39m\u001b[38;5;124mwith NumPy indexing syntax. \u001b[39m\u001b[38;5;124m\"\u001b[39m\n\u001b[1;32m    924\u001b[0m          \u001b[38;5;124mf\u001b[39m\u001b[38;5;124m\"\u001b[39m\u001b[38;5;124mFound slice(\u001b[39m\u001b[38;5;132;01m{\u001b[39;00mi\u001b[38;5;241m.\u001b[39mstart\u001b[38;5;132;01m}\u001b[39;00m\u001b[38;5;124m, \u001b[39m\u001b[38;5;132;01m{\u001b[39;00mi\u001b[38;5;241m.\u001b[39mstop\u001b[38;5;132;01m}\u001b[39;00m\u001b[38;5;124m, \u001b[39m\u001b[38;5;132;01m{\u001b[39;00mi\u001b[38;5;241m.\u001b[39mstep\u001b[38;5;132;01m}\u001b[39;00m\u001b[38;5;124m). \u001b[39m\u001b[38;5;124m\"\u001b[39m\n\u001b[0;32m   (...)\u001b[0m\n\u001b[1;32m    927\u001b[0m          \u001b[38;5;124m\"\u001b[39m\u001b[38;5;124mdynamic_update_slice (JAX does not support dynamically sized \u001b[39m\u001b[38;5;124m\"\u001b[39m\n\u001b[1;32m    928\u001b[0m          \u001b[38;5;124m\"\u001b[39m\u001b[38;5;124marrays within JIT compiled functions).\u001b[39m\u001b[38;5;124m\"\u001b[39m)\n\u001b[0;32m--> 929\u001b[0m   \u001b[38;5;28;01mraise\u001b[39;00m \u001b[38;5;167;01mIndexError\u001b[39;00m(msg)\n\u001b[1;32m    931\u001b[0m start, step, slice_size \u001b[38;5;241m=\u001b[39m core\u001b[38;5;241m.\u001b[39mcanonicalize_slice(i, x_shape[x_axis])\n\u001b[1;32m    932\u001b[0m slice_shape\u001b[38;5;241m.\u001b[39mappend(slice_size)\n",
      "\u001b[0;31mIndexError\u001b[0m: Array slice indices must have static start/stop/step to be used with NumPy indexing syntax. Found slice(Traced<~int32[]>with<DynamicJaxprTrace>, Traced<~int32[]>with<DynamicJaxprTrace>, None). To index a statically sized array at a dynamic position, try lax.dynamic_slice/dynamic_update_slice (JAX does not support dynamically sized arrays within JIT compiled functions)."
     ]
    }
   ],
   "source": [
    "# examples/min_smoke.py\n",
    "import jax, jax.numpy as jnp\n",
    "from chewc.popgen import msprime_pop   # your existing founder builder\n",
    "from chewc.structs import SimParam\n",
    "from chewc.config import SimConfig\n",
    "from chewc.state import init_state_from_founders\n",
    "from chewc.rollout import run_one\n",
    "\n",
    "key = jax.random.PRNGKey(0)\n",
    "\n",
    "# 1) Founders\n",
    "founders, gen_map = msprime_pop(\n",
    "    key, n_ind=20, n_chr=3, n_loci_per_chr=50, max_pop_size=80 + 5*100\n",
    ")\n",
    "\n",
    "# 2) SimParam (simple)\n",
    "sp = SimParam(gen_map=gen_map, ploidy=founders.geno.shape[2])\n",
    "\n",
    "# 3) Trait effects for T=1 trait (demo): (n_chr, n_loci, 1)\n",
    "# Use small random effects; in practice derive this from your trait module.\n",
    "trait_effects = jax.random.normal(key, shape=(gen_map.shape[0], gen_map.shape[1], 1)) * 0.1\n",
    "h2 = jnp.array([0.5])\n",
    "\n",
    "# 4) Static config\n",
    "config = SimConfig(\n",
    "    n_chr=gen_map.shape[0],\n",
    "    ploidy=sp.ploidy,\n",
    "    max_pop_size=founders.geno.shape[0]+20,\n",
    "    n_loci_per_chr=gen_map.shape[1],\n",
    "    n_generations=5,\n",
    "    n_select=20,         # select all (since pop=100 below)\n",
    "    population_size=100, # cohort size written each step\n",
    ")\n",
    "\n",
    "# 5) State\n",
    "state0 = init_state_from_founders(key, founders, sp, config)\n",
    "\n",
    "# 6) Roll one replicate\n",
    "stateT, means, vars_ = run_one(state0, sp, config, h2, trait_effects)\n",
    "\n",
    "print(\"means shape:\", means.shape)  # (G, T)\n",
    "print(\"vars  shape:\", vars_.shape)  # (G, T)\n",
    "print(\"final gen_idx:\", int(stateT.gen_idx))\n",
    "print(\"final write_pos:\", int(stateT.write_pos))\n"
   ]
  }
 ],
 "metadata": {
  "kernelspec": {
   "display_name": "Python 3",
   "language": "python",
   "name": "python3"
  },
  "language_info": {
   "codemirror_mode": {
    "name": "ipython",
    "version": 3
   },
   "file_extension": ".py",
   "mimetype": "text/x-python",
   "name": "python",
   "nbconvert_exporter": "python",
   "pygments_lexer": "ipython3",
   "version": "3.10.12"
  }
 },
 "nbformat": 4,
 "nbformat_minor": 5
}
