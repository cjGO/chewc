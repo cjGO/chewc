{
 "cells": [
  {
   "cell_type": "markdown",
   "metadata": {},
   "source": [
    "# pipe\n",
    "\n",
    "> Common operations around the core datastructures for running a sim"
   ]
  },
  {
   "cell_type": "code",
   "execution_count": null,
   "metadata": {},
   "outputs": [],
   "source": [
    "#| default_exp pipe"
   ]
  },
  {
   "cell_type": "code",
   "execution_count": null,
   "metadata": {},
   "outputs": [],
   "source": [
    "#| hide\n",
    "from nbdev.showdoc import *"
   ]
  },
  {
   "cell_type": "code",
   "execution_count": null,
   "metadata": {},
   "outputs": [],
   "source": [
    "#| export\n",
    "\n",
    "import jax\n",
    "import jax.numpy as jnp\n",
    "from jaxtyping import Array, Float\n",
    "from typing import Callable, Union\n",
    "\n",
    "from chewc.population import Population\n",
    "from chewc.sp import SimParam\n",
    "from chewc.pheno import set_pheno\n",
    "\n",
    "def select_ind(\n",
    "    pop: Population,\n",
    "    n_ind: int,\n",
    "    use: Union[str, Callable[[Population], jnp.ndarray]] = \"pheno\",\n",
    "    select_top: bool = True\n",
    ") -> Population:\n",
    "    \"\"\"\n",
    "    Selects the top or bottom individuals from a population.\n",
    "\n",
    "    Args:\n",
    "        pop: The population to select from.\n",
    "        n_ind: The number of individuals to select.\n",
    "        use: The criterion for selection. Can be a string ('gv', 'bv', \n",
    "             'pheno', 'ebv') or a custom function that takes a \n",
    "             Population and returns a 1D array of selection values.\n",
    "        select_top: If True, selects the highest values; otherwise, \n",
    "                    selects the lowest.\n",
    "\n",
    "    Returns:\n",
    "        A new, smaller Population object with the selected individuals.\n",
    "    \"\"\"\n",
    "    if isinstance(use, str):\n",
    "        selection_values = getattr(pop, use)\n",
    "        if selection_values.ndim > 1:\n",
    "            # Default to the first trait if multiple exist\n",
    "            selection_values = selection_values[:, 0]\n",
    "    else:\n",
    "        selection_values = use(pop)\n",
    "    \n",
    "    # Use JAX's efficient top-k selection for performance\n",
    "    if select_top:\n",
    "        # jax.lax.top_k returns values and indices. We need to flip the\n",
    "        # sign to get the top values, then flip it back.\n",
    "        _, indices = jax.lax.top_k(selection_values, k=n_ind)\n",
    "    else:\n",
    "        _, indices = jax.lax.top_k(-selection_values, k=n_ind)\n",
    "\n",
    "    # Use jax.tree_util.tree_map to apply the slicing to all array \n",
    "    # attributes of the Population object. This is a robust, functional\n",
    "    # approach that avoids manual slicing of each attribute.\n",
    "    selected_pop = jax.tree_util.tree_map(lambda x: x[indices], pop)\n",
    "    \n",
    "    return selected_pop\n",
    "\n",
    "\n",
    "def update_pop_values(\n",
    "    key: jax.random.PRNGKey, \n",
    "    pop: Population, \n",
    "    sp: SimParam, \n",
    "    h2: Float[Array, \"nTraits\"]\n",
    ") -> Population:\n",
    "    \"\"\"\n",
    "    Calculates genetic and phenotypic values for a new population.\n",
    "\n",
    "    This is a common pipeline step after creating progeny, who are born\n",
    "    with only genotypic information.\n",
    "\n",
    "    Args:\n",
    "        key: A JAX random key for phenotypic noise generation.\n",
    "        pop: The population of new individuals (e.g., progeny).\n",
    "        sp: The simulation parameters, containing trait information.\n",
    "        h2: The heritability for the trait(s) being phenotyped.\n",
    "\n",
    "    Returns:\n",
    "        A new Population object with updated bv and pheno attributes.\n",
    "    \"\"\"\n",
    "    # Use the existing JIT-compatible function from the pheno module\n",
    "    # This will calculate gv (and thus bv) and then the phenotype.\n",
    "    pop_with_values = set_pheno(key, pop, sp.traits, sp.ploidy, h2=h2)\n",
    "    return pop_with_values\n"
   ]
  },
  {
   "cell_type": "code",
   "execution_count": null,
   "metadata": {},
   "outputs": [],
   "source": [
    "#| hide\n",
    "import nbdev; nbdev.nbdev_export()"
   ]
  }
 ],
 "metadata": {
  "kernelspec": {
   "display_name": "python3",
   "language": "python",
   "name": "python3"
  }
 },
 "nbformat": 4,
 "nbformat_minor": 4
}
