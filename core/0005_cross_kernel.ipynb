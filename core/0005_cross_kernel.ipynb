{
 "cells": [
  {
   "cell_type": "code",
   "execution_count": 3,
   "id": "3cac6389",
   "metadata": {},
   "outputs": [],
   "source": [
    "#| default_exp k_cross"
   ]
  },
  {
   "cell_type": "markdown",
   "id": "320c9b42",
   "metadata": {},
   "source": []
  },
  {
   "cell_type": "code",
   "execution_count": null,
   "id": "599d71c8",
   "metadata": {},
   "outputs": [],
   "source": []
  },
  {
   "cell_type": "code",
   "execution_count": 4,
   "id": "b35a5a82",
   "metadata": {},
   "outputs": [],
   "source": [
    "#| export\n",
    "# chewc/_src/genetics/cross_kernels.py\n",
    "from __future__ import annotations\n",
    "import jax, jax.numpy as jnp\n",
    "\n",
    "def make_cross_plan(\n",
    "    key: jax.Array,\n",
    "    selected_idx: jnp.ndarray,    # (K,)\n",
    "    population_size: int,\n",
    ") -> tuple[jnp.ndarray, jnp.ndarray]:\n",
    "    \"\"\"\n",
    "    Return (mothers, fathers) each (population_size,). For now, clone mating:\n",
    "    mothers sampled from selected with replacement; fathers = mothers.\n",
    "    \"\"\"\n",
    "    Nsel = selected_idx.shape[0]\n",
    "    k = key\n",
    "    # sample mothers with replacement\n",
    "    # Using randint to avoid XLA scatter-permutation complexities\n",
    "    choice = jax.random.randint(k, (population_size,), 0, Nsel)\n",
    "    mothers = selected_idx[choice]\n",
    "    fathers = mothers\n",
    "    return mothers, fathers\n",
    "\n",
    "def clonal_progeny_from_parents(\n",
    "    parent_geno: jnp.ndarray,   # (N, n_chr, ploidy, n_loci)\n",
    "    parent_ibd: jnp.ndarray,    # same shape (unused here, but kept for API consistency)\n",
    "    mothers: jnp.ndarray,       # (M,)\n",
    "    fathers: jnp.ndarray,       # (M,) (unused for clonal)\n",
    ") -> tuple[jnp.ndarray, jnp.ndarray]:\n",
    "    \"\"\"\n",
    "    Return progeny that copy the mother's genotype and ibd.\n",
    "    Shape: (M, n_chr, ploidy, n_loci).\n",
    "    \"\"\"\n",
    "    geno_child = parent_geno[mothers]\n",
    "    ibd_child  = parent_ibd[mothers]\n",
    "    return geno_child, ibd_child\n"
   ]
  },
  {
   "cell_type": "code",
   "execution_count": 5,
   "id": "af484363",
   "metadata": {},
   "outputs": [],
   "source": [
    "#| hide\n",
    "import nbdev; nbdev.nbdev_export()"
   ]
  },
  {
   "cell_type": "code",
   "execution_count": null,
   "id": "a4dcd06c",
   "metadata": {},
   "outputs": [],
   "source": []
  }
 ],
 "metadata": {
  "kernelspec": {
   "display_name": "Python 3",
   "language": "python",
   "name": "python3"
  },
  "language_info": {
   "codemirror_mode": {
    "name": "ipython",
    "version": 3
   },
   "file_extension": ".py",
   "mimetype": "text/x-python",
   "name": "python",
   "nbconvert_exporter": "python",
   "pygments_lexer": "ipython3",
   "version": "3.10.12"
  }
 },
 "nbformat": 4,
 "nbformat_minor": 5
}
