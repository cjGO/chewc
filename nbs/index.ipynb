{
 "cells": [
  {
   "cell_type": "code",
   "execution_count": null,
   "metadata": {},
   "outputs": [],
   "source": [
    "# | hide\n",
    "# from chewc.core import *\n",
    "# from chewc.pop import *\n",
    "# from chewc.sp import *\n",
    "# from chewc.trait import *"
   ]
  },
  {
   "cell_type": "markdown",
   "metadata": {},
   "source": [
    "# chewc\n",
    "\n",
    "> JAX breeding sim"
   ]
  },
  {
   "cell_type": "markdown",
   "metadata": {},
   "source": [
    "## Developer Guide"
   ]
  },
  {
   "cell_type": "markdown",
   "metadata": {},
   "source": [
    "If you are new to using `nbdev` here are some useful pointers to get you started."
   ]
  },
  {
   "cell_type": "markdown",
   "metadata": {},
   "source": [
    "### Install chewc in Development mode"
   ]
  },
  {
   "cell_type": "markdown",
   "metadata": {},
   "source": [
    "```sh\n",
    "# make sure chewc package is installed in development mode\n",
    "$ pip install -e .\n",
    "\n",
    "# make changes under nbs/ directory\n",
    "# ...\n",
    "\n",
    "# compile to have changes apply to chewc\n",
    "$ nbdev_prepare\n",
    "```"
   ]
  },
  {
   "cell_type": "markdown",
   "metadata": {},
   "source": [
    "## Usage"
   ]
  },
  {
   "cell_type": "markdown",
   "metadata": {},
   "source": [
    "### Installation"
   ]
  },
  {
   "cell_type": "markdown",
   "metadata": {},
   "source": [
    "Install latest from the GitHub [repository][repo]:\n",
    "\n",
    "```sh\n",
    "$ pip install git+https://github.com/cjGO/chewc.git\n",
    "```\n",
    "\n",
    "\n",
    "[repo]: https://github.com/cjGO/chewc\n",
    "[docs]: https://cjGO.github.io/chewc/\n",
    "[pypi]: https://pypi.org/project/chewc/\n",
    "[conda]: https://anaconda.org/cjGO/chewc"
   ]
  },
  {
   "cell_type": "markdown",
   "metadata": {},
   "source": [
    "### Documentation"
   ]
  },
  {
   "cell_type": "markdown",
   "metadata": {},
   "source": [
    "Documentation can be found hosted on this GitHub [repository][repo]'s [pages][docs].\n",
    "\n",
    "[repo]: https://github.com/cjGO/chewc\n",
    "[docs]: https://cjGO.github.io/chewc/"
   ]
  },
  {
   "cell_type": "markdown",
   "metadata": {},
   "source": [
    "## How to use"
   ]
  },
  {
   "cell_type": "code",
   "execution_count": null,
   "metadata": {},
   "outputs": [
    {
     "name": "stdout",
     "output_type": "stream",
     "text": [
      "\n",
      "--- Starting Burn-in Phenotypic Selection (20 Generations) ---\n",
      "Generation  1/20 | Mean Phenotype: 1.1126\n",
      "Generation  2/20 | Mean Phenotype: 2.0168\n",
      "Generation  3/20 | Mean Phenotype: 2.6536\n",
      "Generation  4/20 | Mean Phenotype: 3.5688\n",
      "Generation  5/20 | Mean Phenotype: 4.5619\n",
      "Generation  6/20 | Mean Phenotype: 5.0159\n",
      "Generation  7/20 | Mean Phenotype: 5.5932\n",
      "Generation  8/20 | Mean Phenotype: 6.0638\n",
      "Generation  9/20 | Mean Phenotype: 6.1357\n",
      "Generation 10/20 | Mean Phenotype: 6.2606\n",
      "Generation 11/20 | Mean Phenotype: 6.3443\n",
      "Generation 12/20 | Mean Phenotype: 6.4400\n",
      "Generation 13/20 | Mean Phenotype: 6.5349\n",
      "Generation 14/20 | Mean Phenotype: 6.6008\n",
      "Generation 15/20 | Mean Phenotype: 6.6359\n",
      "Generation 16/20 | Mean Phenotype: 6.6355\n",
      "Generation 17/20 | Mean Phenotype: 6.6355\n",
      "Generation 18/20 | Mean Phenotype: 6.6355\n",
      "Generation 19/20 | Mean Phenotype: 6.6355\n",
      "Generation 20/20 | Mean Phenotype: 6.6355\n",
      "\n",
      "--- Burn-in Complete ---\n",
      "Final population state after 20 generations of selection:\n",
      "Population(nInd=100, nTraits=0, has_ebv=No)\n"
     ]
    }
   ],
   "source": [
    "import jax\n",
    "import jax.numpy as jnp\n",
    "from typing import Callable, Union\n",
    "\n",
    "# Import the necessary classes and functions from your library\n",
    "from chewc.sp import SimParam\n",
    "from chewc.population import Population, quick_haplo\n",
    "from chewc.trait import TraitCollection, add_trait_a\n",
    "from chewc.pheno import set_pheno\n",
    "from chewc.cross import make_cross\n",
    "from chewc.pipe import update_pop_values\n",
    "\n",
    "# --- 🧬 New High-Level Pipeline Functions ---\n",
    "\n",
    "def select_ind(\n",
    "    pop: Population,\n",
    "    n_ind: int,\n",
    "    use: Union[str, Callable[[Population], jnp.ndarray]] = \"pheno\",\n",
    "    select_top: bool = True\n",
    ") -> Population:\n",
    "    \"\"\"Selects the top or bottom individuals from a population.\"\"\"\n",
    "    if isinstance(use, str):\n",
    "        selection_values = getattr(pop, use)\n",
    "        if selection_values.ndim > 1:\n",
    "            selection_values = selection_values[:, 0]  # Default to first trait\n",
    "    else:\n",
    "        selection_values = use(pop)\n",
    "    \n",
    "    # Use JAX's efficient top-k selection for performance\n",
    "    if not select_top:\n",
    "        selection_values = -selection_values\n",
    "        \n",
    "    _, indices = jax.lax.top_k(selection_values, k=n_ind)\n",
    "    \n",
    "    # Apply slicing to all array attributes of the Population object\n",
    "    # NOTE: This requires that non-array fields (like misc dictionaries) are\n",
    "    # marked as static in the flax dataclass for tree_map to work correctly.\n",
    "    # For this example, we assume all fields are JAX arrays.\n",
    "    return jax.tree_util.tree_map(lambda x: x[indices] if isinstance(x, jnp.ndarray) else x, pop)\n",
    "\n",
    "def select_and_cross(\n",
    "    key: jax.random.PRNGKey,\n",
    "    pop: Population,\n",
    "    sp: SimParam,\n",
    "    n_parents: int,\n",
    "    n_crosses: int,\n",
    "    use: str = \"pheno\"\n",
    ") -> Population:\n",
    "    \"\"\"Selects parents and performs random crosses to create a new generation.\"\"\"\n",
    "    key_select, key_cross = jax.random.split(key)\n",
    "    \n",
    "    # 1. Select the best individuals to form the parent pool (sexes ignored)\n",
    "    parent_pool = select_ind(pop, n_parents, use=use)\n",
    "    \n",
    "    # 2. Generate a random cross plan from the selected parent pool\n",
    "    # Any parent can be a mother or a father\n",
    "    mother_iids = jax.random.choice(key_cross, parent_pool.iid, shape=(n_crosses,))\n",
    "    key_cross, _ = jax.random.split(key_cross) # Split key for next choice\n",
    "    father_iids = jax.random.choice(key_cross, parent_pool.iid, shape=(n_crosses,))\n",
    "    \n",
    "    cross_plan = jnp.stack([mother_iids, father_iids], axis=1)\n",
    "\n",
    "    # 3. Create progeny using the existing low-level function\n",
    "    progeny = make_cross(key_cross, pop, cross_plan, sp)\n",
    "    \n",
    "    return progeny\n",
    "\n",
    "# --- 1. JAX Setup ---\n",
    "key = jax.random.PRNGKey(42)\n",
    "\n",
    "# --- 2-6. (Setup code remains the same as before) ---\n",
    "# Define Genome Blueprint\n",
    "n_chr, n_loci_per_chr, ploidy = 3, 100, 2\n",
    "gen_map = jnp.array([jnp.linspace(0, 1, n_loci_per_chr) for _ in range(n_chr)])\n",
    "centromeres = jnp.full(n_chr, 0.5)\n",
    "\n",
    "# Instantiate SimParam\n",
    "SP = SimParam(gen_map=gen_map, centromere=centromeres, ploidy=ploidy)\n",
    "\n",
    "# Create Founder Population\n",
    "key, pop_key = jax.random.split(key)\n",
    "founder_pop = quick_haplo(key=pop_key, sim_param=SP, n_ind=100, inbred=False)\n",
    "SP = SP.replace(founderPop=founder_pop)\n",
    "\n",
    "# Add Single Additive Trait\n",
    "trait_mean = 0\n",
    "trait_var = 1\n",
    "trait_h2 = .2\n",
    "\n",
    "key, trait_key = jax.random.split(key)\n",
    "SP_with_trait = add_trait_a(\n",
    "    key=trait_key,\n",
    "    sim_param=SP,\n",
    "    n_qtl_per_chr=100,\n",
    "    mean=jnp.array([trait_mean]),\n",
    "    var=jnp.array([trait_var])\n",
    ")\n",
    "\n",
    "# Set Initial Phenotypes\n",
    "key, pheno_key = jax.random.split(key)\n",
    "h2 = jnp.array([trait_h2])\n",
    "founder_pop_with_pheno = set_pheno(\n",
    "    key=pheno_key,\n",
    "    pop=founder_pop,\n",
    "    traits=SP_with_trait.traits,\n",
    "    ploidy=SP_with_trait.ploidy,\n",
    "    h2=h2\n",
    ")\n",
    "\n",
    "# --- 8. Burn-in Selection for 20 Generations (Simplified Loop) ---\n",
    "print(\"\\n--- Starting Burn-in Phenotypic Selection (20 Generations) ---\")\n",
    "\n",
    "pop_burn_in = founder_pop_with_pheno\n",
    "sp_burn_in = SP_with_trait\n",
    "\n",
    "# Selection parameters\n",
    "n_parents_select = 5  # Total number of parents to select\n",
    "n_progeny = 100\n",
    "\n",
    "for gen in range(20):\n",
    "    key, cross_key, update_key = jax.random.split(key, 3)\n",
    "\n",
    "    # **SINGLE, HIGH-LEVEL CALL** to handle a full generation\n",
    "    progeny_pop = select_and_cross(\n",
    "        key=cross_key,\n",
    "        pop=pop_burn_in,\n",
    "        sp=sp_burn_in,\n",
    "        n_parents=n_parents_select,\n",
    "        n_crosses=n_progeny,\n",
    "        use=\"pheno\" # Select based on phenotype\n",
    "    )\n",
    "    \n",
    "    # Update genetic and phenotypic values for the new generation\n",
    "    pop_burn_in = update_pop_values(update_key, progeny_pop, sp_burn_in, h2=h2)\n",
    "\n",
    "    # Track Progress\n",
    "    mean_pheno = jnp.mean(pop_burn_in.pheno)\n",
    "    print(f\"Generation {gen + 1:2d}/{20} | Mean Phenotype: {mean_pheno:.4f}\")\n",
    "\n",
    "print(\"\\n--- Burn-in Complete ---\")\n",
    "print(\"Final population state after 20 generations of selection:\")\n",
    "print(pop_burn_in)"
   ]
  },
  {
   "cell_type": "code",
   "execution_count": null,
   "metadata": {},
   "outputs": [],
   "source": []
  }
 ],
 "metadata": {
  "kernelspec": {
   "display_name": "python3",
   "language": "python",
   "name": "python3"
  }
 },
 "nbformat": 4,
 "nbformat_minor": 4
}
