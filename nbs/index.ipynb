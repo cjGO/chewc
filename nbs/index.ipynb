{
 "cells": [
  {
   "cell_type": "code",
   "execution_count": null,
   "metadata": {},
   "outputs": [],
   "source": [
    "# | hide\n",
    "# from chewc.core import *\n",
    "# from chewc.pop import *\n",
    "# from chewc.sp import *\n",
    "# from chewc.trait import *"
   ]
  },
  {
   "cell_type": "markdown",
   "metadata": {},
   "source": [
    "# chewc\n",
    "\n",
    "> JAX breeding sim"
   ]
  },
  {
   "cell_type": "markdown",
   "metadata": {},
   "source": [
    "## Developer Guide"
   ]
  },
  {
   "cell_type": "markdown",
   "metadata": {},
   "source": [
    "If you are new to using `nbdev` here are some useful pointers to get you started."
   ]
  },
  {
   "cell_type": "markdown",
   "metadata": {},
   "source": [
    "### Install chewc in Development mode"
   ]
  },
  {
   "cell_type": "markdown",
   "metadata": {},
   "source": [
    "```sh\n",
    "# make sure chewc package is installed in development mode\n",
    "$ pip install -e .\n",
    "\n",
    "# make changes under nbs/ directory\n",
    "# ...\n",
    "\n",
    "# compile to have changes apply to chewc\n",
    "$ nbdev_prepare\n",
    "```"
   ]
  },
  {
   "cell_type": "markdown",
   "metadata": {},
   "source": [
    "## Usage"
   ]
  },
  {
   "cell_type": "markdown",
   "metadata": {},
   "source": [
    "### Installation"
   ]
  },
  {
   "cell_type": "markdown",
   "metadata": {},
   "source": [
    "Install latest from the GitHub [repository][repo]:\n",
    "\n",
    "```sh\n",
    "$ pip install git+https://github.com/cjGO/chewc.git\n",
    "```\n",
    "\n",
    "\n",
    "[repo]: https://github.com/cjGO/chewc\n",
    "[docs]: https://cjGO.github.io/chewc/\n",
    "[pypi]: https://pypi.org/project/chewc/\n",
    "[conda]: https://anaconda.org/cjGO/chewc"
   ]
  },
  {
   "cell_type": "markdown",
   "metadata": {},
   "source": [
    "### Documentation"
   ]
  },
  {
   "cell_type": "markdown",
   "metadata": {},
   "source": [
    "Documentation can be found hosted on this GitHub [repository][repo]'s [pages][docs].\n",
    "\n",
    "[repo]: https://github.com/cjGO/chewc\n",
    "[docs]: https://cjGO.github.io/chewc/"
   ]
  },
  {
   "cell_type": "markdown",
   "metadata": {},
   "source": [
    "## How to use"
   ]
  },
  {
   "cell_type": "code",
   "execution_count": null,
   "metadata": {},
   "outputs": [
    {
     "name": "stderr",
     "output_type": "stream",
     "text": [
      "WARNING:2025-07-19 12:53:52,707:jax._src.xla_bridge:794: An NVIDIA GPU may be present on this machine, but a CUDA-enabled jaxlib is not installed. Falling back to cpu.\n"
     ]
    },
    {
     "name": "stdout",
     "output_type": "stream",
     "text": [
      "\n",
      "--- Starting Burn-in Phenotypic Selection (10 Generations) ---\n",
      "Generation  1/10 | Mean Phenotype: 0.4342\n",
      "Generation  2/10 | Mean Phenotype: 2.2197\n",
      "Generation  3/10 | Mean Phenotype: 4.3989\n",
      "Generation  4/10 | Mean Phenotype: 4.8496\n",
      "Generation  5/10 | Mean Phenotype: 5.4339\n",
      "Generation  6/10 | Mean Phenotype: 5.7617\n",
      "Generation  7/10 | Mean Phenotype: 6.2489\n",
      "Generation  8/10 | Mean Phenotype: 6.4915\n",
      "Generation  9/10 | Mean Phenotype: 6.6994\n",
      "Generation 10/10 | Mean Phenotype: 6.8729\n",
      "\n",
      "--- Burn-in Complete ---\n",
      "Final population state after 10 generations of selection:\n",
      "Population(nInd=1000, nTraits=1, has_ebv=No)\n"
     ]
    }
   ],
   "source": [
    "import jax\n",
    "import jax.numpy as jnp\n",
    "from typing import Callable, Union\n",
    "\n",
    "# Import the necessary classes and functions from your library\n",
    "from chewc.sp import SimParam\n",
    "from chewc.population import Population, quick_haplo\n",
    "from chewc.trait import TraitCollection, add_trait_a\n",
    "from chewc.phenotype import set_pheno\n",
    "from chewc.cross import make_cross\n",
    "from chewc.pipe import update_pop_values, select_and_cross\n",
    "\n",
    "# --- 🧬 New High-Level Pipeline Functions ---\n",
    "\n",
    "\n",
    "\n",
    "\n",
    "# --- 1. JAX Setup ---\n",
    "key = jax.random.PRNGKey(42)\n",
    "\n",
    "# --- 2-6. (Setup code remains the same as before) ---\n",
    "# Define Genome Blueprint\n",
    "n_chr, n_loci_per_chr, ploidy = 3, 100, 2\n",
    "gen_map = jnp.array([jnp.linspace(0, 1, n_loci_per_chr) for _ in range(n_chr)])\n",
    "centromeres = jnp.full(n_chr, 0.5)\n",
    "\n",
    "# Instantiate SimParam\n",
    "SP = SimParam(gen_map=gen_map, centromere=centromeres, ploidy=ploidy)\n",
    "\n",
    "# Create Founder Population\n",
    "key, pop_key = jax.random.split(key)\n",
    "founder_pop = quick_haplo(key=pop_key, sim_param=SP, n_ind=100, inbred=False)\n",
    "SP = SP.replace(founderPop=founder_pop)\n",
    "\n",
    "# Add Single Additive Trait\n",
    "trait_mean = 0\n",
    "trait_var = 1\n",
    "trait_h2 = .1\n",
    "\n",
    "key, trait_key = jax.random.split(key)\n",
    "SP_with_trait = add_trait_a(\n",
    "    key=trait_key,\n",
    "    sim_param=SP,\n",
    "    n_qtl_per_chr=100,\n",
    "    mean=jnp.array([trait_mean]),\n",
    "    var=jnp.array([trait_var])\n",
    ")\n",
    "\n",
    "# Set Initial Phenotypes\n",
    "key, pheno_key = jax.random.split(key)\n",
    "h2 = jnp.array([trait_h2])\n",
    "founder_pop_with_pheno = set_pheno(\n",
    "    key=pheno_key,\n",
    "    pop=founder_pop,\n",
    "    traits=SP_with_trait.traits,\n",
    "    ploidy=SP_with_trait.ploidy,\n",
    "    h2=h2\n",
    ")\n",
    "\n",
    "\n",
    "pop_burn_in = founder_pop_with_pheno\n",
    "sp_burn_in = SP_with_trait\n",
    "\n",
    "# Selection parameters\n",
    "n_parents_select = 5  # Total number of parents to select\n",
    "n_progeny = 1000\n",
    "burn_in_generations = 10\n",
    "\n",
    "# --- 8. Burn-in Selection for 20 Generations (Simplified Loop) ---\n",
    "print(f\"\\n--- Starting Burn-in Phenotypic Selection ({burn_in_generations} Generations) ---\")\n",
    "\n",
    "for gen in range(burn_in_generations):\n",
    "    key, cross_key, update_key = jax.random.split(key, 3)\n",
    "\n",
    "    # **SINGLE, HIGH-LEVEL CALL** to handle a full generation\n",
    "    progeny_pop = select_and_cross(\n",
    "        key=cross_key,\n",
    "        pop=pop_burn_in,\n",
    "        sp=sp_burn_in,\n",
    "        n_parents=n_parents_select,\n",
    "        n_crosses=n_progeny,\n",
    "        use=\"pheno\" # Select based on phenotype\n",
    "    )\n",
    "    \n",
    "    # Update genetic and phenotypic values for the new generation\n",
    "    pop_burn_in = update_pop_values(update_key, progeny_pop, sp_burn_in, h2=h2)\n",
    "\n",
    "    # Track Progress\n",
    "    mean_pheno = jnp.mean(pop_burn_in.pheno)\n",
    "    print(f\"Generation {gen + 1:2d}/{burn_in_generations} | Mean Phenotype: {mean_pheno:.4f}\")\n",
    "\n",
    "print(\"\\n--- Burn-in Complete ---\")\n",
    "print(f\"Final population state after {burn_in_generations} generations of selection:\")\n",
    "print(pop_burn_in)"
   ]
  },
  {
   "cell_type": "code",
   "execution_count": null,
   "metadata": {},
   "outputs": [],
   "source": []
  }
 ],
 "metadata": {
  "kernelspec": {
   "display_name": "python3",
   "language": "python",
   "name": "python3"
  }
 },
 "nbformat": 4,
 "nbformat_minor": 4
}
