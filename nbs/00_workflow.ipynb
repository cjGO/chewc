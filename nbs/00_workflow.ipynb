{
 "cells": [
  {
   "cell_type": "code",
   "execution_count": 1,
   "id": "3cac6389",
   "metadata": {},
   "outputs": [],
   "source": [
    "#| default_exp workflow"
   ]
  },
  {
   "cell_type": "code",
   "execution_count": 2,
   "id": "c44eccfb",
   "metadata": {},
   "outputs": [],
   "source": [
    "#|export\n",
    "import jax\n",
    "import jax.numpy as jnp\n",
    "\n",
    "# Assuming 'chewc' is installed or in the python path\n",
    "from chewc.structs import quick_haplo, add_trait\n"
   ]
  },
  {
   "cell_type": "code",
   "execution_count": 3,
   "id": "aeba4055",
   "metadata": {},
   "outputs": [
    {
     "name": "stderr",
     "output_type": "stream",
     "text": [
      "WARNING:2025-10-04 01:14:17,358:jax._src.xla_bridge:794: An NVIDIA GPU may be present on this machine, but a CUDA-enabled jaxlib is not installed. Falling back to cpu.\n"
     ]
    },
    {
     "name": "stdout",
     "output_type": "stream",
     "text": [
      "--- Setting up and Verifying ChewC simulation scenario ---\n",
      "\n",
      "Increased scale: Simulating 2000 individuals.\n",
      "\n",
      "Step 1: Generating founder population...\n",
      "  - Population generated. Genotype shape: (2000, 10, 2, 1000)\n",
      "\n",
      "Step 2: Generating a two-trait architecture...\n",
      "  - Trait architecture created.\n",
      "\n",
      "Step 3: Calculating phenotypes for the founder population...\n",
      "  - Target heritabilities (h²): [0.4 0.7]\n",
      "  - Phenotypes and TBVs calculated.\n",
      "\n",
      "--- Verification Checks ---\n",
      "\n",
      "[Check 1: Heritability]\n",
      "  - Target h²:   [0.4 0.7]\n",
      "  - Realized h²: [0.39200002 0.666     ]\n",
      "\n",
      "[Check 2: Genetic Correlation]\n",
      "  - Target:   -0.300\n",
      "  - Realized: -0.329\n",
      "\n",
      "[Check 3: Phenotypic Correlation]\n",
      "  - Expected: -0.159\n",
      "  - Realized: -0.138\n",
      "\n",
      "--- Verification complete! ---\n"
     ]
    }
   ],
   "source": [
    "import jax\n",
    "import jax.numpy as jnp\n",
    "from chewc.structs import quick_haplo, add_trait\n",
    "from chewc.pheno import calculate_phenotypes\n",
    "\n",
    "def main():\n",
    "    \"\"\"\n",
    "    An example script to demonstrate and verify the setup of a \n",
    "    ChewC simulation scenario.\n",
    "    \"\"\"\n",
    "    print(\"--- Setting up and Verifying ChewC simulation scenario ---\")\n",
    "\n",
    "    # --- 1. Define Simulation Parameters (with increased scale) ---\n",
    "    n_individuals = 2000  # Increased from 50 for better statistical accuracy\n",
    "    n_chromosomes = 10\n",
    "    n_loci_per_chr = 1000\n",
    "    seed = 42\n",
    "    print(f\"\\nIncreased scale: Simulating {n_individuals} individuals.\")\n",
    "\n",
    "    # --- 2. Create JAX PRNG keys ---\n",
    "    key = jax.random.PRNGKey(seed)\n",
    "    pop_key, trait_key, pheno_key = jax.random.split(key, 3)\n",
    "\n",
    "    # --- 3. Generate Founder Population ---\n",
    "    print(f\"\\nStep 1: Generating founder population...\")\n",
    "    founder_pop, genetic_map = quick_haplo(\n",
    "        key=pop_key, n_ind=n_individuals, n_chr=n_chromosomes, seg_sites=n_loci_per_chr\n",
    "    )\n",
    "    print(f\"  - Population generated. Genotype shape: {founder_pop.geno.shape}\")\n",
    "\n",
    "    # --- 4. Generate Correlated Trait Architecture ---\n",
    "    print(\"\\nStep 2: Generating a two-trait architecture...\")\n",
    "    target_means = jnp.array([100.0, 50.0])\n",
    "    target_vars = jnp.array([10.0, 2.0])\n",
    "    target_genetic_corr = -0.3\n",
    "\n",
    "    cov = target_genetic_corr * jnp.sqrt(target_vars[0] * target_vars[1])\n",
    "    sigma = jnp.array([[target_vars[0], cov], [cov, target_vars[1]]])\n",
    "\n",
    "    trait_architecture = add_trait(\n",
    "        key=trait_key,\n",
    "        founder_pop=founder_pop,\n",
    "        n_qtl_per_chr=50,\n",
    "        mean=target_means,\n",
    "        var=target_vars,\n",
    "        sigma=sigma,\n",
    "    )\n",
    "    print(f\"  - Trait architecture created.\")\n",
    "\n",
    "    # --- 5. Calculate Phenotypes for the Founder Population ---\n",
    "    print(\"\\nStep 3: Calculating phenotypes for the founder population...\")\n",
    "    heritabilities = jnp.array([0.4, 0.7]) \n",
    "    print(f\"  - Target heritabilities (h²): {heritabilities}\")\n",
    "\n",
    "    phenotypes, tbvs = calculate_phenotypes(\n",
    "        key=pheno_key,\n",
    "        population=founder_pop,\n",
    "        trait=trait_architecture,\n",
    "        heritability=heritabilities\n",
    "    )\n",
    "    print(f\"  - Phenotypes and TBVs calculated.\")\n",
    "\n",
    "    # --- 6. Verification ---\n",
    "    print(\"\\n--- Verification Checks ---\")\n",
    "    \n",
    "    # Check 1: Realized Heritability (h² = V_a / V_p)\n",
    "    realized_h2 = jnp.var(tbvs, axis=0) / jnp.var(phenotypes, axis=0)\n",
    "    print(\"\\n[Check 1: Heritability]\")\n",
    "    print(f\"  - Target h²:   {heritabilities}\")\n",
    "    print(f\"  - Realized h²: {realized_h2.round(3)}\")\n",
    "\n",
    "    # Check 2: Genetic Correlation\n",
    "    realized_genetic_corr_matrix = jnp.corrcoef(tbvs, rowvar=False)\n",
    "    print(\"\\n[Check 2: Genetic Correlation]\")\n",
    "    print(f\"  - Target:   {target_genetic_corr:.3f}\")\n",
    "    print(f\"  - Realized: {realized_genetic_corr_matrix[0, 1]:.3f}\")\n",
    "\n",
    "    # Check 3: Phenotypic Correlation\n",
    "    # The expected phenotypic correlation is r_p = r_g * h_1 * h_2\n",
    "    h_1 = jnp.sqrt(heritabilities[0])\n",
    "    h_2 = jnp.sqrt(heritabilities[1])\n",
    "    expected_phenotypic_corr = target_genetic_corr * h_1 * h_2\n",
    "    realized_phenotypic_corr_matrix = jnp.corrcoef(phenotypes, rowvar=False)\n",
    "    print(\"\\n[Check 3: Phenotypic Correlation]\")\n",
    "    print(f\"  - Expected: {expected_phenotypic_corr:.3f}\")\n",
    "    print(f\"  - Realized: {realized_phenotypic_corr_matrix[0, 1]:.3f}\")\n",
    "\n",
    "    print(\"\\n--- Verification complete! ---\")\n",
    "\n",
    "\n",
    "if __name__ == \"__main__\":\n",
    "    main()\n"
   ]
  },
  {
   "cell_type": "code",
   "execution_count": 4,
   "id": "af484363",
   "metadata": {},
   "outputs": [
    {
     "name": "stderr",
     "output_type": "stream",
     "text": [
      "/home/glect/.local/lib/python3.10/site-packages/nbdev/export.py:88: UserWarning: Notebook '/mnt/c/Users/cltng/gdrive/chewc/nbs/03_meiosis.ipynb' uses `#|export` without `#|default_exp` cell.\n",
      "Note nbdev2 no longer supports nbdev1 syntax. Run `nbdev_migrate` to upgrade.\n",
      "See https://nbdev.fast.ai/getting_started.html for more information.\n",
      "  warn(f\"Notebook '{nbname}' uses `#|export` without `#|default_exp` cell.\\n\"\n",
      "/home/glect/.local/lib/python3.10/site-packages/nbdev/export.py:88: UserWarning: Notebook '/mnt/c/Users/cltng/gdrive/chewc/nbs/05_select.ipynb' uses `#|export` without `#|default_exp` cell.\n",
      "Note nbdev2 no longer supports nbdev1 syntax. Run `nbdev_migrate` to upgrade.\n",
      "See https://nbdev.fast.ai/getting_started.html for more information.\n",
      "  warn(f\"Notebook '{nbname}' uses `#|export` without `#|default_exp` cell.\\n\"\n",
      "/home/glect/.local/lib/python3.10/site-packages/nbdev/export.py:88: UserWarning: Notebook '/mnt/c/Users/cltng/gdrive/chewc/nbs/06_cross.ipynb' uses `#|export` without `#|default_exp` cell.\n",
      "Note nbdev2 no longer supports nbdev1 syntax. Run `nbdev_migrate` to upgrade.\n",
      "See https://nbdev.fast.ai/getting_started.html for more information.\n",
      "  warn(f\"Notebook '{nbname}' uses `#|export` without `#|default_exp` cell.\\n\"\n"
     ]
    }
   ],
   "source": [
    "#| hide\n",
    "import nbdev; nbdev.nbdev_export()"
   ]
  }
 ],
 "metadata": {
  "kernelspec": {
   "display_name": "Python 3",
   "language": "python",
   "name": "python3"
  },
  "language_info": {
   "codemirror_mode": {
    "name": "ipython",
    "version": 3
   },
   "file_extension": ".py",
   "mimetype": "text/x-python",
   "name": "python",
   "nbconvert_exporter": "python",
   "pygments_lexer": "ipython3",
   "version": "3.10.12"
  }
 },
 "nbformat": 4,
 "nbformat_minor": 5
}
