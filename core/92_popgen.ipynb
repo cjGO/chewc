{
 "cells": [
  {
   "cell_type": "code",
   "execution_count": 1,
   "id": "3cac6389",
   "metadata": {},
   "outputs": [],
   "source": [
    "#| default_exp popgen"
   ]
  },
  {
   "cell_type": "code",
   "execution_count": 2,
   "id": "556ece91",
   "metadata": {},
   "outputs": [],
   "source": [
    "#| export\n",
    "import jax\n",
    "import jax.numpy as jnp\n",
    "from typing import Tuple\n",
    "from chewc.config import StaticConfig, Population"
   ]
  },
  {
   "cell_type": "code",
   "execution_count": 3,
   "id": "a461a7ca",
   "metadata": {},
   "outputs": [],
   "source": [
    "#| export\n",
    "\n",
    "def create_founders(\n",
    "    key: jax.random.PRNGKey,\n",
    "    s_config: StaticConfig,\n",
    "    n_founders: int,\n",
    "    chr_length_cM: float = 100.0\n",
    ") -> Tuple[Population, jnp.ndarray, jnp.ndarray]:\n",
    "    \"\"\"\n",
    "    Creates a founder population and its corresponding genetic map.\n",
    "\n",
    "    Args:\n",
    "        key: A JAX PRNGKey.\n",
    "        s_config: The static configuration of the simulation.\n",
    "        n_founders: The number of founder individuals to create.\n",
    "        chr_length_cM: The length of each chromosome in centiMorgans.\n",
    "\n",
    "    Returns:\n",
    "        A tuple containing:\n",
    "        - population (Population): The founder population object.\n",
    "        - genetic_map (jnp.ndarray): The genetic map (distances between loci in Morgans).\n",
    "        - locus_positions (jnp.ndarray): The cumulative locus positions in Morgans.\n",
    "    \"\"\"\n",
    "    key_geno, key_map = jax.random.split(key)\n",
    "\n",
    "    # --- Genetic Map Creation ---\n",
    "    # Chromosome length in Morgans (1 cM = 0.01 M)\n",
    "    chr_length_M = chr_length_cM / 100.0\n",
    "\n",
    "    # 1. Generate random locus positions for each chromosome and sort them\n",
    "    locus_positions = jnp.sort(\n",
    "        jax.random.uniform(key_map, shape=(s_config.n_chr, s_config.n_loci_per_chr)) * chr_length_M,\n",
    "        axis=-1\n",
    "    )\n",
    "\n",
    "    # 2. The genetic map is the distance between adjacent loci\n",
    "    genetic_map = jnp.diff(locus_positions, prepend=0., axis=-1)\n",
    "\n",
    "    # --- Founder Genotype Creation ---\n",
    "    geno = jax.random.randint(\n",
    "        key_geno,\n",
    "        (n_founders, s_config.n_chr, s_config.ploidy, s_config.n_loci_per_chr),\n",
    "        0,\n",
    "        2,\n",
    "        dtype=jnp.int8,\n",
    "    )\n",
    "    ids = jnp.arange(n_founders, dtype=jnp.int32)[:, None]\n",
    "    parent_ids = jnp.full((n_founders, 2), -1, dtype=jnp.int32)\n",
    "    birth_gen = jnp.zeros((n_founders, 1), dtype=jnp.int32)\n",
    "    population = Population(geno=geno, meta=jnp.hstack([ids, parent_ids, birth_gen]))\n",
    "\n",
    "    return population, genetic_map, locus_positions\n"
   ]
  },
  {
   "cell_type": "markdown",
   "id": "320c9b42",
   "metadata": {},
   "source": []
  },
  {
   "cell_type": "code",
   "execution_count": 4,
   "id": "af484363",
   "metadata": {},
   "outputs": [],
   "source": [
    "#| hide\n",
    "import nbdev; nbdev.nbdev_export()"
   ]
  }
 ],
 "metadata": {
  "kernelspec": {
   "display_name": "Python 3",
   "language": "python",
   "name": "python3"
  },
  "language_info": {
   "codemirror_mode": {
    "name": "ipython",
    "version": 3
   },
   "file_extension": ".py",
   "mimetype": "text/x-python",
   "name": "python",
   "nbconvert_exporter": "python",
   "pygments_lexer": "ipython3",
   "version": "3.10.12"
  }
 },
 "nbformat": 4,
 "nbformat_minor": 5
}
