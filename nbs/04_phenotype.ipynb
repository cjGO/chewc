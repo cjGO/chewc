{
 "cells": [
  {
   "cell_type": "code",
   "execution_count": 7,
   "id": "3cac6389",
   "metadata": {},
   "outputs": [],
   "source": [
    "#| default_exp pheno"
   ]
  },
  {
   "cell_type": "code",
   "execution_count": 8,
   "id": "c44eccfb",
   "metadata": {},
   "outputs": [],
   "source": [
    "#| export\n",
    "import jax\n",
    "import jax.numpy as jnp\n",
    "from chewc.structs import Population, Trait\n",
    "from typing import Tuple\n",
    "\n",
    "# compute_dosage remains the same...\n",
    "@jax.jit\n",
    "def compute_dosage(population: Population) -> jnp.ndarray:\n",
    "    \"\"\"Computes allele dosage. Shape: (n_ind, n_chr, n_loci)\"\"\"\n",
    "    return jnp.sum(population.geno, axis=2)\n",
    "\n",
    "@jax.jit\n",
    "def calculate_phenotypes(\n",
    "    key: jax.Array,\n",
    "    population: Population,\n",
    "    trait: Trait,\n",
    "    heritability: jnp.ndarray  # Changed from float to jnp.ndarray\n",
    ") -> Tuple[jnp.ndarray, jnp.ndarray]:\n",
    "    \"\"\"\n",
    "    Calculates True Breeding Values (TBV) and Phenotypes for a given population.\n",
    "    This is a pure, JIT-compiled \"physics\" function.\n",
    "\n",
    "    Args:\n",
    "        key: A `jax.random.PRNGKey` for adding environmental noise.\n",
    "        population: The `Population` object to phenotype.\n",
    "        trait: The `Trait` object defining the genetic architecture.\n",
    "        heritability: The target narrow-sense heritabilities (h^2).\n",
    "            Shape must be (n_traits,).\n",
    "\n",
    "    Returns:\n",
    "        A tuple containing phenotypes and true_breeding_values.\n",
    "        Both arrays have the shape (n_individuals, n_traits).\n",
    "    \"\"\"\n",
    "    dosage = compute_dosage(population)\n",
    "    qtl_dosage = dosage[:, trait.qtl_chromosome, trait.qtl_position]\n",
    "    true_breeding_values = trait.intercept + qtl_dosage @ trait.qtl_effects\n",
    "    \n",
    "    additive_variance = jnp.var(true_breeding_values, axis=0)\n",
    "    \n",
    "    # Clip heritability per-trait to avoid division by zero\n",
    "    h2 = jnp.clip(heritability, a_min=1e-8, a_max=1.0 - 1e-8)\n",
    "    \n",
    "    # This calculation now works element-wise for each trait automatically!\n",
    "    environmental_variance = additive_variance * ((1 / h2) - 1)\n",
    "    environmental_variance = jnp.maximum(0.0, environmental_variance)\n",
    "\n",
    "    noise = jax.random.normal(key, true_breeding_values.shape)\n",
    "    environmental_effects = noise * jnp.sqrt(environmental_variance)\n",
    "    \n",
    "    phenotypes = true_breeding_values + environmental_effects\n",
    "    \n",
    "    return phenotypes, true_breeding_values\n"
   ]
  },
  {
   "cell_type": "code",
   "execution_count": 9,
   "id": "af484363",
   "metadata": {},
   "outputs": [],
   "source": [
    "#| hide\n",
    "import nbdev; nbdev.nbdev_export()"
   ]
  }
 ],
 "metadata": {
  "kernelspec": {
   "display_name": "Python 3",
   "language": "python",
   "name": "python3"
  },
  "language_info": {
   "codemirror_mode": {
    "name": "ipython",
    "version": 3
   },
   "file_extension": ".py",
   "mimetype": "text/x-python",
   "name": "python",
   "nbconvert_exporter": "python",
   "pygments_lexer": "ipython3",
   "version": "3.10.12"
  }
 },
 "nbformat": 4,
 "nbformat_minor": 5
}
