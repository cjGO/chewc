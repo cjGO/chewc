{
 "cells": [
  {
   "cell_type": "code",
   "execution_count": 5,
   "id": "3cac6389",
   "metadata": {},
   "outputs": [],
   "source": [
    "#| default_exp rollout"
   ]
  },
  {
   "cell_type": "markdown",
   "id": "320c9b42",
   "metadata": {},
   "source": []
  },
  {
   "cell_type": "code",
   "execution_count": 8,
   "id": "b35a5a82",
   "metadata": {},
   "outputs": [],
   "source": [
    "#| export\n",
    "# chewc/_src/sim/rollout.py\n",
    "from __future__ import annotations\n",
    "from functools import partial\n",
    "import jax, jax.numpy as jnp\n",
    "from jax import lax\n",
    "\n",
    "@partial(jax.jit, static_argnames=(\"config\",))\n",
    "def run_one(\n",
    "    state0,\n",
    "    sp,\n",
    "    config,\n",
    "    h2,                # (T,)\n",
    "    trait_effects,     # (n_chr, n_loci, T)\n",
    "):\n",
    "    from chewc.k_fused import generation_step\n",
    "    def body(st, _):\n",
    "        return generation_step(st, sp, config, h2, trait_effects)\n",
    "    stateT, metrics = lax.scan(body, state0, None, length=config.n_generations)\n",
    "    means = jnp.stack([m for m, _ in metrics]) if isinstance(metrics[0], tuple) else metrics\n",
    "    # Our metrics are (mean, var); unpack cleanly:\n",
    "    means = jnp.stack([m[0] for m in metrics])   # (G, T)\n",
    "    vars_ = jnp.stack([m[1] for m in metrics])   # (G, T)\n",
    "    return stateT, means, vars_\n",
    "\n",
    "@partial(jax.jit, static_argnames=(\"config\", \"n_reps\"))\n",
    "def run_replicates(\n",
    "    master_key,\n",
    "    founder_pop,\n",
    "    sp,\n",
    "    config,\n",
    "    h2,\n",
    "    trait_effects,\n",
    "    n_reps: int,\n",
    "):\n",
    "    from chewc.state import init_state_from_founders\n",
    "    def init_rep(r):\n",
    "        key_r = jax.random.fold_in(master_key, r)\n",
    "        return init_state_from_founders(key_r, founder_pop, sp, config)\n",
    "    def run_r(r):\n",
    "        st0 = init_rep(r)\n",
    "        return run_one(st0, sp, config, h2, trait_effects)\n",
    "    reps = jnp.arange(n_reps)\n",
    "    stateTs, all_means, all_vars = jax.vmap(run_r, in_axes=(0,))(reps)\n",
    "    return stateTs, all_means, all_vars\n"
   ]
  },
  {
   "cell_type": "code",
   "execution_count": 9,
   "id": "af484363",
   "metadata": {},
   "outputs": [],
   "source": [
    "#| hide\n",
    "import nbdev; nbdev.nbdev_export()"
   ]
  },
  {
   "cell_type": "code",
   "execution_count": null,
   "id": "a4dcd06c",
   "metadata": {},
   "outputs": [],
   "source": []
  }
 ],
 "metadata": {
  "kernelspec": {
   "display_name": "Python 3",
   "language": "python",
   "name": "python3"
  },
  "language_info": {
   "codemirror_mode": {
    "name": "ipython",
    "version": 3
   },
   "file_extension": ".py",
   "mimetype": "text/x-python",
   "name": "python",
   "nbconvert_exporter": "python",
   "pygments_lexer": "ipython3",
   "version": "3.10.12"
  }
 },
 "nbformat": 4,
 "nbformat_minor": 5
}
