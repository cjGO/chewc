{
 "cells": [
  {
   "cell_type": "code",
   "execution_count": null,
   "metadata": {},
   "outputs": [],
   "source": [
    "# | hide\n",
    "# from chewc.core import *\n",
    "# from chewc.pop import *\n",
    "# from chewc.sp import *\n",
    "# from chewc.trait import *"
   ]
  },
  {
   "cell_type": "markdown",
   "metadata": {},
   "source": [
    "# chewc\n",
    "\n",
    "> JAX breeding sim"
   ]
  },
  {
   "cell_type": "markdown",
   "metadata": {},
   "source": [
    "## Developer Guide"
   ]
  },
  {
   "cell_type": "markdown",
   "metadata": {},
   "source": [
    "If you are new to using `nbdev` here are some useful pointers to get you started."
   ]
  },
  {
   "cell_type": "markdown",
   "metadata": {},
   "source": [
    "### Install chewc in Development mode"
   ]
  },
  {
   "cell_type": "markdown",
   "metadata": {},
   "source": [
    "```sh\n",
    "# make sure chewc package is installed in development mode\n",
    "$ pip install -e .\n",
    "\n",
    "# make changes under nbs/ directory\n",
    "# ...\n",
    "\n",
    "# compile to have changes apply to chewc\n",
    "$ nbdev_prepare\n",
    "```"
   ]
  },
  {
   "cell_type": "markdown",
   "metadata": {},
   "source": [
    "## Usage"
   ]
  },
  {
   "cell_type": "markdown",
   "metadata": {},
   "source": [
    "### Installation"
   ]
  },
  {
   "cell_type": "markdown",
   "metadata": {},
   "source": [
    "Install latest from the GitHub [repository][repo]:\n",
    "\n",
    "```sh\n",
    "$ pip install git+https://github.com/cjGO/chewc.git\n",
    "```\n",
    "\n",
    "\n",
    "[repo]: https://github.com/cjGO/chewc\n",
    "[docs]: https://cjGO.github.io/chewc/\n",
    "[pypi]: https://pypi.org/project/chewc/\n",
    "[conda]: https://anaconda.org/cjGO/chewc"
   ]
  },
  {
   "cell_type": "markdown",
   "metadata": {},
   "source": [
    "### Documentation"
   ]
  },
  {
   "cell_type": "markdown",
   "metadata": {},
   "source": [
    "Documentation can be found hosted on this GitHub [repository][repo]'s [pages][docs].\n",
    "\n",
    "[repo]: https://github.com/cjGO/chewc\n",
    "[docs]: https://cjGO.github.io/chewc/"
   ]
  },
  {
   "cell_type": "markdown",
   "metadata": {},
   "source": [
    "### Multi trait simulation example\n",
    "\n",
    "This code block sets up the simulation parameters, creates a founder population in linkage equilbrium across loci, and simulates 2 correlated traits.\n",
    "\n",
    "Then a single generation is simulated from the founder population and ABLUP and GBLUP models are fitted for the offspring.\n",
    "\n",
    "Both the breeding simulation and prediction models are running on JAX."
   ]
  },
  {
   "cell_type": "markdown",
   "metadata": {},
   "source": [
    "## How to use"
   ]
  },
  {
   "cell_type": "code",
   "execution_count": null,
   "metadata": {},
   "outputs": [
    {
     "name": "stdout",
     "output_type": "stream",
     "text": [
      "--- Step 1-4: Simulating population and multi-trait phenotypes ---\n",
      "--- Population simulation complete ---\n",
      "\n",
      "--- Performing Multi-Trait ABLUP (Sparse Iterative) ---\n",
      "[DEBUG] Sparse A_inv successfully created with 1406 non-zero elements.\n",
      "[DEBUG] First 5 data points of A_inv: [1. 1. 1. 1. 1.]\n",
      "ABLUP calculation complete.\n",
      "\n",
      "--- Performing Multi-Trait GBLUP (Iterative) ---\n",
      "GBLUP calculation complete.\n",
      "\n",
      "--- Comparison of Results for Offspring ---\n",
      "\n",
      "ABLUP Accuracy -> Trait 1: 0.7611, Trait 2: 0.5660\n",
      "GBLUP Accuracy -> Trait 1: 0.8045, Trait 2: 0.5809\n",
      "Note: both traits have the same heritabilities; but trait 2 has strong dominance effects, lowering accuracy\n",
      "\n",
      "ID     |       TBV T1       TBV T2 |     ABLUP T1     ABLUP T2 |     GBLUP T1     GBLUP T2\n",
      "----------------------------------------------------------------------------------------\n",
      "200    |        0.847        1.461 |        0.322        1.116 |       -0.352        0.364\n",
      "201    |        1.682        2.124 |        0.722        0.735 |        0.215        0.453\n",
      "202    |        2.488        1.058 |        1.688        1.321 |        1.163        1.017\n",
      "203    |        2.594        1.706 |        0.780       -0.772 |        0.553       -1.136\n",
      "204    |        2.269        0.813 |        1.850        1.366 |        1.186        1.020\n",
      "205    |        2.632        1.291 |        1.492        1.700 |        0.939        0.960\n",
      "206    |        2.682        2.317 |        1.919        2.742 |        1.315        2.362\n",
      "207    |        3.482        2.645 |        2.379        3.829 |        1.891        3.462\n",
      "208    |        1.728        1.467 |        0.913        0.271 |        0.322       -0.260\n",
      "209    |        2.602        2.125 |        0.888        0.409 |        0.511        0.211\n"
     ]
    }
   ],
   "source": [
    "import jax\n",
    "import jax.numpy as jnp\n",
    "import numpy as np\n",
    "from functools import partial\n",
    "from typing import Tuple\n",
    "from scipy.sparse import coo_matrix\n",
    "\n",
    "# JAX's iterative solver and sparse matrix format\n",
    "from jax.scipy.sparse.linalg import cg\n",
    "import jax.experimental.sparse as jsparse\n",
    "\n",
    "# Assume the 'chewc' library is installed\n",
    "from chewc.structs import (\n",
    "    Population,\n",
    "    Trait,\n",
    "    GeneticMap,\n",
    "    quick_haplo,\n",
    "    add_trait\n",
    ")\n",
    "from chewc.pheno import calculate_phenotypes\n",
    "from chewc.select import select_top_k\n",
    "from chewc.cross import random_mating, cross_pair\n",
    "from chewc.blup import *\n",
    "\n",
    "\n",
    "if __name__ == \"__main__\":\n",
    "    # --- Parameters ---\n",
    "    N_FOUNDERS, N_SELECT, N_OFFSPRING = 200, 20, 200\n",
    "    N_CHR, N_LOCI = 5, 1000\n",
    "    SEED = 42\n",
    "    N_TRAITS = 2\n",
    "    h2_trait1, h2_trait2 = 0.5, 0.5\n",
    "    genetic_corr = 0.5\n",
    "    \n",
    "    # --- Setup (Co)variance matrices ---\n",
    "    var_g1, var_g2 = h2_trait1, h2_trait2\n",
    "    cov_g12 = genetic_corr * jnp.sqrt(var_g1 * var_g2)\n",
    "    G0 = jnp.array([[var_g1, cov_g12], [cov_g12, var_g2]])\n",
    "    \n",
    "    var_e1, var_e2 = 1 - h2_trait1, 1 - h2_trait2\n",
    "    R0 = jnp.diag(jnp.array([var_e1, var_e2]))\n",
    "    \n",
    "    G0_inv, R0_inv = jnp.linalg.inv(G0), jnp.linalg.inv(R0)\n",
    "\n",
    "    # --- Population Simulation ---\n",
    "    print(\"--- Step 1-4: Simulating population and multi-trait phenotypes ---\")\n",
    "    key = jax.random.PRNGKey(SEED)\n",
    "    key, pop_key, trait_key, pheno_key, mating_key, cross_key = jax.random.split(key, 6)\n",
    "    \n",
    "    founder_pop, genetic_map = quick_haplo(key=pop_key, n_ind=N_FOUNDERS, n_chr=N_CHR, seg_sites=N_LOCI)\n",
    "    \n",
    "    trait_architecture = add_trait(\n",
    "        key=trait_key, founder_pop=founder_pop, n_qtl_per_chr=50,\n",
    "        mean=jnp.array([100.0, 50.0]), var_a=jnp.array([var_g1, var_g2]), var_d=jnp.array([0.0, 3.0]), sigma=G0\n",
    "    )\n",
    "    \n",
    "    founder_phenotypes, founder_tbvs = calculate_phenotypes(\n",
    "        key=pheno_key, population=founder_pop, trait=trait_architecture,\n",
    "        heritability=jnp.array([h2_trait1, h2_trait2])\n",
    "    )\n",
    "    \n",
    "    selected_parents = select_top_k(founder_pop, founder_phenotypes[:, 0], k=N_SELECT)\n",
    "    pairings = random_mating(mating_key, n_parents=N_SELECT, n_crosses=N_OFFSPRING)\n",
    "    \n",
    "    vmapped_cross = jax.vmap(cross_pair, in_axes=(0, 0, 0, 0, 0, None, None))\n",
    "    offspring_keys = jax.random.split(cross_key, N_OFFSPRING)\n",
    "    offspring_geno, offspring_ibd = vmapped_cross(\n",
    "        offspring_keys, selected_parents.geno[pairings[:, 0]], selected_parents.geno[pairings[:, 1]],\n",
    "        selected_parents.ibd[pairings[:, 0]], selected_parents.ibd[pairings[:, 1]],\n",
    "        genetic_map, 10\n",
    "    )\n",
    "    \n",
    "    new_meta = jnp.stack([\n",
    "        jnp.arange(N_OFFSPRING) + N_FOUNDERS,\n",
    "        selected_parents.meta[pairings[:, 0], 0],\n",
    "        selected_parents.meta[pairings[:, 1], 0],\n",
    "        jnp.full((N_OFFSPRING,), 1),\n",
    "    ], axis=-1)\n",
    "    offspring_pop = Population(geno=offspring_geno, ibd=offspring_ibd, meta=new_meta)\n",
    "    \n",
    "    key, offspring_pheno_key = jax.random.split(key)\n",
    "    offspring_phenotypes, offspring_tbvs = calculate_phenotypes(\n",
    "        key=offspring_pheno_key, population=offspring_pop, trait=trait_architecture,\n",
    "        heritability=jnp.array([h2_trait1, h2_trait2])\n",
    "    )\n",
    "    \n",
    "    all_phenotypes = jnp.concatenate([founder_phenotypes, offspring_phenotypes], axis=0)\n",
    "    print(\"--- Population simulation complete ---\")\n",
    "\n",
    "    # --- ABLUP (Sparse, Iterative) ---\n",
    "    print(\"\\n--- Performing Multi-Trait ABLUP (Sparse Iterative) ---\")\n",
    "    full_pedigree = jnp.concatenate([founder_pop.meta, offspring_pop.meta], axis=0)\n",
    "    remapped_ped_np = remap_pedigree(full_pedigree)\n",
    "    \n",
    "    A_inv_sparse = build_a_inverse_sparse(remapped_ped_np)\n",
    "    ablup_ebvs = solve_multi_trait_mme_iterative(\n",
    "        all_phenotypes, A_inv_sparse, G0_inv, R0_inv, n_traits=N_TRAITS\n",
    "    )\n",
    "    print(\"ABLUP calculation complete.\")\n",
    "    \n",
    "    # --- GBLUP (Iterative) ---\n",
    "    print(\"\\n--- Performing Multi-Trait GBLUP (Iterative) ---\")\n",
    "    all_geno = jnp.concatenate([founder_pop.geno, offspring_pop.geno], axis=0)\n",
    "    G_matrix = build_g_matrix(all_geno)\n",
    "    G_inv = jnp.linalg.inv(G_matrix + jnp.identity(G_matrix.shape[0]) * 1e-4)\n",
    "    \n",
    "    gblup_gebvs = solve_multi_trait_mme_iterative(\n",
    "        all_phenotypes, G_inv, G0_inv, R0_inv, n_traits=N_TRAITS\n",
    "    )\n",
    "    print(\"GBLUP calculation complete.\")\n",
    "\n",
    "    # --- Compare Results ---\n",
    "    print(\"\\n--- Comparison of Results for Offspring ---\")\n",
    "    offspring_ablup = ablup_ebvs[N_FOUNDERS:]\n",
    "    offspring_gblup = gblup_gebvs[N_FOUNDERS:]\n",
    "\n",
    "    acc_ablup_t1 = jnp.corrcoef(offspring_tbvs[:, 0], offspring_ablup[:, 0])[0, 1]\n",
    "    acc_ablup_t2 = jnp.corrcoef(offspring_tbvs[:, 1], offspring_ablup[:, 1])[0, 1]\n",
    "    acc_gblup_t1 = jnp.corrcoef(offspring_tbvs[:, 0], offspring_gblup[:, 0])[0, 1]\n",
    "    acc_gblup_t2 = jnp.corrcoef(offspring_tbvs[:, 1], offspring_gblup[:, 1])[0, 1]\n",
    "\n",
    "    print(f\"\\nABLUP Accuracy -> Trait 1: {acc_ablup_t1:.4f}, Trait 2: {acc_ablup_t2:.4f}\")\n",
    "    print(f\"GBLUP Accuracy -> Trait 1: {acc_gblup_t1:.4f}, Trait 2: {acc_gblup_t2:.4f}\")\n",
    "    print('Note: both traits have the same heritabilities; but trait 2 has strong dominance effects, lowering accuracy')\n",
    "\n",
    "    print(\"\\n{:<6} | {:>12} {:>12} | {:>12} {:>12} | {:>12} {:>12}\".format(\n",
    "        \"ID\", \"TBV T1\", \"TBV T2\", \"ABLUP T1\", \"ABLUP T2\", \"GBLUP T1\", \"GBLUP T2\"))\n",
    "    print(\"-\" * 88)\n",
    "    for i in range(10):\n",
    "        print(\"{:<6} | {:>12.3f} {:>12.3f} | {:>12.3f} {:>12.3f} | {:>12.3f} {:>12.3f}\".format(\n",
    "            int(offspring_pop.meta[i, 0]),\n",
    "            offspring_tbvs[i, 0], offspring_tbvs[i, 1],\n",
    "            offspring_ablup[i, 0], offspring_ablup[i, 1],\n",
    "            offspring_gblup[i, 0], offspring_gblup[i, 1]\n",
    "        ))"
   ]
  },
  {
   "cell_type": "code",
   "execution_count": null,
   "metadata": {},
   "outputs": [],
   "source": []
  }
 ],
 "metadata": {
  "kernelspec": {
   "display_name": "python3",
   "language": "python",
   "name": "python3"
  }
 },
 "nbformat": 4,
 "nbformat_minor": 4
}
