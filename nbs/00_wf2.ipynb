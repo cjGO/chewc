{
 "cells": [
  {
   "cell_type": "code",
   "execution_count": 1,
   "id": "76479d9c",
   "metadata": {},
   "outputs": [],
   "source": [
    "#| default_exp wf2"
   ]
  },
  {
   "cell_type": "markdown",
   "id": "f4a1ecfb",
   "metadata": {},
   "source": [
    "# Wright–Fisher v2 Setup\n",
    "\n",
    "A compact playground for building a Wright–Fisher style breeding workflow. We start from msprime founders, layer on a single additive trait, and confirm that phenotypes behave as expected."
   ]
  },
  {
   "cell_type": "markdown",
   "id": "cce1c3df",
   "metadata": {},
   "source": [
    "We will:\n",
    "- simulate a founder population with `msprime_pop` to get realistic haplotypes and a genetic map.\n",
    "- sample an additive-only trait architecture scaled to a target additive variance.\n",
    "- draw noisy phenotypes at a chosen heritability so the pipeline is ready for downstream selection experiments."
   ]
  },
  {
   "cell_type": "code",
   "execution_count": 2,
   "id": "c1b1aef0",
   "metadata": {},
   "outputs": [
    {
     "name": "stderr",
     "output_type": "stream",
     "text": [
      "/home/glect/.local/lib/python3.10/site-packages/matplotlib/projections/__init__.py:63: UserWarning: Unable to import Axes3D. This may be due to multiple versions of Matplotlib being installed (e.g. as a system package and as a pip package). As a result, the 3D projection is not available.\n",
      "  warnings.warn(\"Unable to import Axes3D. This may be due to multiple versions of \"\n"
     ]
    }
   ],
   "source": [
    "import jax\n",
    "import jax.numpy as jnp\n",
    "import numpy as np\n",
    "from numpy.random import default_rng\n",
    "import msprime\n",
    "import pandas as pd\n",
    "import matplotlib.pyplot as plt\n",
    "\n",
    "from typing import Optional, Tuple\n",
    "from IPython.display import display\n",
    "\n",
    "from chewc.structs import Population, GeneticMap, add_trait\n",
    "from chewc.pheno import calculate_phenotypes\n",
    "\n",
    "plt.style.use('seaborn-v0_8')"
   ]
  },
  {
   "cell_type": "code",
   "execution_count": 3,
   "id": "da27e3d5",
   "metadata": {},
   "outputs": [],
   "source": [
    "#| export\n",
    "def msprime_pop(\n",
    "    key: jax.Array,\n",
    "    n_ind: int,\n",
    "    n_chr: int,\n",
    "    n_loci_per_chr: int,\n",
    "    ploidy: int = 2,\n",
    "    effective_population_size: int = 5_000,\n",
    "    mutation_rate: float = 1e-7,\n",
    "    recombination_rate_per_chr: float = 1e-8,\n",
    "    maf_threshold: float = 0.05,\n",
    "    base_chr_length: int = 500_000,\n",
    "    num_simulated_individuals: Optional[int] = None,\n",
    "    enforce_founder_maf: bool = True,\n",
    ") -> Tuple[Population, GeneticMap]:\n",
    "    \"\"\"Simulate a padded founder population from an msprime ancestry model.\n",
    "\n",
    "    The output matches the lightweight `Population`/`GeneticMap` structures used by the\n",
    "    workflow notebooks so it can plug straight into trait sampling, phenotype simulation,\n",
    "    and selection routines.\n",
    "    \"\"\"\n",
    "    if n_ind <= 0:\n",
    "        raise ValueError('n_ind must be positive.')\n",
    "    if n_chr <= 0:\n",
    "        raise ValueError('n_chr must be positive.')\n",
    "    if n_loci_per_chr <= 0:\n",
    "        raise ValueError('n_loci_per_chr must be positive.')\n",
    "\n",
    "    if num_simulated_individuals is None:\n",
    "        multiplier = 5 if enforce_founder_maf else 2\n",
    "        num_simulated_individuals = max(n_ind * multiplier, 2 * n_ind)\n",
    "    if num_simulated_individuals < n_ind:\n",
    "        raise ValueError('num_simulated_individuals must be >= n_ind.')\n",
    "\n",
    "    key, seed_key, numpy_seed_key = jax.random.split(key, 3)\n",
    "    random_seed = int(jax.random.randint(seed_key, (), 0, 2**31 - 1).item())\n",
    "    numpy_seed = int(jax.random.randint(numpy_seed_key, (), 0, 2**31 - 1).item())\n",
    "    rng = default_rng(numpy_seed)\n",
    "\n",
    "    chromosome_lengths = [base_chr_length] * n_chr\n",
    "    cumulative = np.cumsum([0] + chromosome_lengths)\n",
    "    rate_map = msprime.RateMap(\n",
    "        position=cumulative,\n",
    "        rate=[recombination_rate_per_chr] * n_chr,\n",
    "    )\n",
    "\n",
    "    ts = msprime.sim_ancestry(\n",
    "        samples=num_simulated_individuals * ploidy,\n",
    "        population_size=effective_population_size,\n",
    "        recombination_rate=rate_map,\n",
    "        random_seed=random_seed,\n",
    "    )\n",
    "    mts = msprime.sim_mutations(ts, rate=mutation_rate, random_seed=random_seed + 1)\n",
    "\n",
    "    true_num_individuals = mts.num_samples // ploidy\n",
    "    founder_indices = np.sort(rng.choice(true_num_individuals, n_ind, replace=False))\n",
    "\n",
    "    geno = np.zeros((n_ind, n_chr, ploidy, n_loci_per_chr), dtype=np.uint8)\n",
    "    locus_positions = []\n",
    "    chr_lengths_cm = []\n",
    "\n",
    "    all_variants = list(mts.variants())\n",
    "\n",
    "    for chr_idx in range(n_chr):\n",
    "        chr_left, chr_right = rate_map.left[chr_idx], rate_map.right[chr_idx]\n",
    "        chr_variants = [\n",
    "            var for var in all_variants\n",
    "            if chr_left <= var.site.position < chr_right and len(var.alleles) == 2\n",
    "        ]\n",
    "\n",
    "        if not chr_variants:\n",
    "            raise RuntimeError(f'No bi-allelic SNPs found on chromosome {chr_idx}.')\n",
    "\n",
    "        def maf_in_founders(var):\n",
    "            g = var.genotypes.reshape(true_num_individuals, ploidy)\n",
    "            founder_g = g[founder_indices]\n",
    "            p = founder_g.mean()\n",
    "            return min(p, 1 - p)\n",
    "\n",
    "        if enforce_founder_maf:\n",
    "            eligible = [var for var in chr_variants if maf_in_founders(var) >= maf_threshold]\n",
    "        else:\n",
    "            eligible = [var for var in chr_variants if maf_in_founders(var) > 0]\n",
    "\n",
    "        if len(eligible) < n_loci_per_chr:\n",
    "            raise RuntimeError(\n",
    "                f'Only {len(eligible)} SNPs passed the MAF filter on chromosome {chr_idx}; '\n",
    "                'consider lowering maf_threshold or increasing the mutation rate.'\n",
    "            )\n",
    "\n",
    "        selected_idx = rng.choice(len(eligible), n_loci_per_chr, replace=False)\n",
    "        selected = [eligible[i] for i in selected_idx]\n",
    "        selected.sort(key=lambda v: v.site.position)\n",
    "\n",
    "        chr_positions = []\n",
    "        for snp_pos, snp in enumerate(selected):\n",
    "            genotypes = snp.genotypes.reshape(true_num_individuals, ploidy)\n",
    "            founder_genotypes = genotypes[founder_indices]\n",
    "            geno[:, chr_idx, :, snp_pos] = founder_genotypes\n",
    "\n",
    "            pos_cm = (snp.site.position - chr_left) * recombination_rate_per_chr * 100.0\n",
    "            chr_positions.append(pos_cm)\n",
    "\n",
    "        locus_positions.append(jnp.array(chr_positions, dtype=jnp.float32))\n",
    "        chr_lengths_cm.append(chr_positions[-1] if chr_positions else 0.0)\n",
    "\n",
    "    ibd = np.arange(n_ind * n_chr * ploidy * n_loci_per_chr, dtype=np.int32)\n",
    "    ibd = ibd.reshape(n_ind, n_chr, ploidy, n_loci_per_chr)\n",
    "\n",
    "    meta = np.stack([\n",
    "        np.arange(n_ind, dtype=np.int32),\n",
    "        np.full(n_ind, -1, dtype=np.int32),\n",
    "        np.full(n_ind, -1, dtype=np.int32),\n",
    "        np.zeros(n_ind, dtype=np.int32),\n",
    "    ], axis=-1)\n",
    "\n",
    "    population = Population(\n",
    "        geno=jnp.array(geno, dtype=jnp.uint8),\n",
    "        ibd=jnp.array(ibd, dtype=jnp.int32),\n",
    "        meta=jnp.array(meta, dtype=jnp.int32),\n",
    "    )\n",
    "\n",
    "    chromosome_lengths_cm = jnp.array(chr_lengths_cm, dtype=jnp.float32)\n",
    "    genetic_map = GeneticMap(\n",
    "        chromosome_lengths=chromosome_lengths_cm,\n",
    "        locus_positions=locus_positions,\n",
    "    )\n",
    "\n",
    "    return population, genetic_map"
   ]
  },
  {
   "cell_type": "code",
   "execution_count": 4,
   "id": "234625ad",
   "metadata": {},
   "outputs": [
    {
     "name": "stderr",
     "output_type": "stream",
     "text": [
      "WARNING:2025-10-23 15:49:57,995:jax._src.xla_bridge:794: An NVIDIA GPU may be present on this machine, but a CUDA-enabled jaxlib is not installed. Falling back to cpu.\n"
     ]
    },
    {
     "name": "stdout",
     "output_type": "stream",
     "text": [
      "Founder genotype array shape: (48, 3, 2, 40)\n",
      "Mean allele dosage across founders: 0.62\n"
     ]
    }
   ],
   "source": [
    "master_key = jax.random.PRNGKey(2024)\n",
    "pop_key, trait_key, pheno_key = jax.random.split(master_key, 3)\n",
    "\n",
    "founder_config = dict(\n",
    "    n_ind=48,\n",
    "    n_chr=3,\n",
    "    n_loci_per_chr=40,\n",
    "    mutation_rate=1e-7,\n",
    "    recombination_rate_per_chr=1e-8,\n",
    "    base_chr_length=500_000,\n",
    "    effective_population_size=5_000,\n",
    "    num_simulated_individuals=800,\n",
    "    maf_threshold=0.05,\n",
    ")\n",
    "\n",
    "founder_pop, genetic_map = msprime_pop(pop_key, **founder_config)\n",
    "\n",
    "print(f'Founder genotype array shape: {founder_pop.geno.shape}')\n",
    "allele_counts = founder_pop.geno.sum(axis=2).reshape(founder_pop.geno.shape[0], -1)\n",
    "print(f'Mean allele dosage across founders: {float(allele_counts.mean()):.2f}')"
   ]
  },
  {
   "cell_type": "code",
   "execution_count": 5,
   "id": "74d141bc",
   "metadata": {},
   "outputs": [
    {
     "data": {
      "text/html": [
       "<div>\n",
       "<style scoped>\n",
       "    .dataframe tbody tr th:only-of-type {\n",
       "        vertical-align: middle;\n",
       "    }\n",
       "\n",
       "    .dataframe tbody tr th {\n",
       "        vertical-align: top;\n",
       "    }\n",
       "\n",
       "    .dataframe thead th {\n",
       "        text-align: right;\n",
       "    }\n",
       "</style>\n",
       "<table border=\"1\" class=\"dataframe\">\n",
       "  <thead>\n",
       "    <tr style=\"text-align: right;\">\n",
       "      <th></th>\n",
       "      <th>min</th>\n",
       "      <th>max</th>\n",
       "      <th>count</th>\n",
       "    </tr>\n",
       "    <tr>\n",
       "      <th>chromosome</th>\n",
       "      <th></th>\n",
       "      <th></th>\n",
       "      <th></th>\n",
       "    </tr>\n",
       "  </thead>\n",
       "  <tbody>\n",
       "    <tr>\n",
       "      <th>0</th>\n",
       "      <td>0.008855</td>\n",
       "      <td>0.490694</td>\n",
       "      <td>40</td>\n",
       "    </tr>\n",
       "    <tr>\n",
       "      <th>1</th>\n",
       "      <td>0.022942</td>\n",
       "      <td>0.481344</td>\n",
       "      <td>40</td>\n",
       "    </tr>\n",
       "    <tr>\n",
       "      <th>2</th>\n",
       "      <td>0.008968</td>\n",
       "      <td>0.499258</td>\n",
       "      <td>40</td>\n",
       "    </tr>\n",
       "  </tbody>\n",
       "</table>\n",
       "</div>"
      ],
      "text/plain": [
       "                 min       max  count\n",
       "chromosome                           \n",
       "0           0.008855  0.490694     40\n",
       "1           0.022942  0.481344     40\n",
       "2           0.008968  0.499258     40"
      ]
     },
     "metadata": {},
     "output_type": "display_data"
    }
   ],
   "source": [
    "map_summary = pd.DataFrame({\n",
    "    'chromosome': np.repeat(np.arange(founder_config['n_chr']), founder_config['n_loci_per_chr']),\n",
    "    'position_cM': np.concatenate([np.asarray(pos) for pos in genetic_map.locus_positions]),\n",
    "})\n",
    "\n",
    "display(map_summary.groupby('chromosome')['position_cM'].agg(['min', 'max', 'count']))"
   ]
  },
  {
   "cell_type": "code",
   "execution_count": 6,
   "id": "2d4ceea7",
   "metadata": {},
   "outputs": [
    {
     "name": "stdout",
     "output_type": "stream",
     "text": [
      "Total QTL sampled: 18\n",
      "Trait intercept: 0.173\n"
     ]
    }
   ],
   "source": [
    "trait = add_trait(\n",
    "    key=trait_key,\n",
    "    founder_pop=founder_pop,\n",
    "    n_qtl_per_chr=6,\n",
    "    mean=jnp.array([0.0]),\n",
    "    var_a=jnp.array([1.0]),\n",
    "    var_d=jnp.array([0.0]),\n",
    "    sigma=jnp.array([[1.0]], dtype=jnp.float32),\n",
    ")\n",
    "\n",
    "print(f'Total QTL sampled: {trait.qtl_effects.shape[0]}')\n",
    "print(f'Trait intercept: {float(trait.intercept[0]):.3f}')"
   ]
  },
  {
   "cell_type": "code",
   "execution_count": 7,
   "id": "e8500e4b",
   "metadata": {},
   "outputs": [
    {
     "data": {
      "text/html": [
       "<div>\n",
       "<style scoped>\n",
       "    .dataframe tbody tr th:only-of-type {\n",
       "        vertical-align: middle;\n",
       "    }\n",
       "\n",
       "    .dataframe tbody tr th {\n",
       "        vertical-align: top;\n",
       "    }\n",
       "\n",
       "    .dataframe thead th {\n",
       "        text-align: right;\n",
       "    }\n",
       "</style>\n",
       "<table border=\"1\" class=\"dataframe\">\n",
       "  <thead>\n",
       "    <tr style=\"text-align: right;\">\n",
       "      <th></th>\n",
       "      <th>mean</th>\n",
       "      <th>std</th>\n",
       "    </tr>\n",
       "  </thead>\n",
       "  <tbody>\n",
       "    <tr>\n",
       "      <th>phenotype</th>\n",
       "      <td>-0.108091</td>\n",
       "      <td>1.537079</td>\n",
       "    </tr>\n",
       "    <tr>\n",
       "      <th>tbv</th>\n",
       "      <td>-0.173355</td>\n",
       "      <td>1.010582</td>\n",
       "    </tr>\n",
       "  </tbody>\n",
       "</table>\n",
       "</div>"
      ],
      "text/plain": [
       "               mean       std\n",
       "phenotype -0.108091  1.537079\n",
       "tbv       -0.173355  1.010582"
      ]
     },
     "metadata": {},
     "output_type": "display_data"
    },
    {
     "name": "stdout",
     "output_type": "stream",
     "text": [
      "Correlation (phenotype, TBV): 0.693\n"
     ]
    },
    {
     "data": {
      "image/png": "[encoded data removed]",
      "text/plain": [
       "<Figure size 600x400 with 1 Axes>"
      ]
     },
     "metadata": {},
     "output_type": "display_data"
    }
   ],
   "source": [
    "heritability = jnp.array([0.4], dtype=jnp.float32)\n",
    "phenotypes, tbv = calculate_phenotypes(\n",
    "    key=pheno_key,\n",
    "    population=founder_pop,\n",
    "    trait=trait,\n",
    "    heritability=heritability,\n",
    ")\n",
    "\n",
    "results = pd.DataFrame({\n",
    "    'phenotype': np.asarray(phenotypes[:, 0]),\n",
    "    'tbv': np.asarray(tbv[:, 0]),\n",
    "})\n",
    "\n",
    "display(results.describe().T[['mean', 'std']])\n",
    "print(f\"Correlation (phenotype, TBV): {results.corr().loc['phenotype', 'tbv']:.3f}\")\n",
    "\n",
    "plt.figure(figsize=(6, 4))\n",
    "plt.scatter(results['tbv'], results['phenotype'], alpha=0.6)\n",
    "plt.xlabel('True breeding value')\n",
    "plt.ylabel('Phenotype')\n",
    "plt.title('Baseline additive trait architecture')\n",
    "plt.grid(True, alpha=0.3)\n",
    "plt.tight_layout()"
   ]
  }
 ],
 "metadata": {
  "kernelspec": {
   "display_name": "Python 3",
   "language": "python",
   "name": "python3"
  },
  "language_info": {
   "codemirror_mode": {
    "name": "ipython",
    "version": 3
   },
   "file_extension": ".py",
   "mimetype": "text/x-python",
   "name": "python",
   "nbconvert_exporter": "python",
   "pygments_lexer": "ipython3",
   "version": "3.10.12"
  }
 },
 "nbformat": 4,
 "nbformat_minor": 5
}
