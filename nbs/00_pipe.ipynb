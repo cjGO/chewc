{
 "cells": [
  {
   "cell_type": "markdown",
   "metadata": {},
   "source": [
    "# pipe\n",
    "\n",
    "> Common operations around the core datastructures for running a sim"
   ]
  },
  {
   "cell_type": "code",
   "execution_count": null,
   "metadata": {},
   "outputs": [],
   "source": [
    "#| default_exp pipe"
   ]
  },
  {
   "cell_type": "code",
   "execution_count": null,
   "metadata": {},
   "outputs": [],
   "source": [
    "#| hide\n",
    "from nbdev.showdoc import *"
   ]
  },
  {
   "cell_type": "code",
   "execution_count": null,
   "metadata": {},
   "outputs": [],
   "source": [
    "#| export\n",
    "\n",
    "import jax\n",
    "import jax.numpy as jnp\n",
    "from jaxtyping import Array, Float\n",
    "\n",
    "from chewc.population import Population\n",
    "from chewc.sp import SimParam\n",
    "from chewc.pheno import set_pheno\n",
    "\n",
    "def update_pop_values(\n",
    "    key: jax.random.PRNGKey, \n",
    "    pop: Population, \n",
    "    sp: SimParam, \n",
    "    h2: Float[Array, \"nTraits\"]\n",
    ") -> Population:\n",
    "    \"\"\"\n",
    "    Calculates genetic and phenotypic values for a new population.\n",
    "\n",
    "    This is a common pipeline step after creating progeny, who are born\n",
    "    with only genotypic information.\n",
    "\n",
    "    Args:\n",
    "        key: A JAX random key for phenotypic noise generation.\n",
    "        pop: The population of new individuals (e.g., progeny).\n",
    "        sp: The simulation parameters, containing trait information.\n",
    "        h2: The heritability for the trait(s) being phenotyped.\n",
    "\n",
    "    Returns:\n",
    "        A new Population object with updated bv and pheno attributes.\n",
    "    \"\"\"\n",
    "    # Use the existing JIT-compatible function from the pheno module\n",
    "    # This will calculate gv (and thus bv) and then the phenotype.\n",
    "    pop_with_values = set_pheno(key, pop, sp.traits, sp.ploidy, h2=h2)\n",
    "    return pop_with_values\n"
   ]
  },
  {
   "cell_type": "code",
   "execution_count": null,
   "metadata": {},
   "outputs": [],
   "source": [
    "#| hide\n",
    "import nbdev; nbdev.nbdev_export()"
   ]
  }
 ],
 "metadata": {
  "kernelspec": {
   "display_name": "python3",
   "language": "python",
   "name": "python3"
  }
 },
 "nbformat": 4,
 "nbformat_minor": 4
}
