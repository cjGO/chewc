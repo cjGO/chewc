{
 "cells": [
  {
   "cell_type": "code",
   "execution_count": 1,
   "id": "3cac6389",
   "metadata": {},
   "outputs": [],
   "source": [
    "#| default_exp k_fused"
   ]
  },
  {
   "cell_type": "markdown",
   "id": "320c9b42",
   "metadata": {},
   "source": []
  },
  {
   "cell_type": "code",
   "execution_count": 2,
   "id": "b35a5a82",
   "metadata": {},
   "outputs": [],
   "source": [
    "#| export\n",
    "# chewc/_src/sim/generation_step.py\n",
    "from __future__ import annotations\n",
    "from functools import partial\n",
    "import jax, jax.numpy as jnp\n",
    "from jax import random\n",
    "from chewc.k_pheno import set_pheno_kernel\n",
    "from chewc.k_select import select_topk, score_from_bv_pheno\n",
    "from chewc.k_cross import make_cross_plan, clonal_progeny_from_parents\n",
    "\n",
    "@partial(jax.jit, static_argnames=(\"config\",))\n",
    "def generation_step(state, sp, config, h2, trait_effects):\n",
    "    \"\"\"\n",
    "    One fused generation step:\n",
    "      1) phenotype current actives\n",
    "      2) metrics on current actives\n",
    "      3) select parents (top-k)\n",
    "      4) make progeny (clonal now)\n",
    "      5) write slice\n",
    "      6) advance pointers\n",
    "    Returns: (new_state, metrics_tuple)\n",
    "    \"\"\"\n",
    "    key = state.key\n",
    "    key, k_pheno, k_sel = random.split(key, 3)\n",
    "\n",
    "    # 1) phenotype current actives\n",
    "    bv, pheno = set_pheno_kernel(\n",
    "        k_pheno, state.geno, state.is_active, trait_effects, sp.ploidy, h2\n",
    "    )\n",
    "\n",
    "    # 2) metrics on current actives (before we overwrite actives)\n",
    "    active = state.is_active\n",
    "    ph_act = jnp.where(active[:, None], pheno, jnp.nan)\n",
    "    mean_ph = jnp.nanmean(ph_act, axis=0)   # (T,)\n",
    "    var_ph  = jnp.nanvar(ph_act, axis=0)    # (T,)\n",
    "\n",
    "    # 3) select parents via top-k on chosen score\n",
    "    scores = score_from_bv_pheno(bv=bv, pheno=pheno, is_active=active, use=\"pheno\", trait_idx=0)\n",
    "    parent_idx = select_topk(scores, config.n_select)\n",
    "\n",
    "    # 4) make progeny (clonal for now)\n",
    "    mothers, fathers = make_cross_plan(k_sel, parent_idx, config.population_size)\n",
    "    prog_geno, prog_ibd = clonal_progeny_from_parents(state.geno, state.ibd, mothers, fathers)\n",
    "\n",
    "    # 5) write slice for the new cohort\n",
    "    start = state.write_pos\n",
    "    end   = start + config.population_size\n",
    "\n",
    "    geno2  = state.geno.at[start:end].set(prog_geno)\n",
    "    ibd2   = state.ibd.at[start:end].set(prog_ibd)\n",
    "    # reset pheno/bv for fresh cohort (they’ll be phenotyped next gen)\n",
    "    bv2    = state.bv.at[start:end].set(jnp.nan)\n",
    "    ph2    = state.pheno.at[start:end].set(jnp.nan)\n",
    "\n",
    "    # set pedigree/ids/gen\n",
    "    new_ids = jnp.arange(state.next_id, state.next_id + config.population_size, dtype=state.id.dtype)\n",
    "    id2     = state.id.at[start:end].set(new_ids)\n",
    "    mother2 = state.mother.at[start:end].set(state.id[mothers])\n",
    "    father2 = state.father.at[start:end].set(state.id[fathers])\n",
    "    gen2    = state.gen.at[start:end].set(state.gen_idx + 1)  # generation counter\n",
    "\n",
    "    # activate only this slice\n",
    "    act2 = jnp.zeros_like(state.is_active, dtype=bool).at[start:end].set(True)\n",
    "\n",
    "    new_state = state.replace(\n",
    "        geno=geno2, ibd=ibd2, bv=bv2, pheno=ph2,\n",
    "        id=id2, mother=mother2, father=father2, gen=gen2,\n",
    "        is_active=act2,\n",
    "        key=key,\n",
    "        write_pos=(end % config.max_pop_size),\n",
    "        gen_idx=state.gen_idx + 1,\n",
    "        next_id=state.next_id + config.population_size,\n",
    "    )\n",
    "    metrics = (mean_ph, var_ph)\n",
    "    return new_state, metrics\n"
   ]
  },
  {
   "cell_type": "code",
   "execution_count": 3,
   "id": "af484363",
   "metadata": {},
   "outputs": [],
   "source": [
    "#| hide\n",
    "import nbdev; nbdev.nbdev_export()"
   ]
  },
  {
   "cell_type": "code",
   "execution_count": null,
   "id": "a4dcd06c",
   "metadata": {},
   "outputs": [],
   "source": []
  }
 ],
 "metadata": {
  "kernelspec": {
   "display_name": "Python 3",
   "language": "python",
   "name": "python3"
  },
  "language_info": {
   "codemirror_mode": {
    "name": "ipython",
    "version": 3
   },
   "file_extension": ".py",
   "mimetype": "text/x-python",
   "name": "python",
   "nbconvert_exporter": "python",
   "pygments_lexer": "ipython3",
   "version": "3.10.12"
  }
 },
 "nbformat": 4,
 "nbformat_minor": 5
}
