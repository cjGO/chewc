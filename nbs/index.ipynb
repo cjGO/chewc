{
 "cells": [
  {
   "cell_type": "code",
   "execution_count": null,
   "metadata": {},
   "outputs": [],
   "source": [
    "# | hide\n",
    "# from chewc.core import *\n",
    "# from chewc.pop import *\n",
    "# from chewc.sp import *\n",
    "# from chewc.trait import *"
   ]
  },
  {
   "cell_type": "markdown",
   "metadata": {},
   "source": [
    "# chewc\n",
    "\n",
    "> JAX breeding sim"
   ]
  },
  {
   "cell_type": "markdown",
   "metadata": {},
   "source": [
    "## Developer Guide"
   ]
  },
  {
   "cell_type": "markdown",
   "metadata": {},
   "source": [
    "If you are new to using `nbdev` here are some useful pointers to get you started."
   ]
  },
  {
   "cell_type": "markdown",
   "metadata": {},
   "source": [
    "### Install chewc in Development mode"
   ]
  },
  {
   "cell_type": "markdown",
   "metadata": {},
   "source": [
    "```sh\n",
    "# make sure chewc package is installed in development mode\n",
    "$ pip install -e .\n",
    "\n",
    "# make changes under nbs/ directory\n",
    "# ...\n",
    "\n",
    "# compile to have changes apply to chewc\n",
    "$ nbdev_prepare\n",
    "```"
   ]
  },
  {
   "cell_type": "markdown",
   "metadata": {},
   "source": [
    "## Usage"
   ]
  },
  {
   "cell_type": "markdown",
   "metadata": {},
   "source": [
    "### Installation"
   ]
  },
  {
   "cell_type": "markdown",
   "metadata": {},
   "source": [
    "Install latest from the GitHub [repository][repo]:\n",
    "\n",
    "```sh\n",
    "$ pip install git+https://github.com/cjGO/chewc.git\n",
    "```\n",
    "\n",
    "\n",
    "[repo]: https://github.com/cjGO/chewc\n",
    "[docs]: https://cjGO.github.io/chewc/\n",
    "[pypi]: https://pypi.org/project/chewc/\n",
    "[conda]: https://anaconda.org/cjGO/chewc"
   ]
  },
  {
   "cell_type": "markdown",
   "metadata": {},
   "source": [
    "### Documentation"
   ]
  },
  {
   "cell_type": "markdown",
   "metadata": {},
   "source": [
    "Documentation can be found hosted on this GitHub [repository][repo]'s [pages][docs].\n",
    "\n",
    "[repo]: https://github.com/cjGO/chewc\n",
    "[docs]: https://cjGO.github.io/chewc/"
   ]
  },
  {
   "cell_type": "markdown",
   "metadata": {},
   "source": [
    "## How to use"
   ]
  },
  {
   "cell_type": "code",
   "execution_count": null,
   "metadata": {},
   "outputs": [
    {
     "name": "stdout",
     "output_type": "stream",
     "text": [
      "\n",
      "--- Starting Burn-in Phenotypic Selection (20 Generations) ---\n",
      "Generation  1/20 | Mean Phenotype: 9.8385\n",
      "Generation  2/20 | Mean Phenotype: 9.9082\n",
      "Generation  3/20 | Mean Phenotype: 9.7989\n",
      "Generation  4/20 | Mean Phenotype: 9.9779\n",
      "Generation  5/20 | Mean Phenotype: 9.6955\n",
      "Generation  6/20 | Mean Phenotype: 9.5632\n",
      "Generation  7/20 | Mean Phenotype: 9.6790\n",
      "Generation  8/20 | Mean Phenotype: 9.7858\n",
      "Generation  9/20 | Mean Phenotype: 9.9831\n",
      "Generation 10/20 | Mean Phenotype: 10.0481\n",
      "Generation 11/20 | Mean Phenotype: 9.9873\n",
      "Generation 12/20 | Mean Phenotype: 9.9383\n",
      "Generation 13/20 | Mean Phenotype: 10.2945\n",
      "Generation 14/20 | Mean Phenotype: 10.4920\n",
      "Generation 15/20 | Mean Phenotype: 10.5587\n",
      "Generation 16/20 | Mean Phenotype: 10.7865\n",
      "Generation 17/20 | Mean Phenotype: 10.6711\n",
      "Generation 18/20 | Mean Phenotype: 10.5779\n",
      "Generation 19/20 | Mean Phenotype: 10.9127\n",
      "Generation 20/20 | Mean Phenotype: 11.0136\n",
      "\n",
      "--- Burn-in Complete ---\n",
      "Final population state after 20 generations of selection:\n",
      "Population(nInd=100, nTraits=0, has_ebv=No)\n"
     ]
    }
   ],
   "source": [
    "import jax\n",
    "import jax.numpy as jnp\n",
    "\n",
    "# Import the necessary classes and functions from your library\n",
    "from chewc.sp import SimParam\n",
    "from chewc.population import Population, quick_haplo\n",
    "from chewc.trait import TraitCollection, add_trait_a\n",
    "from chewc.pheno import set_pheno\n",
    "from chewc.cross import make_cross\n",
    "from chewc.pipe import update_pop_values # <-- Import from the new module\n",
    "\n",
    "# --- 1. JAX Setup ---\n",
    "key = jax.random.PRNGKey(42)\n",
    "\n",
    "# --- 2-6. (Setup code remains the same as before) ---\n",
    "# Define Genome Blueprint\n",
    "n_chr, n_loci_per_chr, ploidy = 3, 100, 2\n",
    "gen_map = jnp.array([jnp.linspace(0, 1, n_loci_per_chr) for _ in range(n_chr)])\n",
    "centromeres = jnp.full(n_chr, 0.5)\n",
    "\n",
    "# Instantiate SimParam\n",
    "SP = SimParam(gen_map=gen_map, centromere=centromeres, ploidy=ploidy)\n",
    "\n",
    "# Create Founder Population\n",
    "key, pop_key = jax.random.split(key)\n",
    "founder_pop = quick_haplo(key=pop_key, sim_param=SP, n_ind=100, inbred=False)\n",
    "SP = SP.replace(founderPop=founder_pop)\n",
    "\n",
    "# Add Single Additive Trait\n",
    "key, trait_key = jax.random.split(key)\n",
    "SP_with_trait = add_trait_a(\n",
    "    key=trait_key,\n",
    "    sim_param=SP,\n",
    "    n_qtl_per_chr=100,\n",
    "    mean=jnp.array([10.0]),\n",
    "    var=jnp.array([1.5])\n",
    ")\n",
    "\n",
    "# Set Initial Phenotypes\n",
    "key, pheno_key = jax.random.split(key)\n",
    "h2 = jnp.array([0.9])\n",
    "founder_pop_with_pheno = set_pheno(\n",
    "    key=pheno_key,\n",
    "    pop=founder_pop,\n",
    "    traits=SP_with_trait.traits,\n",
    "    ploidy=SP_with_trait.ploidy,\n",
    "    h2=h2\n",
    ")\n",
    "\n",
    "# --- 8. Burn-in Selection for 20 Generations ---\n",
    "print(\"\\n--- Starting Burn-in Phenotypic Selection (20 Generations) ---\")\n",
    "\n",
    "pop_burn_in = founder_pop_with_pheno\n",
    "sp_burn_in = SP_with_trait\n",
    "\n",
    "# Selection parameters\n",
    "n_males_select = 10\n",
    "n_females_select = 25\n",
    "n_progeny = 100\n",
    "\n",
    "for gen in range(20):\n",
    "    key, sel_key, cross_key, update_key = jax.random.split(key, 4)\n",
    "\n",
    "    # Selection\n",
    "    male_indices = jnp.where(pop_burn_in.sex == 0, jnp.arange(pop_burn_in.nInd), pop_burn_in.nInd)\n",
    "    female_indices = jnp.where(pop_burn_in.sex == 1, jnp.arange(pop_burn_in.nInd), pop_burn_in.nInd)\n",
    "    phenotypes = pop_burn_in.pheno[:, 0]\n",
    "    sorted_indices = jnp.argsort(phenotypes)[::-1]\n",
    "    top_males = jnp.intersect1d(sorted_indices, male_indices)[:n_males_select]\n",
    "    top_females = jnp.intersect1d(sorted_indices, female_indices)[:n_females_select]\n",
    "\n",
    "    # Mating\n",
    "    mother_iids = jax.random.choice(sel_key, top_females, shape=(n_progeny,))\n",
    "    key, sel_key = jax.random.split(sel_key)\n",
    "    father_iids = jax.random.choice(sel_key, top_males, shape=(n_progeny,))\n",
    "    cross_plan = jnp.stack([mother_iids, father_iids], axis=1)\n",
    "\n",
    "    # Create Next Generation\n",
    "    progeny_pop = make_cross(cross_key, pop_burn_in, cross_plan, sp_burn_in)\n",
    "    \n",
    "    # Update Values for the New Generation using the pipeline function\n",
    "    pop_burn_in = update_pop_values(update_key, progeny_pop, sp_burn_in, h2=h2)\n",
    "\n",
    "    # Track Progress\n",
    "    mean_pheno = jnp.mean(pop_burn_in.pheno)\n",
    "    print(f\"Generation {gen + 1:2d}/{20} | Mean Phenotype: {mean_pheno:.4f}\")\n",
    "\n",
    "print(\"\\n--- Burn-in Complete ---\")\n",
    "print(\"Final population state after 20 generations of selection:\")\n",
    "print(pop_burn_in)\n"
   ]
  },
  {
   "cell_type": "code",
   "execution_count": null,
   "metadata": {},
   "outputs": [],
   "source": []
  }
 ],
 "metadata": {
  "kernelspec": {
   "display_name": "python3",
   "language": "python",
   "name": "python3"
  }
 },
 "nbformat": 4,
 "nbformat_minor": 4
}
