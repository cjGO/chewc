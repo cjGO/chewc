{
 "cells": [
  {
   "cell_type": "code",
   "execution_count": 15,
   "id": "3cac6389",
   "metadata": {},
   "outputs": [],
   "source": [
    "#| default_exp structs"
   ]
  },
  {
   "cell_type": "markdown",
   "id": "320c9b42",
   "metadata": {},
   "source": []
  },
  {
   "cell_type": "code",
   "execution_count": 1,
   "id": "599d71c8",
   "metadata": {},
   "outputs": [],
   "source": [
    "#| export\n",
    "from typing import List, Optional, Dict, Callable, Any\n",
    "\n",
    "import jax\n",
    "import jax.numpy as jnp\n",
    "\n",
    "from typing import Tuple\n",
    "from numpy.random import default_rng\n",
    "import msprime\n",
    "import tskit\n",
    "import numpy as np\n",
    "import random\n",
    "from collections import defaultdict\n",
    "from flax.struct import dataclass as flax_dataclass, field\n",
    "\n",
    "#testing\n",
    "import jax\n",
    "import jax.numpy as jnp\n",
    "from fastcore.test import test_eq, test_ne\n",
    "\n",
    "\n",
    "import jax.numpy as jnp\n",
    "from flax.struct import dataclass as flax_dataclass, field\n",
    "from typing import List, Optional, TYPE_CHECKING\n",
    "from typing import Optional, TYPE_CHECKING\n",
    "\n",
    "# No need for cached_property anymore for these core attributes\n",
    "# from functools import cached_property\n",
    "\n",
    "import jax.numpy as jnp\n",
    "from flax.struct import dataclass as flax_dataclass, field\n",
    "from typing import List, Optional, TYPE_CHECKING"
   ]
  },
  {
   "cell_type": "code",
   "execution_count": 2,
   "id": "b35a5a82",
   "metadata": {},
   "outputs": [],
   "source": [
    "#| export\n",
    "# chewc/structs.py\n",
    "\n",
    "\n",
    "@flax_dataclass(frozen=True)\n",
    "class SimParam:\n",
    "    \"\"\"\n",
    "    Global, run-constant parameters & metadata.\n",
    "    Keep only JAX-compatible fields (arrays, tuples, scalars).\n",
    "    \"\"\"\n",
    "    gen_map: jnp.ndarray           # (n_chr, loci_per_chr or ragged handled upstream)\n",
    "    ploidy: int\n",
    "    traits: Optional[Any] = None   # e.g., TraitCollection\n",
    "    recomb_params: tuple = (2.6, 0.0, 0.0)\n",
    "    var_e: Optional[jnp.ndarray] = None\n",
    "\n",
    "@flax_dataclass(frozen=True)\n",
    "class Population:\n",
    "    \"\"\"\n",
    "    User-facing container for population data (setup & analysis).\n",
    "    The JIT carry uses SimState (internal) instead.\n",
    "    \"\"\"\n",
    "    # Core genotype/IBD\n",
    "    geno: jnp.ndarray              # (max_pop, n_chr, ploidy, n_loci)\n",
    "    ibd: jnp.ndarray               # same shape as geno\n",
    "\n",
    "    # IDs & pedigree\n",
    "    id: jnp.ndarray                # (max_pop,)\n",
    "    iid: jnp.ndarray               # (max_pop,)\n",
    "    mother: jnp.ndarray            # (max_pop,)\n",
    "    father: jnp.ndarray            # (max_pop,)\n",
    "    sex: jnp.ndarray               # (max_pop,)\n",
    "    gen: jnp.ndarray               # (max_pop,)\n",
    "\n",
    "    # Phenotypes & flags\n",
    "    pheno: jnp.ndarray             # (max_pop, n_traits)\n",
    "    fixEff: jnp.ndarray            # (max_pop, n_fixeff) or (max_pop,)\n",
    "    is_active: jnp.ndarray         # (max_pop,) bool\n",
    "\n",
    "    # Optional genetic values\n",
    "    gv: Optional[jnp.ndarray] = None\n",
    "    bv: Optional[jnp.ndarray] = None\n",
    "    dd: Optional[jnp.ndarray] = None\n",
    "    aa: Optional[jnp.ndarray] = None\n",
    "    ebv: Optional[jnp.ndarray] = None\n",
    "\n",
    "    # Non-pytree metadata\n",
    "    misc: Optional[Dict[str, Any]] = field(default=None, pytree_node=False)\n",
    "    miscPop: Optional[Dict[str, Any]] = field(default=None, pytree_node=False)\n",
    "\n",
    "    @property\n",
    "    def nInd(self) -> int:\n",
    "        # host-side convenience; fine if not used in JIT\n",
    "        return int(jnp.sum(self.is_active))"
   ]
  },
  {
   "cell_type": "code",
   "execution_count": 3,
   "id": "af484363",
   "metadata": {},
   "outputs": [],
   "source": [
    "#| hide\n",
    "import nbdev; nbdev.nbdev_export()"
   ]
  },
  {
   "cell_type": "code",
   "execution_count": null,
   "id": "4f6c2bd2",
   "metadata": {},
   "outputs": [],
   "source": []
  }
 ],
 "metadata": {
  "kernelspec": {
   "display_name": "Python 3",
   "language": "python",
   "name": "python3"
  },
  "language_info": {
   "codemirror_mode": {
    "name": "ipython",
    "version": 3
   },
   "file_extension": ".py",
   "mimetype": "text/x-python",
   "name": "python",
   "nbconvert_exporter": "python",
   "pygments_lexer": "ipython3",
   "version": "3.10.12"
  }
 },
 "nbformat": 4,
 "nbformat_minor": 5
}
