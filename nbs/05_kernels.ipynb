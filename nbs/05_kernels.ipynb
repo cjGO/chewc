{
 "cells": [
  {
   "cell_type": "code",
   "execution_count": 1,
   "id": "3cac6389",
   "metadata": {},
   "outputs": [],
   "source": [
    "#| default_exp kernels"
   ]
  },
  {
   "cell_type": "markdown",
   "id": "320c9b42",
   "metadata": {},
   "source": []
  },
  {
   "cell_type": "code",
   "execution_count": 2,
   "id": "599d71c8",
   "metadata": {},
   "outputs": [],
   "source": [
    "#| export\n",
    "import jax\n",
    "import jax.numpy as jnp\n",
    "from fastcore.test import test_eq, test_ne\n",
    "from functools import partial\n",
    "\n",
    "from flax.struct import dataclass as flax_dataclass\n",
    "from chewc.config import SimConfig\n",
    "from chewc.structs import Population, SimParam"
   ]
  },
  {
   "cell_type": "code",
   "execution_count": 3,
   "id": "b35a5a82",
   "metadata": {},
   "outputs": [],
   "source": [
    "#| export\n",
    "def compute_dosage(geno, is_active):\n",
    "    \"\"\"\n",
    "    Computes dosage for all individuals, masking inactive ones.\n",
    "    This is JIT-compatible because it preserves the array shape.\n",
    "    \"\"\"\n",
    "    # Sum across the ploidy axis.\n",
    "    # The output shape is (max_pop, n_chr, n_loci)\n",
    "    dosage_all = jnp.sum(geno, axis=2)\n",
    "\n",
    "    # Mask inactive individuals by setting their dosage to 0 (or another sentinel value).\n",
    "    # The where clause ensures the function is traceable.\n",
    "    masked_dosage = jnp.where(is_active[:, None, None], dosage_all, 0)\n",
    "    \n",
    "    # Reshape to (max_pop, n_loci_total)\n",
    "    return masked_dosage.reshape(masked_dosage.shape[0], -1)"
   ]
  },
  {
   "cell_type": "code",
   "execution_count": 4,
   "id": "af484363",
   "metadata": {},
   "outputs": [],
   "source": [
    "#| hide\n",
    "import nbdev; nbdev.nbdev_export()"
   ]
  }
 ],
 "metadata": {
  "kernelspec": {
   "display_name": "Python 3",
   "language": "python",
   "name": "python3"
  },
  "language_info": {
   "codemirror_mode": {
    "name": "ipython",
    "version": 3
   },
   "file_extension": ".py",
   "mimetype": "text/x-python",
   "name": "python",
   "nbconvert_exporter": "python",
   "pygments_lexer": "ipython3",
   "version": "3.10.12"
  }
 },
 "nbformat": 4,
 "nbformat_minor": 5
}
