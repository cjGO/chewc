{
 "cells": [
  {
   "cell_type": "code",
   "execution_count": 25,
   "id": "c9f17104",
   "metadata": {},
   "outputs": [],
   "source": [
    "import jax\n",
    "import jax.numpy as jnp\n",
    "import time\n",
    "\n",
    "# --- 1. JAX Setup ---\n",
    "key = jax.random.PRNGKey(42)\n",
    "\n",
    "# --- 2. Imports from the 'chewc' library ---\n",
    "from chewc.sp import SimParam\n",
    "from chewc.population import Population, msprime_pop # Use msprime_pop\n",
    "from chewc.trait import add_trait_a\n",
    "from chewc.burnin import run_burnin\n",
    "# Import the generation runner\n",
    "from chewc.pipe import run_generation\n"
   ]
  },
  {
   "cell_type": "markdown",
   "id": "ad4ce21f",
   "metadata": {},
   "source": [
    "There are two functions to simulate founder genomes\n",
    "\n",
    "1) quickHaplo\n",
    "\n",
    "    this simulate a randomized population where each haplotype generated is 1/0. This creates founders with high amounts of genetic diversity and no population structure.\n",
    "\n",
    "2) msprime_pop\n",
    "\n",
    "    this function uses the msprime python library to create populations with population structures generated through a separate coalescent simulation"
   ]
  },
  {
   "cell_type": "code",
   "execution_count": 49,
   "id": "8bf8e9fb",
   "metadata": {},
   "outputs": [
    {
     "data": {
      "text/plain": [
       "Population(nInd=5, nTraits=0, has_ebv=No)"
      ]
     },
     "execution_count": 49,
     "metadata": {},
     "output_type": "execute_result"
    }
   ],
   "source": [
    "from dataclasses import field\n",
    "from typing import List, Optional, Dict, Callable\n",
    "\n",
    "from flax.struct import dataclass as flax_dataclass # Using flax's dataclass for JAX-friendliness\n",
    "import jax\n",
    "import jax.numpy as jnp\n",
    "\n",
    "# from chewc.sp import SimParam\n",
    "\n",
    "import msprime\n",
    "import tskit\n",
    "import numpy as np\n",
    "import random\n",
    "from collections import defaultdict\n",
    "\n",
    "key, pop_key = jax.random.split(key)\n",
    "nInd = 5\n",
    "nChr = 2\n",
    "segSites = 4\n",
    "\n",
    "founder_genomes = msprime_pop(pop_key, nInd, segSites, nChr)\n",
    "founder_genomes"
   ]
  },
  {
   "cell_type": "code",
   "execution_count": 50,
   "id": "54a707bb",
   "metadata": {},
   "outputs": [],
   "source": [
    "# The founder_genomes object already contains the genetic map and genotype info\n",
    "SP = SimParam(founderPop=founder_genomes)"
   ]
  },
  {
   "cell_type": "code",
   "execution_count": 51,
   "id": "874e3baf",
   "metadata": {},
   "outputs": [
    {
     "data": {
      "text/plain": [
       "SimParam(nChr=2, nTraits=0, ploidy=2, sexes='no')"
      ]
     },
     "execution_count": 51,
     "metadata": {},
     "output_type": "execute_result"
    }
   ],
   "source": [
    "SP"
   ]
  },
  {
   "cell_type": "code",
   "execution_count": 52,
   "id": "f433adbe",
   "metadata": {},
   "outputs": [
    {
     "data": {
      "text/plain": [
       "Population(nInd=5, nTraits=0, has_ebv=No)"
      ]
     },
     "execution_count": 52,
     "metadata": {},
     "output_type": "execute_result"
    }
   ],
   "source": [
    "# Access the founder pop in the Sim Params\n",
    "SP.founderPop"
   ]
  },
  {
   "cell_type": "code",
   "execution_count": 53,
   "id": "2ea88df0",
   "metadata": {},
   "outputs": [
    {
     "data": {
      "text/plain": [
       "5"
      ]
     },
     "execution_count": 53,
     "metadata": {},
     "output_type": "execute_result"
    }
   ],
   "source": [
    "# Get the number of individuals in the founder pop\n",
    "SP.founderPop.nInd"
   ]
  },
  {
   "cell_type": "code",
   "execution_count": 54,
   "id": "5359acfa",
   "metadata": {},
   "outputs": [
    {
     "data": {
      "text/plain": [
       "Array([0, 1, 2, 3, 4], dtype=int32)"
      ]
     },
     "execution_count": 54,
     "metadata": {},
     "output_type": "execute_result"
    }
   ],
   "source": [
    "# Get the individual ID's \n",
    "SP.founderPop.id"
   ]
  },
  {
   "cell_type": "code",
   "execution_count": 55,
   "id": "5f986887",
   "metadata": {},
   "outputs": [
    {
     "data": {
      "text/plain": [
       "2"
      ]
     },
     "execution_count": 55,
     "metadata": {},
     "output_type": "execute_result"
    }
   ],
   "source": [
    "SP.founderPop.nChr"
   ]
  },
  {
   "cell_type": "code",
   "execution_count": 56,
   "id": "b31767fc",
   "metadata": {},
   "outputs": [
    {
     "data": {
      "text/plain": [
       "(5, 2, 2, 4)"
      ]
     },
     "execution_count": 56,
     "metadata": {},
     "output_type": "execute_result"
    }
   ],
   "source": [
    "SP.founderPop.geno.shape"
   ]
  },
  {
   "cell_type": "code",
   "execution_count": 58,
   "id": "6dfdd1f3",
   "metadata": {},
   "outputs": [
    {
     "data": {
      "text/plain": [
       "Array([[[[1, 1, 0, 0],\n",
       "         [1, 1, 1, 0]],\n",
       "\n",
       "        [[0, 0, 0, 0],\n",
       "         [0, 1, 0, 0]]],\n",
       "\n",
       "\n",
       "       [[[1, 0, 0, 1],\n",
       "         [0, 1, 1, 0]],\n",
       "\n",
       "        [[0, 0, 0, 0],\n",
       "         [0, 0, 0, 0]]],\n",
       "\n",
       "\n",
       "       [[[1, 0, 1, 0],\n",
       "         [0, 0, 1, 0]],\n",
       "\n",
       "        [[0, 1, 1, 0],\n",
       "         [1, 0, 0, 1]]],\n",
       "\n",
       "\n",
       "       [[[0, 1, 1, 1],\n",
       "         [0, 0, 1, 0]],\n",
       "\n",
       "        [[0, 1, 1, 0],\n",
       "         [0, 0, 0, 0]]],\n",
       "\n",
       "\n",
       "       [[[1, 0, 1, 0],\n",
       "         [1, 0, 0, 0]],\n",
       "\n",
       "        [[0, 0, 1, 0],\n",
       "         [1, 1, 1, 0]]]], dtype=uint8)"
      ]
     },
     "execution_count": 58,
     "metadata": {},
     "output_type": "execute_result"
    }
   ],
   "source": [
    "SP.founderPop.geno"
   ]
  },
  {
   "cell_type": "code",
   "execution_count": 57,
   "id": "36a116f8",
   "metadata": {},
   "outputs": [
    {
     "data": {
      "text/plain": [
       "Array([[2, 2, 1, 0, 0, 1, 0, 0],\n",
       "       [1, 1, 1, 1, 0, 0, 0, 0],\n",
       "       [1, 0, 2, 0, 1, 1, 1, 1],\n",
       "       [0, 1, 2, 1, 0, 1, 1, 0],\n",
       "       [2, 0, 1, 0, 1, 1, 2, 0]], dtype=uint32)"
      ]
     },
     "execution_count": 57,
     "metadata": {},
     "output_type": "execute_result"
    }
   ],
   "source": [
    "SP.founderPop.dosage"
   ]
  },
  {
   "cell_type": "code",
   "execution_count": null,
   "id": "e0a3c7c4",
   "metadata": {},
   "outputs": [],
   "source": []
  }
 ],
 "metadata": {
  "kernelspec": {
   "display_name": "Python 3",
   "language": "python",
   "name": "python3"
  },
  "language_info": {
   "codemirror_mode": {
    "name": "ipython",
    "version": 3
   },
   "file_extension": ".py",
   "mimetype": "text/x-python",
   "name": "python",
   "nbconvert_exporter": "python",
   "pygments_lexer": "ipython3",
   "version": "3.10.12"
  }
 },
 "nbformat": 4,
 "nbformat_minor": 5
}
