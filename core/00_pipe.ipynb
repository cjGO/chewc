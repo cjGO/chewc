{
 "cells": [
  {
   "cell_type": "markdown",
   "metadata": {},
   "source": [
    "# pipe\n",
    "\n",
    "> Common operations around the core datastructures for running a sim"
   ]
  },
  {
   "cell_type": "code",
   "execution_count": null,
   "metadata": {},
   "outputs": [],
   "source": [
    "#| default_exp pipe"
   ]
  },
  {
   "cell_type": "code",
   "execution_count": null,
   "metadata": {},
   "outputs": [],
   "source": [
    "#| hide\n",
    "from nbdev.showdoc import *"
   ]
  },
  {
   "cell_type": "code",
   "execution_count": null,
   "metadata": {},
   "outputs": [],
   "source": [
    "#| export\n",
    "from dataclasses import field\n",
    "from typing import List, Optional, Dict, Callable\n",
    "\n",
    "from flax.struct import dataclass as flax_dataclass # Using flax's dataclass for JAX-friendliness\n",
    "import jax.numpy as jnp\n",
    "\n",
    "# --- Utility Functions ---\n",
    "\n",
    "def _pad_and_stack_arrays(arrays: List[jnp.ndarray], pad_value: float = jnp.nan) -> jnp.ndarray:\n",
    "    \"\"\"\n",
    "    Pads a list of JAX arrays to a uniform shape and stacks them.\n",
    "\n",
    "    This function is critical for handling data where entries can have\n",
    "    variable lengths, such as genetic maps for different chromosomes. JAX's\n",
    "    core transformations (like `vmap` for vectorization) require arrays to have\n",
    "    a uniform shape for efficient batching on accelerators (GPU/TPU). This\n",
    "    utility converts a Python list of arrays into a single, rectangular\n",
    "    JAX array that meets this requirement.\n",
    "\n",
    "    Using `jnp.nan` as the default `pad_value` is a robust choice for\n",
    "    genetic maps, as it's an unambiguous \"missing value\" marker.\n",
    "    \"\"\"\n",
    "    if not arrays:\n",
    "        return jnp.array([])\n",
    "    max_len = max(arr.shape[0] for arr in arrays)\n",
    "    padded_arrays = [\n",
    "        jnp.pad(arr, (0, max_len - arr.shape[0]), 'constant', constant_values=pad_value)\n",
    "        for arr in arrays\n",
    "    ]\n",
    "    return jnp.stack(padded_arrays)"
   ]
  },
  {
   "cell_type": "code",
   "execution_count": null,
   "metadata": {},
   "outputs": [],
   "source": [
    "#| hide\n",
    "import nbdev; nbdev.nbdev_export()"
   ]
  }
 ],
 "metadata": {
  "kernelspec": {
   "display_name": "Python 3",
   "language": "python",
   "name": "python3"
  },
  "language_info": {
   "name": "python",
   "version": "3.10.12"
  }
 },
 "nbformat": 4,
 "nbformat_minor": 4
}
