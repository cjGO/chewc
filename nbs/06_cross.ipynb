{
 "cells": [
  {
   "cell_type": "code",
   "execution_count": 7,
   "id": "3cac6389",
   "metadata": {},
   "outputs": [],
   "source": [
    "#| default_exp cross"
   ]
  },
  {
   "cell_type": "code",
   "execution_count": 8,
   "id": "c44eccfb",
   "metadata": {},
   "outputs": [],
   "source": [
    "#|export\n",
    "import jax\n",
    "import jax.numpy as jnp\n",
    "from typing import Tuple\n",
    "from chewc.meiosis import create_gamete\n",
    "from chewc.structs import GeneticMap\n",
    "\n",
    "@jax.jit\n",
    "def cross_pair(\n",
    "    key: jax.Array,\n",
    "    mother_geno: jax.Array, # Shape: (n_chr, 2, n_loci)\n",
    "    father_geno: jax.Array, # Shape: (n_chr, 2, n_loci)\n",
    "    mother_ibd: jax.Array,  # Shape: (n_chr, 2, n_loci)\n",
    "    father_ibd: jax.Array,  # Shape: (n_chr, 2, n_loci)\n",
    "    genetic_map: GeneticMap\n",
    ") -> Tuple[jax.Array, jax.Array]:\n",
    "    \"\"\"\n",
    "    Creates one diploid offspring from two parents.\n",
    "\n",
    "    Args:\n",
    "        key: The JAX PRNGKey.\n",
    "        mother_geno, father_geno: Genotype arrays for the parents.\n",
    "        mother_ibd, father_ibd: IBD arrays for the parents.\n",
    "        genetic_map: The GeneticMap object.\n",
    "\n",
    "    Returns:\n",
    "        A tuple of (offspring_geno, offspring_ibd).\n",
    "        Shape: (n_chr, 2, n_loci).\n",
    "    \"\"\"\n",
    "    key_mother, key_father = jax.random.split(key)\n",
    "    \n",
    "    # Create one gamete from each parent\n",
    "    mother_gamete_geno, mother_gamete_ibd = create_gamete(\n",
    "        key_mother, mother_geno, mother_ibd, genetic_map\n",
    "    )\n",
    "    father_gamete_geno, father_gamete_ibd = create_gamete(\n",
    "        key_father, father_geno, father_ibd, genetic_map\n",
    "    )\n",
    "    \n",
    "    # Stack the two gametes to form the diploid offspring\n",
    "    offspring_geno = jnp.stack([mother_gamete_geno, father_gamete_geno], axis=1)\n",
    "    offspring_ibd = jnp.stack([mother_gamete_ibd, father_gamete_ibd], axis=1)\n",
    "\n",
    "    return offspring_geno, offspring_ibd"
   ]
  },
  {
   "cell_type": "markdown",
   "id": "320c9b42",
   "metadata": {},
   "source": []
  },
  {
   "cell_type": "code",
   "execution_count": 9,
   "id": "af484363",
   "metadata": {},
   "outputs": [],
   "source": [
    "#| hide\n",
    "import nbdev; nbdev.nbdev_export()"
   ]
  }
 ],
 "metadata": {
  "kernelspec": {
   "display_name": "Python 3",
   "language": "python",
   "name": "python3"
  },
  "language_info": {
   "codemirror_mode": {
    "name": "ipython",
    "version": 3
   },
   "file_extension": ".py",
   "mimetype": "text/x-python",
   "name": "python",
   "nbconvert_exporter": "python",
   "pygments_lexer": "ipython3",
   "version": "3.10.12"
  }
 },
 "nbformat": 4,
 "nbformat_minor": 5
}
