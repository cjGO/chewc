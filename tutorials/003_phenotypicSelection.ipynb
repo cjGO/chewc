{
 "cells": [
  {
   "cell_type": "code",
   "execution_count": null,
   "id": "aa2bcdab",
   "metadata": {},
   "outputs": [],
   "source": [
    "import jax\n",
    "import jax.numpy as jnp\n",
    "from chewc.population import quick_haplo\n",
    "from chewc.sp import SimParam\n",
    "from chewc.trait import add_trait_a\n",
    "from chewc.phenotype import set_pheno\n",
    "from chewc.cross import make_cross\n",
    "from chewc.predict import gblup_predict\n",
    "from chewc.population import combine_populations, Population\n",
    "import matplotlib.pyplot as plt\n",
    "from chewc.population import quick_haplo, combine_populations, Population, subset_population # Add subset_population\n"
   ]
  },
  {
   "cell_type": "code",
   "execution_count": null,
   "id": "37ab5d58",
   "metadata": {},
   "outputs": [],
   "source": []
  },
  {
   "cell_type": "code",
   "execution_count": null,
   "id": "fc04e816",
   "metadata": {},
   "outputs": [],
   "source": []
  }
 ],
 "metadata": {
  "kernelspec": {
   "display_name": "Python 3",
   "language": "python",
   "name": "python3"
  },
  "language_info": {
   "codemirror_mode": {
    "name": "ipython",
    "version": 3
   },
   "file_extension": ".py",
   "mimetype": "text/x-python",
   "name": "python",
   "nbconvert_exporter": "python",
   "pygments_lexer": "ipython3",
   "version": "3.10.12"
  }
 },
 "nbformat": 4,
 "nbformat_minor": 5
}
